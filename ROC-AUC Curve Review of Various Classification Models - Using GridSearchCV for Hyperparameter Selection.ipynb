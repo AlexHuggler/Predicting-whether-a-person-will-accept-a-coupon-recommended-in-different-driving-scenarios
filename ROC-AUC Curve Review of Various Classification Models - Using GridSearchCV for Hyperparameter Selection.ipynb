{
 "cells": [
  {
   "cell_type": "markdown",
   "id": "elder-philip",
   "metadata": {},
   "source": [
    "# Classification - Predicting whether a person will accept the coupon recommended to them in different driving scenarios  (Fall 2021 ML Model Project)   \n",
    "\n",
    "## By Alex John Huggler\n",
    "\n",
    "\n",
    "  \n",
    "    \n",
    "      \n",
    "      \n",
    "\n",
    "\n",
    "\n",
    "\n",
    "\n",
    "<div class=\"alert alert-block alert-success\">\n",
    "<br></b> The in-vehicle coupon recommendation dataset was sourced from UCI Machine learning repository.  </br>\n",
    "    <br><a href=\"https://archive.ics.uci.edu/ml/datasets/in-vehicle+coupon+recommendation\">UCI Machine learning repository - in vehicle coupon recommendation dataset</a>\n",
    "</div>\n",
    "\n",
    "\n",
    "\n",
    "\n",
    "\n",
    "\n",
    "\n",
    "\n"
   ]
  },
  {
   "cell_type": "markdown",
   "id": "vital-company",
   "metadata": {},
   "source": [
    "## Context of the document : \n",
    "    \n",
    "    1. Data Description \n",
    "    2. Classification Project Summary\n",
    "    3. Data Preprocessing Summary\n",
    "    4. Data Cleaning and Imputation\n",
    "    5. Modeling \n",
    "    6. Conclusion"
   ]
  },
  {
   "cell_type": "markdown",
   "id": "restricted-behavior",
   "metadata": {},
   "source": [
    "## 1. Data Description \n",
    "     1. destination:                   No Urgent Place, Home, Work\n",
    "     2. passanger:                     Alone, Friend(s), Kid(s), Partner (who are the passengers in the car)                                     \n",
    "     3. weather:                       Sunny, Rainy, Snowy\n",
    "     4. temperature:                   55, 80, 30\n",
    "     5. time:                          2PM, 10AM, 6PM, 7AM, 10PM\n",
    "     6. coupon:                        Restaurant(<$20), Coffee House, Carry out & Take away, Bar, Restaurant($20-$50)\n",
    "     7. expiration:                    1d, 2h (the coupon expires in 1 day or in 2 hours)\n",
    "                                       \n",
    "     8. gender:                        Female, Male\n",
    "     9. age:                           21, 46, 26, 31, 41, 50plus, 36, below21\n",
    "                                       \n",
    "    10. maritalStatus:                 Unmarried partner, Single, Married partner, Divorced, Widowed\n",
    "    11. has_Children:                  1, 0\n",
    "    12. education:                     Some college - no degree, Bachelors degree, Associates degree, High School Graduate,  \n",
    "                                       Graduate degree (Masters or Doctorate), Some High School\n",
    "    \n",
    "    \n",
    "                                       \n",
    "    13. occupation:                    Unemployed, Architecture & Engineering, Student,\n",
    "                                       Education&Training&Library, Healthcare Support,\n",
    "                                       Healthcare Practitioners & Technical, Sales & Related, Management,\n",
    "                                       Arts Design Entertainment Sports & Media, Computer & Mathematical,\n",
    "                                       Life Physical Social Science, Personal Care & Service,\n",
    "                                       Community & Social Services, Office & Administrative Support,\n",
    "                                       Construction & Extraction, Legal, Retired,\n",
    "                                       Installation Maintenance & Repair, Transportation & Material Moving,\n",
    "                                       Business & Financial, Protective Service,\n",
    "                                       Food Preparation & Serving Related, Production Occupations,\n",
    "                                       Building & Grounds Cleaning & Maintenance, Farming Fishing & Forestry\n",
    "                                       \n",
    "    14. income:                        $37500 - $49999, $62500 - $74999, $12500 - $24999, $75000 - $87499,\n",
    "                                       $50000 - $62499, $25000 - $37499, $100000 or More, $87500 - $99999, Less than $12500\n",
    "                                       \n",
    "    15. Bar:                           never, less1, 1~3, gt8, nan4~8 (feature meaning: how many times do you go to a bar  \n",
    "                                       every month?)\n",
    "    \n",
    "    16. CoffeeHouse:                   never, less1, 4~8, 1~3, gt8, nan (feature meaning: how many times do you go to a  \n",
    "                                       coffeehouse every month?)\n",
    "    \n",
    "    17. CarryAway:                     n4~8, 1~3, gt8, less1, never (feature meaning: how many times do you get take-away  \n",
    "                                       food every month?)\n",
    "    \n",
    "    18. RestaurantLessThan20:          4~8, 1~3, less1, gt8, never (feature meaning: how many times do you go to a  \n",
    "                                       restaurant with an average expense per person of less than $20 every month?)\n",
    "    \n",
    "    19. Restaurant20To50:              1~3, less1, never, gt8, 4~8, nan (feature meaning: how many times do you go to a  \n",
    "                                       restaurant with average expense per person of $20 - $50 every month?)\n",
    "    \n",
    "    20. toCoupon_GEQ15min:             0,1 (feature meaning: driving distance to the restaurant/bar for using the coupon is  \n",
    "                                       greater than 15 minutes)\n",
    "    \n",
    "    21. toCoupon_GEQ25min:             0, 1 (feature meaning: driving distance to the restaurant/bar for using the coupon is  \n",
    "                                       greater than 25 minutes)\n",
    "    \n",
    "    22. direction_same:                0, 1 (feature meaning: whether the restaurant/bar is in the same direction as your  \n",
    "                                       current destination)\n",
    "    \n",
    "    23. direction_opp:                 1, 0 (feature meaning: whether the restaurant/bar is in the same direction as your  \n",
    "                                       current destination)\n",
    "                                     \n",
    "    24. Y:                             1, 0 (whether the coupon is accepted)\n",
    "                    "
   ]
  },
  {
   "cell_type": "markdown",
   "id": "drawn-delay",
   "metadata": {},
   "source": [
    "# 2. Project 1: Classification Description\n",
    "\n",
    "\n",
    "For the classification portion of this project, I decided on using the in-vehicle-coupon-recommendation data set from UC Irvine. The goal of this data set is to determine whether an individual will accept a coupon that's recommeneded to the individual, in different driving scenarios. In order to accurately determine whether a coupon was to be accepted, I decided to use KNN, Logistic Regression, Decision Tree, Kernelized Support Vector Machine, and Linear Support Vector Machine classification models. In addition, I decided on going with the AUC-ROC curve as my main classification evaluation strategy, rather than accuracy, for several reasons.\n",
    "\n",
    "The reason for using the AUC-ROC curve, was because the ROC curve is the graphical representation of the true positive rate of a classifier plotted against the false positive rate of a classifier. Since the area under the curve is the measure of the ability of a classifier to distinguish between classes, I decided that it'd be a great determiner of the quality of each model's predictions. For these reasons, the AUC score would be a more suitable evaluation strategy than accuracy. In addition to this, various tuning parameters were applied to each model and GridSearchCV was used to loop through hyperparameters, in order to effectively select the best parameters for the models."
   ]
  },
  {
   "cell_type": "code",
   "execution_count": 93,
   "id": "through-mining",
   "metadata": {},
   "outputs": [],
   "source": [
    "#Imports relevant packages and sets path\n",
    "\n",
    "import numpy as np\n",
    "import pandas as pd\n",
    "import matplotlib.pyplot as plt\n",
    "%matplotlib inline\n",
    "import seaborn as sns\n",
    "sns.set()\n",
    "\n",
    "\n",
    "import os\n",
    "os.getcwd()\n",
    "os.chdir('C:/Users/12108/Desktop/UT Dallas Spring 2021/BUAN 6341/Project 1')"
   ]
  },
  {
   "cell_type": "code",
   "execution_count": 2,
   "id": "printable-morgan",
   "metadata": {},
   "outputs": [],
   "source": [
    "classdata = pd.read_csv(r'C:\\Users\\12108\\Desktop\\UT Dallas Spring 2021\\BUAN 6341\\Project 1\\in-vehicle-coupon-recommendation.csv')"
   ]
  },
  {
   "cell_type": "markdown",
   "id": "saved-gothic",
   "metadata": {},
   "source": [
    "## 3. Data Preprocessing Summary\n",
    "\n",
    "For data preprocessing, the only item adjusted prior to placing np.nan values into our data, was the removal of the column 'cars', as it had only 108 non-null values. The lack of values in this column, made it impossible to decipher what the make up of the column's values could be. Therefore, the column was dropped.  \n",
    "  \n",
    "In addition to this, 16,007 null values were added to the data set, to allow for preprocessing practice, which accounted for 5% of the 317,100 total values in the data set. The nulls were spread across 8 separate columns, which contained categorical and numeric variables. Histograms were then used to evaluate distributions of values in columns to decide what method would be best for imputing the null values. After having imputed each column, one-hot encording was then used to modify categorical data. As most of the data consisted of categorical data, one hot encoding increased the dimensionality of the feature set from 25 columns to 108 columns. Despite this large jump in feature columns, I believed the increase would allow a further glimpse into the nuance within the dataset, thereby allowing a more accurate prediction of coupon acceptance.\n"
   ]
  },
  {
   "cell_type": "markdown",
   "id": "bacterial-victor",
   "metadata": {},
   "source": [
    "# 4. Data Cleaning and Imputation"
   ]
  },
  {
   "cell_type": "code",
   "execution_count": 3,
   "id": "leading-orleans",
   "metadata": {
    "scrolled": false
   },
   "outputs": [
    {
     "name": "stdout",
     "output_type": "stream",
     "text": [
      "<class 'pandas.core.frame.DataFrame'>\n",
      "RangeIndex: 12684 entries, 0 to 12683\n",
      "Data columns (total 26 columns):\n",
      " #   Column                Non-Null Count  Dtype \n",
      "---  ------                --------------  ----- \n",
      " 0   destination           12684 non-null  object\n",
      " 1   passanger             12684 non-null  object\n",
      " 2   weather               12684 non-null  object\n",
      " 3   temperature           12684 non-null  int64 \n",
      " 4   time                  12684 non-null  object\n",
      " 5   coupon                12684 non-null  object\n",
      " 6   expiration            12684 non-null  object\n",
      " 7   gender                12684 non-null  object\n",
      " 8   age                   12684 non-null  object\n",
      " 9   maritalStatus         12684 non-null  object\n",
      " 10  has_children          12684 non-null  int64 \n",
      " 11  education             12684 non-null  object\n",
      " 12  occupation            12684 non-null  object\n",
      " 13  income                12684 non-null  object\n",
      " 14  car                   108 non-null    object\n",
      " 15  Bar                   12577 non-null  object\n",
      " 16  CoffeeHouse           12467 non-null  object\n",
      " 17  CarryAway             12533 non-null  object\n",
      " 18  RestaurantLessThan20  12554 non-null  object\n",
      " 19  Restaurant20To50      12495 non-null  object\n",
      " 20  toCoupon_GEQ5min      12684 non-null  int64 \n",
      " 21  toCoupon_GEQ15min     12684 non-null  int64 \n",
      " 22  toCoupon_GEQ25min     12684 non-null  int64 \n",
      " 23  direction_same        12684 non-null  int64 \n",
      " 24  direction_opp         12684 non-null  int64 \n",
      " 25  Y                     12684 non-null  int64 \n",
      "dtypes: int64(8), object(18)\n",
      "memory usage: 2.5+ MB\n"
     ]
    }
   ],
   "source": [
    "classdata.info()"
   ]
  },
  {
   "cell_type": "code",
   "execution_count": null,
   "id": "changed-figure",
   "metadata": {},
   "outputs": [],
   "source": [
    "# Drops Column \"car\" as the column consists of only 108 values, which are non-null\n",
    "classdata.drop(['car'], inplace = True, axis = 1)\n",
    "\n"
   ]
  },
  {
   "cell_type": "markdown",
   "id": "circular-inside",
   "metadata": {},
   "source": [
    "### Placece np.nan values into the dataset"
   ]
  },
  {
   "cell_type": "code",
   "execution_count": 5,
   "id": "clinical-software",
   "metadata": {},
   "outputs": [],
   "source": [
    "# Placece np.nan values into the dataset\n",
    "cols = [2, 3, 7, 8, 10, 21, 22, 23]\n",
    "np.random.seed(0)\n",
    "masking_array = np.random.randint(100, size = (classdata.shape[0], 8)) < 85\n",
    "classdata[classdata.columns[cols]] = classdata[classdata.columns[cols]].where(masking_array, np.nan)"
   ]
  },
  {
   "cell_type": "code",
   "execution_count": 6,
   "id": "blond-option",
   "metadata": {
    "scrolled": false
   },
   "outputs": [
    {
     "name": "stdout",
     "output_type": "stream",
     "text": [
      "<class 'pandas.core.frame.DataFrame'>\n",
      "RangeIndex: 12684 entries, 0 to 12683\n",
      "Data columns (total 25 columns):\n",
      " #   Column                Non-Null Count  Dtype  \n",
      "---  ------                --------------  -----  \n",
      " 0   destination           12684 non-null  object \n",
      " 1   passanger             12684 non-null  object \n",
      " 2   weather               10784 non-null  object \n",
      " 3   temperature           10793 non-null  float64\n",
      " 4   time                  12684 non-null  object \n",
      " 5   coupon                12684 non-null  object \n",
      " 6   expiration            12684 non-null  object \n",
      " 7   gender                10726 non-null  object \n",
      " 8   age                   10779 non-null  object \n",
      " 9   maritalStatus         12684 non-null  object \n",
      " 10  has_children          10769 non-null  float64\n",
      " 11  education             12684 non-null  object \n",
      " 12  occupation            12684 non-null  object \n",
      " 13  income                12684 non-null  object \n",
      " 14  Bar                   12577 non-null  object \n",
      " 15  CoffeeHouse           12467 non-null  object \n",
      " 16  CarryAway             12533 non-null  object \n",
      " 17  RestaurantLessThan20  12554 non-null  object \n",
      " 18  Restaurant20To50      12495 non-null  object \n",
      " 19  toCoupon_GEQ5min      12684 non-null  int64  \n",
      " 20  toCoupon_GEQ15min     12684 non-null  int64  \n",
      " 21  toCoupon_GEQ25min     10831 non-null  float64\n",
      " 22  direction_same        10824 non-null  float64\n",
      " 23  direction_opp         10753 non-null  float64\n",
      " 24  Y                     12684 non-null  int64  \n",
      "dtypes: float64(5), int64(3), object(17)\n",
      "memory usage: 2.4+ MB\n"
     ]
    }
   ],
   "source": [
    "classdata.info()"
   ]
  },
  {
   "cell_type": "code",
   "execution_count": 7,
   "id": "occasional-activation",
   "metadata": {},
   "outputs": [
    {
     "data": {
      "text/plain": [
       "16007"
      ]
     },
     "execution_count": 7,
     "metadata": {},
     "output_type": "execute_result"
    }
   ],
   "source": [
    "classdata.isnull().sum().sum()"
   ]
  },
  {
   "cell_type": "code",
   "execution_count": 8,
   "id": "essential-silver",
   "metadata": {},
   "outputs": [
    {
     "data": {
      "text/plain": [
       "array(['Sunny', nan, 'Rainy', 'Snowy'], dtype=object)"
      ]
     },
     "execution_count": 8,
     "metadata": {},
     "output_type": "execute_result"
    }
   ],
   "source": [
    "classdata['weather'].unique()"
   ]
  },
  {
   "cell_type": "code",
   "execution_count": 9,
   "id": "authentic-server",
   "metadata": {},
   "outputs": [
    {
     "data": {
      "text/plain": [
       "<AxesSubplot:>"
      ]
     },
     "execution_count": 9,
     "metadata": {},
     "output_type": "execute_result"
    },
    {
     "data": {
      "image/png": "[encoded data removed]",
      "text/plain": [
       "<Figure size 432x288 with 1 Axes>"
      ]
     },
     "metadata": {},
     "output_type": "display_data"
    }
   ],
   "source": [
    "classdata['weather'].hist()"
   ]
  },
  {
   "cell_type": "code",
   "execution_count": 10,
   "id": "private-toddler",
   "metadata": {},
   "outputs": [
    {
     "data": {
      "text/plain": [
       "Sunny    10443\n",
       "Snowy     1219\n",
       "Rainy     1022\n",
       "Name: weather, dtype: int64"
      ]
     },
     "execution_count": 10,
     "metadata": {},
     "output_type": "execute_result"
    }
   ],
   "source": [
    "# Replaces np.nan in 'weather' column, with the most frequently occurring value in the data set\n",
    "classdata['weather'].replace({np.nan: \"Sunny\"}, inplace=True)\n",
    "classdata['weather'].value_counts()"
   ]
  },
  {
   "cell_type": "code",
   "execution_count": 11,
   "id": "faced-lightweight",
   "metadata": {},
   "outputs": [
    {
     "data": {
      "text/plain": [
       "array(['4~8', '1~3', 'less1', 'gt8', nan, 'never'], dtype=object)"
      ]
     },
     "execution_count": 11,
     "metadata": {},
     "output_type": "execute_result"
    }
   ],
   "source": [
    "classdata['RestaurantLessThan20'].unique()\n",
    "classdata['RestaurantLessThan20'].hist()"
   ]
  },
  {
   "cell_type": "code",
   "execution_count": 12,
   "id": "rolled-jungle",
   "metadata": {},
   "outputs": [
    {
     "data": {
      "text/plain": [
       "1~3      5376\n",
       "4~8      3580\n",
       "less1    2093\n",
       "gt8      1285\n",
       "never     220\n",
       "Name: RestaurantLessThan20, dtype: int64"
      ]
     },
     "execution_count": 12,
     "metadata": {},
     "output_type": "execute_result"
    }
   ],
   "source": [
    "classdata['RestaurantLessThan20'].value_counts()"
   ]
  },
  {
   "cell_type": "code",
   "execution_count": 13,
   "id": "toxic-peoples",
   "metadata": {},
   "outputs": [
    {
     "data": {
      "text/plain": [
       "array(['4~8', '1~3', 'less1', 'gt8', nan, 'never'], dtype=object)"
      ]
     },
     "execution_count": 13,
     "metadata": {},
     "output_type": "execute_result"
    }
   ],
   "source": [
    "classdata['RestaurantLessThan20'].unique()"
   ]
  },
  {
   "cell_type": "code",
   "execution_count": 14,
   "id": "changed-sydney",
   "metadata": {},
   "outputs": [],
   "source": [
    "classdata['RestaurantLessThan20'].replace({np.nan: \"1~3\"}, inplace=True)"
   ]
  },
  {
   "cell_type": "code",
   "execution_count": 15,
   "id": "smaller-intent",
   "metadata": {},
   "outputs": [
    {
     "data": {
      "text/plain": [
       "array(['4~8', '1~3', 'less1', 'gt8', 'never'], dtype=object)"
      ]
     },
     "execution_count": 15,
     "metadata": {},
     "output_type": "execute_result"
    }
   ],
   "source": [
    "classdata['RestaurantLessThan20'].unique()"
   ]
  },
  {
   "cell_type": "code",
   "execution_count": 16,
   "id": "tropical-interface",
   "metadata": {},
   "outputs": [
    {
     "name": "stdout",
     "output_type": "stream",
     "text": [
      "<class 'pandas.core.frame.DataFrame'>\n",
      "RangeIndex: 12684 entries, 0 to 12683\n",
      "Data columns (total 25 columns):\n",
      " #   Column                Non-Null Count  Dtype  \n",
      "---  ------                --------------  -----  \n",
      " 0   destination           12684 non-null  object \n",
      " 1   passanger             12684 non-null  object \n",
      " 2   weather               12684 non-null  object \n",
      " 3   temperature           10793 non-null  float64\n",
      " 4   time                  12684 non-null  object \n",
      " 5   coupon                12684 non-null  object \n",
      " 6   expiration            12684 non-null  object \n",
      " 7   gender                10726 non-null  object \n",
      " 8   age                   10779 non-null  object \n",
      " 9   maritalStatus         12684 non-null  object \n",
      " 10  has_children          10769 non-null  float64\n",
      " 11  education             12684 non-null  object \n",
      " 12  occupation            12684 non-null  object \n",
      " 13  income                12684 non-null  object \n",
      " 14  Bar                   12577 non-null  object \n",
      " 15  CoffeeHouse           12467 non-null  object \n",
      " 16  CarryAway             12533 non-null  object \n",
      " 17  RestaurantLessThan20  12684 non-null  object \n",
      " 18  Restaurant20To50      12495 non-null  object \n",
      " 19  toCoupon_GEQ5min      12684 non-null  int64  \n",
      " 20  toCoupon_GEQ15min     12684 non-null  int64  \n",
      " 21  toCoupon_GEQ25min     10831 non-null  float64\n",
      " 22  direction_same        10824 non-null  float64\n",
      " 23  direction_opp         10753 non-null  float64\n",
      " 24  Y                     12684 non-null  int64  \n",
      "dtypes: float64(5), int64(3), object(17)\n",
      "memory usage: 2.4+ MB\n"
     ]
    }
   ],
   "source": [
    "classdata.info()"
   ]
  },
  {
   "cell_type": "code",
   "execution_count": 17,
   "id": "serious-mustang",
   "metadata": {
    "scrolled": true
   },
   "outputs": [
    {
     "data": {
      "text/plain": [
       "less1    6077\n",
       "1~3      3290\n",
       "never    2136\n",
       "4~8       728\n",
       "gt8       264\n",
       "Name: Restaurant20To50, dtype: int64"
      ]
     },
     "execution_count": 17,
     "metadata": {},
     "output_type": "execute_result"
    }
   ],
   "source": [
    "classdata['Restaurant20To50'].value_counts()"
   ]
  },
  {
   "cell_type": "code",
   "execution_count": 18,
   "id": "american-richards",
   "metadata": {},
   "outputs": [
    {
     "data": {
      "text/plain": [
       "array(['1~3', 'less1', 'never', 'gt8', '4~8', nan], dtype=object)"
      ]
     },
     "execution_count": 18,
     "metadata": {},
     "output_type": "execute_result"
    }
   ],
   "source": [
    "classdata['Restaurant20To50'].unique()\n",
    "classdata['Restaurant20To50'].hist()"
   ]
  },
  {
   "cell_type": "code",
   "execution_count": 19,
   "id": "amino-exhibition",
   "metadata": {},
   "outputs": [],
   "source": [
    "classdata['Restaurant20To50'].replace({np.nan: \"less1\"}, inplace=True)"
   ]
  },
  {
   "cell_type": "code",
   "execution_count": 20,
   "id": "exciting-convert",
   "metadata": {},
   "outputs": [
    {
     "data": {
      "text/plain": [
       "21         2274\n",
       "26         2142\n",
       "31         1737\n",
       "50plus     1518\n",
       "36         1115\n",
       "41          935\n",
       "46          587\n",
       "below21     471\n",
       "Name: age, dtype: int64"
      ]
     },
     "execution_count": 20,
     "metadata": {},
     "output_type": "execute_result"
    }
   ],
   "source": [
    "classdata['age'].value_counts()"
   ]
  },
  {
   "cell_type": "code",
   "execution_count": 21,
   "id": "possible-passion",
   "metadata": {},
   "outputs": [
    {
     "data": {
      "text/plain": [
       "array(['21', nan, '46', '26', '31', '41', '50plus', '36', 'below21'],\n",
       "      dtype=object)"
      ]
     },
     "execution_count": 21,
     "metadata": {},
     "output_type": "execute_result"
    }
   ],
   "source": [
    "classdata['age'].unique()"
   ]
  },
  {
   "cell_type": "code",
   "execution_count": 22,
   "id": "focused-merchandise",
   "metadata": {},
   "outputs": [],
   "source": [
    "# Replacing np.nan with the average of the top 3 values.\n",
    "\n",
    "classdata['age'].replace({np.nan: \"27.67\"}, inplace=True)"
   ]
  },
  {
   "cell_type": "code",
   "execution_count": 23,
   "id": "assisted-frank",
   "metadata": {},
   "outputs": [
    {
     "data": {
      "text/plain": [
       "21         2274\n",
       "26         2142\n",
       "27.67      1905\n",
       "31         1737\n",
       "50plus     1518\n",
       "36         1115\n",
       "41          935\n",
       "46          587\n",
       "below21     471\n",
       "Name: age, dtype: int64"
      ]
     },
     "execution_count": 23,
     "metadata": {},
     "output_type": "execute_result"
    }
   ],
   "source": [
    "classdata['age'].value_counts()"
   ]
  },
  {
   "cell_type": "code",
   "execution_count": 24,
   "id": "direct-consensus",
   "metadata": {},
   "outputs": [
    {
     "data": {
      "text/plain": [
       "80.0    5567\n",
       "55.0    3263\n",
       "30.0    1963\n",
       "Name: temperature, dtype: int64"
      ]
     },
     "execution_count": 24,
     "metadata": {},
     "output_type": "execute_result"
    }
   ],
   "source": [
    "classdata['temperature'].value_counts()"
   ]
  },
  {
   "cell_type": "code",
   "execution_count": 25,
   "id": "crucial-simon",
   "metadata": {},
   "outputs": [
    {
     "data": {
      "text/plain": [
       "array([55., nan, 80., 30.])"
      ]
     },
     "execution_count": 25,
     "metadata": {},
     "output_type": "execute_result"
    }
   ],
   "source": [
    "classdata['temperature'].unique()"
   ]
  },
  {
   "cell_type": "code",
   "execution_count": 26,
   "id": "excited-recruitment",
   "metadata": {},
   "outputs": [],
   "source": [
    "classdata['temperature'].replace({np.nan: \"80.0\"}, inplace=True)"
   ]
  },
  {
   "cell_type": "code",
   "execution_count": 27,
   "id": "formal-velvet",
   "metadata": {},
   "outputs": [
    {
     "data": {
      "text/plain": [
       "never    5197\n",
       "less1    3482\n",
       "1~3      2473\n",
       "4~8      1076\n",
       "gt8       349\n",
       "Name: Bar, dtype: int64"
      ]
     },
     "execution_count": 27,
     "metadata": {},
     "output_type": "execute_result"
    }
   ],
   "source": [
    "classdata['Bar'].value_counts()"
   ]
  },
  {
   "cell_type": "code",
   "execution_count": 28,
   "id": "analyzed-burlington",
   "metadata": {},
   "outputs": [],
   "source": [
    "classdata['Bar'].replace({np.nan: \"never\"}, inplace=True)\n",
    "classdata['Bar'].replace({\"less1\": \"never\"}, inplace=True)"
   ]
  },
  {
   "cell_type": "code",
   "execution_count": 29,
   "id": "falling-origin",
   "metadata": {},
   "outputs": [
    {
     "data": {
      "text/plain": [
       "never    8786\n",
       "1~3      2473\n",
       "4~8      1076\n",
       "gt8       349\n",
       "Name: Bar, dtype: int64"
      ]
     },
     "execution_count": 29,
     "metadata": {},
     "output_type": "execute_result"
    }
   ],
   "source": [
    "classdata['Bar'].value_counts()"
   ]
  },
  {
   "cell_type": "code",
   "execution_count": 30,
   "id": "interpreted-sessions",
   "metadata": {},
   "outputs": [
    {
     "data": {
      "text/plain": [
       "1~3      4672\n",
       "4~8      4258\n",
       "less1    1856\n",
       "gt8      1594\n",
       "never     153\n",
       "Name: CarryAway, dtype: int64"
      ]
     },
     "execution_count": 30,
     "metadata": {},
     "output_type": "execute_result"
    }
   ],
   "source": [
    "classdata['CarryAway'].value_counts()"
   ]
  },
  {
   "cell_type": "code",
   "execution_count": 31,
   "id": "described-procedure",
   "metadata": {},
   "outputs": [
    {
     "data": {
      "text/plain": [
       "array([nan, '4~8', '1~3', 'gt8', 'less1', 'never'], dtype=object)"
      ]
     },
     "execution_count": 31,
     "metadata": {},
     "output_type": "execute_result"
    }
   ],
   "source": [
    "classdata['CarryAway'].unique()"
   ]
  },
  {
   "cell_type": "code",
   "execution_count": 32,
   "id": "relevant-denial",
   "metadata": {},
   "outputs": [],
   "source": [
    "classdata['CarryAway'].replace({np.nan: \"4~8\"}, inplace=True)"
   ]
  },
  {
   "cell_type": "code",
   "execution_count": 33,
   "id": "aerial-detail",
   "metadata": {},
   "outputs": [
    {
     "data": {
      "text/plain": [
       "Some college - no degree                  4351\n",
       "Bachelors degree                          4335\n",
       "Graduate degree (Masters or Doctorate)    1852\n",
       "Associates degree                         1153\n",
       "High School Graduate                       905\n",
       "Some High School                            88\n",
       "Name: education, dtype: int64"
      ]
     },
     "execution_count": 33,
     "metadata": {},
     "output_type": "execute_result"
    }
   ],
   "source": [
    "classdata['education'].value_counts()"
   ]
  },
  {
   "cell_type": "code",
   "execution_count": 34,
   "id": "close-timber",
   "metadata": {},
   "outputs": [
    {
     "data": {
      "text/plain": [
       "array(['Some college - no degree', 'Bachelors degree',\n",
       "       'Associates degree', 'High School Graduate',\n",
       "       'Graduate degree (Masters or Doctorate)', 'Some High School'],\n",
       "      dtype=object)"
      ]
     },
     "execution_count": 34,
     "metadata": {},
     "output_type": "execute_result"
    }
   ],
   "source": [
    "classdata['education'].unique()"
   ]
  },
  {
   "cell_type": "code",
   "execution_count": 35,
   "id": "violent-assets",
   "metadata": {},
   "outputs": [
    {
     "data": {
      "text/plain": [
       "Some college - no degree                  0.343031\n",
       "Bachelors degree                          0.341769\n",
       "Graduate degree (Masters or Doctorate)    0.146011\n",
       "Associates degree                         0.090902\n",
       "High School Graduate                      0.071350\n",
       "Some High School                          0.006938\n",
       "Name: education, dtype: float64"
      ]
     },
     "execution_count": 35,
     "metadata": {},
     "output_type": "execute_result"
    }
   ],
   "source": [
    "#Gets frequency distribution of Education values. Over 91% of this population has had at least some college. Over 57% has received a degree. \n",
    "classdata['education'].value_counts() / len(classdata)"
   ]
  },
  {
   "cell_type": "code",
   "execution_count": 36,
   "id": "binary-absorption",
   "metadata": {},
   "outputs": [
    {
     "name": "stdout",
     "output_type": "stream",
     "text": [
      "0        Female\n",
      "1        Female\n",
      "2        Female\n",
      "3        Female\n",
      "4          Male\n",
      "          ...  \n",
      "12679    Female\n",
      "12680      Male\n",
      "12681      Male\n",
      "12682      Male\n",
      "12683      Male\n",
      "Name: gender, Length: 12684, dtype: object\n"
     ]
    }
   ],
   "source": [
    "# Fills gender column based on proportion of freq dist.\n",
    "mask = classdata['gender'].isna() \n",
    "ind = classdata['gender'].loc[mask].sample(frac=0.512).index\n",
    "classdata.loc[ind, 'gender'] = 'Female'\n",
    "classdata['gender'] = classdata['gender'].fillna('Male')\n",
    "print(classdata['gender'])"
   ]
  },
  {
   "cell_type": "markdown",
   "id": "crucial-tackle",
   "metadata": {},
   "source": [
    "###### "
   ]
  },
  {
   "cell_type": "code",
   "execution_count": 37,
   "id": "answering-baptist",
   "metadata": {},
   "outputs": [
    {
     "name": "stdout",
     "output_type": "stream",
     "text": [
      "<class 'pandas.core.frame.DataFrame'>\n",
      "RangeIndex: 12684 entries, 0 to 12683\n",
      "Data columns (total 25 columns):\n",
      " #   Column                Non-Null Count  Dtype  \n",
      "---  ------                --------------  -----  \n",
      " 0   destination           12684 non-null  object \n",
      " 1   passanger             12684 non-null  object \n",
      " 2   weather               12684 non-null  object \n",
      " 3   temperature           12684 non-null  object \n",
      " 4   time                  12684 non-null  object \n",
      " 5   coupon                12684 non-null  object \n",
      " 6   expiration            12684 non-null  object \n",
      " 7   gender                12684 non-null  object \n",
      " 8   age                   12684 non-null  object \n",
      " 9   maritalStatus         12684 non-null  object \n",
      " 10  has_children          10769 non-null  float64\n",
      " 11  education             12684 non-null  object \n",
      " 12  occupation            12684 non-null  object \n",
      " 13  income                12684 non-null  object \n",
      " 14  Bar                   12684 non-null  object \n",
      " 15  CoffeeHouse           12467 non-null  object \n",
      " 16  CarryAway             12684 non-null  object \n",
      " 17  RestaurantLessThan20  12684 non-null  object \n",
      " 18  Restaurant20To50      12684 non-null  object \n",
      " 19  toCoupon_GEQ5min      12684 non-null  int64  \n",
      " 20  toCoupon_GEQ15min     12684 non-null  int64  \n",
      " 21  toCoupon_GEQ25min     10831 non-null  float64\n",
      " 22  direction_same        10824 non-null  float64\n",
      " 23  direction_opp         10753 non-null  float64\n",
      " 24  Y                     12684 non-null  int64  \n",
      "dtypes: float64(4), int64(3), object(18)\n",
      "memory usage: 2.4+ MB\n"
     ]
    }
   ],
   "source": [
    "classdata.info()"
   ]
  },
  {
   "cell_type": "code",
   "execution_count": 38,
   "id": "mobile-motel",
   "metadata": {},
   "outputs": [
    {
     "data": {
      "text/plain": [
       "destination                0\n",
       "passanger                  0\n",
       "weather                    0\n",
       "temperature                0\n",
       "time                       0\n",
       "coupon                     0\n",
       "expiration                 0\n",
       "gender                     0\n",
       "age                        0\n",
       "maritalStatus              0\n",
       "has_children            1915\n",
       "education                  0\n",
       "occupation                 0\n",
       "income                     0\n",
       "Bar                        0\n",
       "CoffeeHouse              217\n",
       "CarryAway                  0\n",
       "RestaurantLessThan20       0\n",
       "Restaurant20To50           0\n",
       "toCoupon_GEQ5min           0\n",
       "toCoupon_GEQ15min          0\n",
       "toCoupon_GEQ25min       1853\n",
       "direction_same          1860\n",
       "direction_opp           1931\n",
       "Y                          0\n",
       "dtype: int64"
      ]
     },
     "execution_count": 38,
     "metadata": {},
     "output_type": "execute_result"
    }
   ],
   "source": [
    "classdata.isnull().sum()"
   ]
  },
  {
   "cell_type": "code",
   "execution_count": 39,
   "id": "great-kitty",
   "metadata": {},
   "outputs": [
    {
     "name": "stdout",
     "output_type": "stream",
     "text": [
      "0        Female\n",
      "1        Female\n",
      "2        Female\n",
      "3        Female\n",
      "4          Male\n",
      "          ...  \n",
      "12679    Female\n",
      "12680      Male\n",
      "12681      Male\n",
      "12682      Male\n",
      "12683      Male\n",
      "Name: gender, Length: 12684, dtype: object\n"
     ]
    }
   ],
   "source": [
    "# Fills Gender Column, so that distribution matches current ratio between female and male\n",
    "\n",
    "mask = classdata['gender'].isna() \n",
    "ind = classdata['gender'].loc[mask].sample(frac=0.512).index\n",
    "classdata.loc[ind, 'gender'] = 'Female'\n",
    "classdata['gender'] = classdata['gender'].fillna('Male')\n",
    "print(classdata['gender'])"
   ]
  },
  {
   "cell_type": "code",
   "execution_count": 40,
   "id": "exposed-acrobat",
   "metadata": {},
   "outputs": [
    {
     "data": {
      "text/plain": [
       "Female    6485\n",
       "Male      6199\n",
       "Name: gender, dtype: int64"
      ]
     },
     "execution_count": 40,
     "metadata": {},
     "output_type": "execute_result"
    }
   ],
   "source": [
    "classdata['gender'].value_counts()\n"
   ]
  },
  {
   "cell_type": "code",
   "execution_count": 41,
   "id": "right-insured",
   "metadata": {},
   "outputs": [
    {
     "data": {
      "text/plain": [
       "0.0    6304\n",
       "1.0    4465\n",
       "Name: has_children, dtype: int64"
      ]
     },
     "execution_count": 41,
     "metadata": {},
     "output_type": "execute_result"
    }
   ],
   "source": [
    "classdata['has_children'].value_counts()"
   ]
  },
  {
   "cell_type": "code",
   "execution_count": 42,
   "id": "presidential-faculty",
   "metadata": {},
   "outputs": [
    {
     "data": {
      "text/plain": [
       "array(['never', 'less1', '4~8', '1~3', 'gt8', nan], dtype=object)"
      ]
     },
     "execution_count": 42,
     "metadata": {},
     "output_type": "execute_result"
    }
   ],
   "source": [
    "classdata['CoffeeHouse'].unique()"
   ]
  },
  {
   "cell_type": "code",
   "execution_count": 43,
   "id": "nuclear-terrain",
   "metadata": {},
   "outputs": [
    {
     "data": {
      "text/plain": [
       "less1    3385\n",
       "1~3      3225\n",
       "never    2962\n",
       "4~8      1784\n",
       "gt8      1111\n",
       "Name: CoffeeHouse, dtype: int64"
      ]
     },
     "execution_count": 43,
     "metadata": {},
     "output_type": "execute_result"
    }
   ],
   "source": [
    "classdata['CoffeeHouse'].value_counts()"
   ]
  },
  {
   "cell_type": "code",
   "execution_count": 44,
   "id": "gross-external",
   "metadata": {},
   "outputs": [],
   "source": [
    "classdata['CoffeeHouse'].replace({np.nan: \"1~3\"}, inplace=True)"
   ]
  },
  {
   "cell_type": "code",
   "execution_count": 45,
   "id": "subsequent-sense",
   "metadata": {},
   "outputs": [
    {
     "data": {
      "text/html": [
       "<div>\n",
       "<style scoped>\n",
       "    .dataframe tbody tr th:only-of-type {\n",
       "        vertical-align: middle;\n",
       "    }\n",
       "\n",
       "    .dataframe tbody tr th {\n",
       "        vertical-align: top;\n",
       "    }\n",
       "\n",
       "    .dataframe thead th {\n",
       "        text-align: right;\n",
       "    }\n",
       "</style>\n",
       "<table border=\"1\" class=\"dataframe\">\n",
       "  <thead>\n",
       "    <tr style=\"text-align: right;\">\n",
       "      <th></th>\n",
       "      <th>destination</th>\n",
       "      <th>passanger</th>\n",
       "      <th>weather</th>\n",
       "      <th>temperature</th>\n",
       "      <th>time</th>\n",
       "      <th>coupon</th>\n",
       "      <th>expiration</th>\n",
       "      <th>gender</th>\n",
       "      <th>age</th>\n",
       "      <th>maritalStatus</th>\n",
       "      <th>...</th>\n",
       "      <th>CoffeeHouse</th>\n",
       "      <th>CarryAway</th>\n",
       "      <th>RestaurantLessThan20</th>\n",
       "      <th>Restaurant20To50</th>\n",
       "      <th>toCoupon_GEQ5min</th>\n",
       "      <th>toCoupon_GEQ15min</th>\n",
       "      <th>toCoupon_GEQ25min</th>\n",
       "      <th>direction_same</th>\n",
       "      <th>direction_opp</th>\n",
       "      <th>Y</th>\n",
       "    </tr>\n",
       "  </thead>\n",
       "  <tbody>\n",
       "    <tr>\n",
       "      <th>0</th>\n",
       "      <td>No Urgent Place</td>\n",
       "      <td>Alone</td>\n",
       "      <td>Sunny</td>\n",
       "      <td>55.0</td>\n",
       "      <td>2PM</td>\n",
       "      <td>Restaurant(&lt;20)</td>\n",
       "      <td>1d</td>\n",
       "      <td>Female</td>\n",
       "      <td>21</td>\n",
       "      <td>Unmarried partner</td>\n",
       "      <td>...</td>\n",
       "      <td>never</td>\n",
       "      <td>4~8</td>\n",
       "      <td>4~8</td>\n",
       "      <td>1~3</td>\n",
       "      <td>1</td>\n",
       "      <td>0</td>\n",
       "      <td>0.0</td>\n",
       "      <td>0.0</td>\n",
       "      <td>1.0</td>\n",
       "      <td>1</td>\n",
       "    </tr>\n",
       "    <tr>\n",
       "      <th>1</th>\n",
       "      <td>No Urgent Place</td>\n",
       "      <td>Friend(s)</td>\n",
       "      <td>Sunny</td>\n",
       "      <td>80.0</td>\n",
       "      <td>10AM</td>\n",
       "      <td>Coffee House</td>\n",
       "      <td>2h</td>\n",
       "      <td>Female</td>\n",
       "      <td>27.67</td>\n",
       "      <td>Unmarried partner</td>\n",
       "      <td>...</td>\n",
       "      <td>never</td>\n",
       "      <td>4~8</td>\n",
       "      <td>4~8</td>\n",
       "      <td>1~3</td>\n",
       "      <td>1</td>\n",
       "      <td>0</td>\n",
       "      <td>0.0</td>\n",
       "      <td>0.0</td>\n",
       "      <td>1.0</td>\n",
       "      <td>0</td>\n",
       "    </tr>\n",
       "    <tr>\n",
       "      <th>2</th>\n",
       "      <td>No Urgent Place</td>\n",
       "      <td>Friend(s)</td>\n",
       "      <td>Sunny</td>\n",
       "      <td>80.0</td>\n",
       "      <td>10AM</td>\n",
       "      <td>Carry out &amp; Take away</td>\n",
       "      <td>2h</td>\n",
       "      <td>Female</td>\n",
       "      <td>27.67</td>\n",
       "      <td>Unmarried partner</td>\n",
       "      <td>...</td>\n",
       "      <td>never</td>\n",
       "      <td>4~8</td>\n",
       "      <td>4~8</td>\n",
       "      <td>1~3</td>\n",
       "      <td>1</td>\n",
       "      <td>1</td>\n",
       "      <td>0.0</td>\n",
       "      <td>0.0</td>\n",
       "      <td>1.0</td>\n",
       "      <td>1</td>\n",
       "    </tr>\n",
       "    <tr>\n",
       "      <th>3</th>\n",
       "      <td>No Urgent Place</td>\n",
       "      <td>Friend(s)</td>\n",
       "      <td>Sunny</td>\n",
       "      <td>80.0</td>\n",
       "      <td>2PM</td>\n",
       "      <td>Coffee House</td>\n",
       "      <td>2h</td>\n",
       "      <td>Female</td>\n",
       "      <td>21</td>\n",
       "      <td>Unmarried partner</td>\n",
       "      <td>...</td>\n",
       "      <td>never</td>\n",
       "      <td>4~8</td>\n",
       "      <td>4~8</td>\n",
       "      <td>1~3</td>\n",
       "      <td>1</td>\n",
       "      <td>1</td>\n",
       "      <td>0.0</td>\n",
       "      <td>0.0</td>\n",
       "      <td>1.0</td>\n",
       "      <td>0</td>\n",
       "    </tr>\n",
       "    <tr>\n",
       "      <th>4</th>\n",
       "      <td>No Urgent Place</td>\n",
       "      <td>Friend(s)</td>\n",
       "      <td>Sunny</td>\n",
       "      <td>80.0</td>\n",
       "      <td>2PM</td>\n",
       "      <td>Coffee House</td>\n",
       "      <td>1d</td>\n",
       "      <td>Male</td>\n",
       "      <td>21</td>\n",
       "      <td>Unmarried partner</td>\n",
       "      <td>...</td>\n",
       "      <td>never</td>\n",
       "      <td>4~8</td>\n",
       "      <td>4~8</td>\n",
       "      <td>1~3</td>\n",
       "      <td>1</td>\n",
       "      <td>1</td>\n",
       "      <td>0.0</td>\n",
       "      <td>0.0</td>\n",
       "      <td>1.0</td>\n",
       "      <td>0</td>\n",
       "    </tr>\n",
       "  </tbody>\n",
       "</table>\n",
       "<p>5 rows × 25 columns</p>\n",
       "</div>"
      ],
      "text/plain": [
       "       destination  passanger weather temperature  time  \\\n",
       "0  No Urgent Place      Alone   Sunny        55.0   2PM   \n",
       "1  No Urgent Place  Friend(s)   Sunny        80.0  10AM   \n",
       "2  No Urgent Place  Friend(s)   Sunny        80.0  10AM   \n",
       "3  No Urgent Place  Friend(s)   Sunny        80.0   2PM   \n",
       "4  No Urgent Place  Friend(s)   Sunny        80.0   2PM   \n",
       "\n",
       "                  coupon expiration  gender    age      maritalStatus  ...  \\\n",
       "0        Restaurant(<20)         1d  Female     21  Unmarried partner  ...   \n",
       "1           Coffee House         2h  Female  27.67  Unmarried partner  ...   \n",
       "2  Carry out & Take away         2h  Female  27.67  Unmarried partner  ...   \n",
       "3           Coffee House         2h  Female     21  Unmarried partner  ...   \n",
       "4           Coffee House         1d    Male     21  Unmarried partner  ...   \n",
       "\n",
       "   CoffeeHouse CarryAway RestaurantLessThan20 Restaurant20To50  \\\n",
       "0        never       4~8                  4~8              1~3   \n",
       "1        never       4~8                  4~8              1~3   \n",
       "2        never       4~8                  4~8              1~3   \n",
       "3        never       4~8                  4~8              1~3   \n",
       "4        never       4~8                  4~8              1~3   \n",
       "\n",
       "  toCoupon_GEQ5min toCoupon_GEQ15min toCoupon_GEQ25min direction_same  \\\n",
       "0                1                 0               0.0            0.0   \n",
       "1                1                 0               0.0            0.0   \n",
       "2                1                 1               0.0            0.0   \n",
       "3                1                 1               0.0            0.0   \n",
       "4                1                 1               0.0            0.0   \n",
       "\n",
       "  direction_opp  Y  \n",
       "0           1.0  1  \n",
       "1           1.0  0  \n",
       "2           1.0  1  \n",
       "3           1.0  0  \n",
       "4           1.0  0  \n",
       "\n",
       "[5 rows x 25 columns]"
      ]
     },
     "execution_count": 45,
     "metadata": {},
     "output_type": "execute_result"
    }
   ],
   "source": [
    "classdata.head()"
   ]
  },
  {
   "cell_type": "code",
   "execution_count": 46,
   "id": "mature-conditioning",
   "metadata": {},
   "outputs": [
    {
     "data": {
      "text/plain": [
       "80.0    5567\n",
       "55.0    3263\n",
       "30.0    1963\n",
       "80.0    1891\n",
       "Name: temperature, dtype: int64"
      ]
     },
     "execution_count": 46,
     "metadata": {},
     "output_type": "execute_result"
    }
   ],
   "source": [
    "classdata['temperature'].value_counts()\n"
   ]
  },
  {
   "cell_type": "code",
   "execution_count": 47,
   "id": "latest-kruger",
   "metadata": {},
   "outputs": [
    {
     "data": {
      "text/plain": [
       "destination                0\n",
       "passanger                  0\n",
       "weather                    0\n",
       "temperature                0\n",
       "time                       0\n",
       "coupon                     0\n",
       "expiration                 0\n",
       "gender                     0\n",
       "age                        0\n",
       "maritalStatus              0\n",
       "has_children            1915\n",
       "education                  0\n",
       "occupation                 0\n",
       "income                     0\n",
       "Bar                        0\n",
       "CoffeeHouse                0\n",
       "CarryAway                  0\n",
       "RestaurantLessThan20       0\n",
       "Restaurant20To50           0\n",
       "toCoupon_GEQ5min           0\n",
       "toCoupon_GEQ15min          0\n",
       "toCoupon_GEQ25min       1853\n",
       "direction_same          1860\n",
       "direction_opp           1931\n",
       "Y                          0\n",
       "dtype: int64"
      ]
     },
     "execution_count": 47,
     "metadata": {},
     "output_type": "execute_result"
    }
   ],
   "source": [
    "classdata.isnull().sum()"
   ]
  },
  {
   "cell_type": "code",
   "execution_count": 48,
   "id": "loose-andrew",
   "metadata": {},
   "outputs": [
    {
     "name": "stdout",
     "output_type": "stream",
     "text": [
      "0        1.0\n",
      "1        1.0\n",
      "2        1.0\n",
      "3        1.0\n",
      "4        1.0\n",
      "        ... \n",
      "12679    0.0\n",
      "12680    1.0\n",
      "12681    0.0\n",
      "12682    1.0\n",
      "12683    0.0\n",
      "Name: direction_opp, Length: 12684, dtype: float64\n"
     ]
    },
    {
     "data": {
      "image/png": "[encoded data removed]",
      "text/plain": [
       "<Figure size 432x288 with 1 Axes>"
      ]
     },
     "metadata": {},
     "output_type": "display_data"
    }
   ],
   "source": [
    "classdata['direction_opp'].hist()\n",
    "# Fills Gender Column, so that distribution matches current ratio between female and male\n",
    "\n",
    "mask = classdata['direction_opp'].isna() \n",
    "ind = classdata['direction_opp'].loc[mask].sample(frac=0.78).index\n",
    "classdata.loc[ind, 'direction_opp'] = 1\n",
    "classdata['direction_opp'] = classdata['direction_opp'].fillna(0)\n",
    "print(classdata['direction_opp'])"
   ]
  },
  {
   "cell_type": "code",
   "execution_count": 49,
   "id": "static-andrews",
   "metadata": {},
   "outputs": [
    {
     "data": {
      "text/plain": [
       "1.0    9936\n",
       "0.0    2748\n",
       "Name: direction_opp, dtype: int64"
      ]
     },
     "execution_count": 49,
     "metadata": {},
     "output_type": "execute_result"
    }
   ],
   "source": [
    "classdata['direction_opp'].value_counts()"
   ]
  },
  {
   "cell_type": "code",
   "execution_count": 50,
   "id": "broad-shift",
   "metadata": {},
   "outputs": [
    {
     "data": {
      "text/plain": [
       "array([1., 0.])"
      ]
     },
     "execution_count": 50,
     "metadata": {},
     "output_type": "execute_result"
    }
   ],
   "source": [
    "classdata['direction_opp'].unique()"
   ]
  },
  {
   "cell_type": "code",
   "execution_count": 51,
   "id": "recorded-closing",
   "metadata": {},
   "outputs": [
    {
     "data": {
      "text/plain": [
       "<AxesSubplot:>"
      ]
     },
     "execution_count": 51,
     "metadata": {},
     "output_type": "execute_result"
    },
    {
     "data": {
      "image/png": "[encoded data removed]",
      "text/plain": [
       "<Figure size 432x288 with 1 Axes>"
      ]
     },
     "metadata": {},
     "output_type": "display_data"
    }
   ],
   "source": [
    "classdata['has_children'].hist()"
   ]
  },
  {
   "cell_type": "code",
   "execution_count": 52,
   "id": "fourth-atlantic",
   "metadata": {},
   "outputs": [
    {
     "name": "stdout",
     "output_type": "stream",
     "text": [
      "0        1.0\n",
      "1        1.0\n",
      "2        1.0\n",
      "3        1.0\n",
      "4        1.0\n",
      "        ... \n",
      "12679    0.0\n",
      "12680    0.0\n",
      "12681    0.0\n",
      "12682    0.0\n",
      "12683    0.0\n",
      "Name: has_children, Length: 12684, dtype: float64\n"
     ]
    }
   ],
   "source": [
    "# Replaces np.nan with 1's and 0's, to match relative proportion in data\n",
    "mask = classdata['has_children'].isna() \n",
    "ind = classdata['has_children'].loc[mask].sample(frac=0.585).index\n",
    "classdata.loc[ind, 'has_children'] = 0\n",
    "classdata['has_children'] = classdata['has_children'].fillna(1)\n",
    "print(classdata['has_children'])"
   ]
  },
  {
   "cell_type": "code",
   "execution_count": 53,
   "id": "voluntary-mounting",
   "metadata": {},
   "outputs": [
    {
     "data": {
      "text/plain": [
       "0.0    7424\n",
       "1.0    5260\n",
       "Name: has_children, dtype: int64"
      ]
     },
     "execution_count": 53,
     "metadata": {},
     "output_type": "execute_result"
    }
   ],
   "source": [
    "classdata['has_children'].value_counts()"
   ]
  },
  {
   "cell_type": "code",
   "execution_count": 54,
   "id": "designed-skill",
   "metadata": {},
   "outputs": [
    {
     "data": {
      "text/plain": [
       "<AxesSubplot:>"
      ]
     },
     "execution_count": 54,
     "metadata": {},
     "output_type": "execute_result"
    },
    {
     "data": {
      "image/png": "[encoded data removed]",
      "text/plain": [
       "<Figure size 432x288 with 1 Axes>"
      ]
     },
     "metadata": {},
     "output_type": "display_data"
    }
   ],
   "source": [
    "classdata['toCoupon_GEQ25min'].hist()"
   ]
  },
  {
   "cell_type": "code",
   "execution_count": 55,
   "id": "desirable-jaguar",
   "metadata": {},
   "outputs": [
    {
     "data": {
      "text/plain": [
       "0.0    9541\n",
       "1.0    1290\n",
       "Name: toCoupon_GEQ25min, dtype: int64"
      ]
     },
     "execution_count": 55,
     "metadata": {},
     "output_type": "execute_result"
    }
   ],
   "source": [
    "classdata['toCoupon_GEQ25min'].value_counts()"
   ]
  },
  {
   "cell_type": "code",
   "execution_count": 56,
   "id": "alive-harvard",
   "metadata": {},
   "outputs": [
    {
     "data": {
      "text/plain": [
       "<AxesSubplot:>"
      ]
     },
     "execution_count": 56,
     "metadata": {},
     "output_type": "execute_result"
    },
    {
     "data": {
      "image/png": "[encoded data removed]",
      "text/plain": [
       "<Figure size 432x288 with 1 Axes>"
      ]
     },
     "metadata": {},
     "output_type": "display_data"
    }
   ],
   "source": [
    "classdata['toCoupon_GEQ25min'].hist()"
   ]
  },
  {
   "cell_type": "code",
   "execution_count": 57,
   "id": "stuck-northeast",
   "metadata": {},
   "outputs": [
    {
     "name": "stdout",
     "output_type": "stream",
     "text": [
      "0        0.0\n",
      "1        0.0\n",
      "2        0.0\n",
      "3        0.0\n",
      "4        0.0\n",
      "        ... \n",
      "12679    0.0\n",
      "12680    0.0\n",
      "12681    0.0\n",
      "12682    1.0\n",
      "12683    0.0\n",
      "Name: toCoupon_GEQ25min, Length: 12684, dtype: float64\n"
     ]
    }
   ],
   "source": [
    "# Changes Values for Direction same column, to match the relative proportion of values in the column\n",
    "mask = classdata['toCoupon_GEQ25min'].isna() \n",
    "ind = classdata['toCoupon_GEQ25min'].loc[mask].sample(frac=0.88).index\n",
    "classdata.loc[ind, 'toCoupon_GEQ25min'] = 0\n",
    "classdata['toCoupon_GEQ25min'] = classdata['toCoupon_GEQ25min'].fillna(1)\n",
    "print(classdata['toCoupon_GEQ25min'])"
   ]
  },
  {
   "cell_type": "code",
   "execution_count": 58,
   "id": "sweet-contamination",
   "metadata": {},
   "outputs": [
    {
     "data": {
      "text/plain": [
       "<AxesSubplot:>"
      ]
     },
     "execution_count": 58,
     "metadata": {},
     "output_type": "execute_result"
    },
    {
     "data": {
      "image/png": "[encoded data removed]",
      "text/plain": [
       "<Figure size 432x288 with 1 Axes>"
      ]
     },
     "metadata": {},
     "output_type": "display_data"
    }
   ],
   "source": [
    "classdata['direction_same'].hist()"
   ]
  },
  {
   "cell_type": "code",
   "execution_count": 59,
   "id": "rubber-arabic",
   "metadata": {},
   "outputs": [
    {
     "data": {
      "text/plain": [
       "0.0    8507\n",
       "1.0    2317\n",
       "Name: direction_same, dtype: int64"
      ]
     },
     "execution_count": 59,
     "metadata": {},
     "output_type": "execute_result"
    }
   ],
   "source": [
    "classdata['direction_same'].value_counts()"
   ]
  },
  {
   "cell_type": "code",
   "execution_count": 60,
   "id": "standing-offering",
   "metadata": {},
   "outputs": [
    {
     "data": {
      "text/plain": [
       "<AxesSubplot:>"
      ]
     },
     "execution_count": 60,
     "metadata": {},
     "output_type": "execute_result"
    },
    {
     "data": {
      "image/png": "[encoded data removed]",
      "text/plain": [
       "<Figure size 432x288 with 1 Axes>"
      ]
     },
     "metadata": {},
     "output_type": "display_data"
    }
   ],
   "source": [
    "classdata['direction_same'].hist()"
   ]
  },
  {
   "cell_type": "code",
   "execution_count": 61,
   "id": "recovered-preference",
   "metadata": {},
   "outputs": [],
   "source": [
    "# Changes Values for Direction same column, to match the relative proportion of values in the column\n",
    "mask = classdata['direction_same'].isna() \n",
    "ind = classdata['direction_same'].loc[mask].sample(frac=0.785).index\n",
    "classdata.loc[ind, 'direction_same'] = 0\n",
    "classdata['direction_same'] = classdata['direction_same'].fillna(1)\n"
   ]
  },
  {
   "cell_type": "code",
   "execution_count": 62,
   "id": "center-kitchen",
   "metadata": {},
   "outputs": [
    {
     "data": {
      "text/plain": [
       "destination             0\n",
       "passanger               0\n",
       "weather                 0\n",
       "temperature             0\n",
       "time                    0\n",
       "coupon                  0\n",
       "expiration              0\n",
       "gender                  0\n",
       "age                     0\n",
       "maritalStatus           0\n",
       "has_children            0\n",
       "education               0\n",
       "occupation              0\n",
       "income                  0\n",
       "Bar                     0\n",
       "CoffeeHouse             0\n",
       "CarryAway               0\n",
       "RestaurantLessThan20    0\n",
       "Restaurant20To50        0\n",
       "toCoupon_GEQ5min        0\n",
       "toCoupon_GEQ15min       0\n",
       "toCoupon_GEQ25min       0\n",
       "direction_same          0\n",
       "direction_opp           0\n",
       "Y                       0\n",
       "dtype: int64"
      ]
     },
     "execution_count": 62,
     "metadata": {},
     "output_type": "execute_result"
    }
   ],
   "source": [
    "classdata.isnull().sum()"
   ]
  },
  {
   "cell_type": "markdown",
   "id": "applied-sword",
   "metadata": {},
   "source": [
    "### Transforming categorical variables in feature set"
   ]
  },
  {
   "cell_type": "code",
   "execution_count": 63,
   "id": "impaired-romantic",
   "metadata": {},
   "outputs": [],
   "source": [
    "#Assigning the cleaned data to a new name \"cleandata\"\n",
    "cleandata=classdata"
   ]
  },
  {
   "cell_type": "code",
   "execution_count": 65,
   "id": "incredible-poker",
   "metadata": {},
   "outputs": [],
   "source": [
    "# Turns Categorical Data into One Hot Vectors \n",
    "cleandata=pd.concat([cleandata.drop('destination', axis=1), pd.get_dummies(cleandata['destination'],prefix='destination',drop_first=False)], axis=1)\n",
    "cleandata=pd.concat([cleandata.drop('passanger', axis=1), pd.get_dummies(cleandata['passanger'],prefix='passanger',drop_first=False)], axis=1)\n",
    "cleandata=pd.concat([cleandata.drop('weather', axis=1), pd.get_dummies(cleandata['weather'],prefix='weather',drop_first=False)], axis=1)\n",
    "cleandata=pd.concat([cleandata.drop('time', axis=1), pd.get_dummies(cleandata['time'],prefix='time',drop_first=False)], axis=1)\n",
    "cleandata=pd.concat([cleandata.drop('coupon', axis=1), pd.get_dummies(cleandata['coupon'],prefix='coupon',drop_first=False)], axis=1)\n",
    "cleandata=pd.concat([cleandata.drop('expiration', axis=1), pd.get_dummies(cleandata['expiration'],prefix='expiration',drop_first=False)], axis=1)\n",
    "cleandata=pd.concat([cleandata.drop('age', axis=1), pd.get_dummies(cleandata['age'],prefix='age',drop_first=False)], axis=1)\n",
    "cleandata=pd.concat([cleandata.drop('maritalStatus', axis=1), pd.get_dummies(cleandata['maritalStatus'],prefix='maritalStatus',drop_first=False)], axis=1)\n",
    "cleandata=pd.concat([cleandata.drop('education', axis=1), pd.get_dummies(cleandata['education'],prefix='education',drop_first=False)], axis=1)\n",
    "cleandata=pd.concat([cleandata.drop('occupation', axis=1), pd.get_dummies(cleandata['occupation'],prefix='occupation',drop_first=False)], axis=1)\n",
    "cleandata=pd.concat([cleandata.drop('income', axis=1), pd.get_dummies(cleandata['income'],prefix='income',drop_first=False)], axis=1)\n",
    "cleandata=pd.concat([cleandata.drop('Bar', axis=1), pd.get_dummies(cleandata['Bar'],prefix='Bar',drop_first=False)], axis=1)\n",
    "cleandata=pd.concat([cleandata.drop('CoffeeHouse', axis=1), pd.get_dummies(cleandata['CoffeeHouse'],prefix='CoffeeHouse',drop_first=False)], axis=1)\n",
    "cleandata=pd.concat([cleandata.drop('CarryAway', axis=1), pd.get_dummies(cleandata['CarryAway'],prefix='CarryAway',drop_first=False)], axis=1)\n",
    "cleandata=pd.concat([cleandata.drop('RestaurantLessThan20', axis=1), pd.get_dummies(cleandata['RestaurantLessThan20'],prefix='RestaurantLessThan20',drop_first=False)], axis=1)\n",
    "cleandata=pd.concat([cleandata.drop('Restaurant20To50', axis=1), pd.get_dummies(cleandata['Restaurant20To50'],prefix='Restaurant20To50',drop_first=False)], axis=1)\n",
    "\n",
    "#Changes Gender, so that Male=0, Female=1\n",
    "cleandata['gender'] = cleandata['gender'].map({'Male' : 0, 'Female' : 1}).astype(int)\n",
    "\n",
    "\n",
    "\n"
   ]
  },
  {
   "cell_type": "code",
   "execution_count": 66,
   "id": "quick-organ",
   "metadata": {
    "scrolled": true
   },
   "outputs": [
    {
     "name": "stdout",
     "output_type": "stream",
     "text": [
      "<class 'pandas.core.frame.DataFrame'>\n",
      "RangeIndex: 12684 entries, 0 to 12683\n",
      "Columns: 109 entries, temperature to Restaurant20To50_never\n",
      "dtypes: float64(4), int32(1), int64(3), object(1), uint8(100)\n",
      "memory usage: 2.0+ MB\n"
     ]
    }
   ],
   "source": [
    "cleandata.info()"
   ]
  },
  {
   "cell_type": "markdown",
   "id": "fiscal-demonstration",
   "metadata": {},
   "source": [
    "# 5. Modeling"
   ]
  },
  {
   "cell_type": "code",
   "execution_count": 67,
   "id": "joined-oracle",
   "metadata": {},
   "outputs": [],
   "source": [
    "# Splitting Feature Set and Target Column, then splitting into Train/Test data\n",
    "from sklearn.metrics import classification_report\n",
    "from sklearn.metrics import confusion_matrix\n",
    "from sklearn.metrics import accuracy_score\n",
    "from sklearn.model_selection import train_test_split\n",
    "from sklearn.preprocessing import MinMaxScaler\n",
    "\n",
    "X= cleandata.drop('Y', axis = 1)\n",
    "y= cleandata['Y']\n",
    "\n",
    "\n",
    "\n",
    "X_train_org, X_test_org, y_train, y_test = train_test_split(X, y,random_state = 0)\n",
    "\n",
    "\n",
    "\n",
    "scaler = MinMaxScaler()\n",
    "\n",
    "X_train = scaler.fit_transform(X_train_org)\n",
    "X_test = scaler.transform(X_test_org)\n"
   ]
  },
  {
   "cell_type": "markdown",
   "id": "hispanic-franklin",
   "metadata": {},
   "source": [
    "# KNN Classifier"
   ]
  },
  {
   "cell_type": "code",
   "execution_count": 95,
   "id": "cardiovascular-career",
   "metadata": {},
   "outputs": [
    {
     "data": {
      "text/plain": [
       "Text(0, 0.5, 'Testing Accuracy')"
      ]
     },
     "execution_count": 95,
     "metadata": {},
     "output_type": "execute_result"
    },
    {
     "data": {
      "image/png": "[encoded data removed]",
      "text/plain": [
       "<Figure size 432x288 with 1 Axes>"
      ]
     },
     "metadata": {
      "needs_background": "light"
     },
     "output_type": "display_data"
    }
   ],
   "source": [
    "# Import the KNeighborsClassifier class from sklearn\n",
    "from sklearn.neighbors import KNeighborsClassifier\n",
    "\n",
    "\n",
    "# Import metrics model to check the accuracy\n",
    "\n",
    "from sklearn import metrics \n",
    "\n",
    "# Runs K=1 through 50 and records testing accuracy\n",
    "\n",
    "k_range = range(1,51)\n",
    "scores = {}\n",
    "scores_list = []\n",
    "\n",
    "for k in k_range:\n",
    "    knn = KNeighborsClassifier(n_neighbors=k)\n",
    "    knn.fit(X_train,y_train)\n",
    "    y_pred=knn.predict(X_test)\n",
    "    scores[k]=metrics.accuracy_score(y_test,y_pred)\n",
    "    scores_list.append(metrics.accuracy_score(y_test,y_pred))\n",
    "    \n",
    "    \n",
    "    \n",
    "    \n",
    "%matplotlib inline\n",
    "import matplotlib.pyplot as plt\n",
    "\n",
    "#plot the relationship between K and the testing accuracy\n",
    "plt.plot(k_range,scores_list)\n",
    "plt.xlabel('Value of K for KNN')\n",
    "plt.ylabel('Testing Accuracy')\n",
    "\n"
   ]
  },
  {
   "cell_type": "code",
   "execution_count": 97,
   "id": "suffering-carter",
   "metadata": {},
   "outputs": [
    {
     "data": {
      "text/plain": [
       "Text(0, 0.5, 'Testing Accuracy')"
      ]
     },
     "execution_count": 97,
     "metadata": {},
     "output_type": "execute_result"
    },
    {
     "data": {
      "image/png": "[encoded data removed]",
      "text/plain": [
       "<Figure size 432x288 with 1 Axes>"
      ]
     },
     "metadata": {
      "needs_background": "light"
     },
     "output_type": "display_data"
    }
   ],
   "source": [
    "#Runs K=39 through 46 and records testing accuracy, as this was the area with the highest accuracy K for KNN\n",
    "\n",
    "k_range = range(39,47)\n",
    "scores = {}\n",
    "scores_list = []\n",
    "\n",
    "for k in k_range:\n",
    "    knn = KNeighborsClassifier(n_neighbors=k)\n",
    "    knn.fit(X_train,y_train)\n",
    "    y_pred=knn.predict(X_test)\n",
    "    scores[k]=metrics.accuracy_score(y_test,y_pred)\n",
    "    scores_list.append(metrics.accuracy_score(y_test,y_pred))\n",
    "    \n",
    "    \n",
    "    \n",
    "    \n",
    "%matplotlib inline\n",
    "import matplotlib.pyplot as plt\n",
    "\n",
    "#plot the relationship between K and the testing accuracy\n",
    "plt.plot(k_range,scores_list)\n",
    "plt.xlabel('Value of K for KNN')\n",
    "plt.ylabel('Testing Accuracy')\n"
   ]
  },
  {
   "cell_type": "code",
   "execution_count": 70,
   "id": "gentle-preview",
   "metadata": {},
   "outputs": [],
   "source": [
    "## It appears testing accuracy for values of K is highest when K is 45, so then tried k=42 neighbors for our model"
   ]
  },
  {
   "cell_type": "code",
   "execution_count": 98,
   "id": "popular-driving",
   "metadata": {},
   "outputs": [
    {
     "name": "stdout",
     "output_type": "stream",
     "text": [
      "Train set score: 0.7312\n",
      "Test set score: 0.7039\n",
      "              precision    recall  f1-score   support\n",
      "\n",
      "           0       0.49      0.75      0.60       920\n",
      "           1       0.87      0.68      0.77      2251\n",
      "\n",
      "    accuracy                           0.70      3171\n",
      "   macro avg       0.68      0.72      0.68      3171\n",
      "weighted avg       0.76      0.70      0.72      3171\n",
      "\n"
     ]
    }
   ],
   "source": [
    "KNNmodel = KNeighborsClassifier(n_neighbors=45)\n",
    "\n",
    "KNNmodel.fit(X_train, y_train)\n",
    "\n",
    "# predict probabilities\n",
    "\n",
    "pred_probKNN = KNNmodel.predict_proba(X_test)\n",
    "\n",
    "print(\"Train set score: {:.4f}\".format(KNNmodel.score(X_train, y_train)))\n",
    "print(\"Test set score: {:.4f}\".format(KNNmodel.score(X_test, y_test)))\n",
    "\n",
    "\n",
    "KNNclasses = KNNmodel.predict(X_test)\n",
    "print(metrics.classification_report(KNNclasses, y_test))\n",
    "\n"
   ]
  },
  {
   "cell_type": "code",
   "execution_count": 99,
   "id": "cultural-explorer",
   "metadata": {},
   "outputs": [
    {
     "name": "stdout",
     "output_type": "stream",
     "text": [
      "0.774855817477622\n"
     ]
    },
    {
     "data": {
      "image/png": "[encoded data removed]",
      "text/plain": [
       "<Figure size 576x396 with 1 Axes>"
      ]
     },
     "metadata": {},
     "output_type": "display_data"
    }
   ],
   "source": [
    "# To determine that our model is great for evaluation, was decided to use ROC-AUC \n",
    "from sklearn.metrics import roc_curve\n",
    "from sklearn.metrics import roc_auc_score\n",
    "\n",
    "\n",
    "\n",
    "fpr, tpr, thresh = roc_curve(y_test, pred_probKNN[:,1], pos_label=1)\n",
    "\n",
    "# roc curve for tpr = fpr \n",
    "random_probs = [0 for i in range(len(y_test))]\n",
    "p_fpr, p_tpr, _ = roc_curve(y_test, random_probs, pos_label=1)\n",
    "\n",
    "# auc score\n",
    "\n",
    "Knn_auc_score = roc_auc_score(y_test, pred_probKNN[:,1])\n",
    "\n",
    "print(Knn_auc_score)\n",
    "\n",
    "\n",
    "\n",
    "# matplotlib\n",
    "import matplotlib.pyplot as plt\n",
    "plt.style.use('seaborn')\n",
    "\n",
    "# plot roc curve\n",
    "plt.plot(fpr, tpr, label='KNN (area = %0.3f)' % Knn_auc_score)\n",
    "plt.plot([0, 1], [0, 1],'r--')\n",
    "# title\n",
    "plt.title('ROC curve')\n",
    "# x label\n",
    "plt.xlabel('False Positive Rate')\n",
    "# y label\n",
    "plt.ylabel('True Positive rate')\n",
    "\n",
    "plt.legend(loc='best')\n",
    "plt.savefig('ROC',dpi=300)\n",
    "plt.show();\n",
    "\n",
    "\n",
    "\n"
   ]
  },
  {
   "cell_type": "markdown",
   "id": "together-composite",
   "metadata": {},
   "source": [
    "### From the above information, it can be seen that with k=45, which is a rather large number of neighbors, our model is able to achieve an AUC-score of 0.774. This may be due to the fact that the dataset has a wide variety of factors and demographics within it, which could account for the large number of k being an alright fit.\n"
   ]
  },
  {
   "cell_type": "markdown",
   "id": "continent-mistress",
   "metadata": {},
   "source": [
    "# Logistic Regression Classifier"
   ]
  },
  {
   "cell_type": "code",
   "execution_count": 139,
   "id": "sufficient-assumption",
   "metadata": {},
   "outputs": [
    {
     "name": "stdout",
     "output_type": "stream",
     "text": [
      "Fitting 5 folds for each of 100 candidates, totalling 500 fits\n"
     ]
    },
    {
     "name": "stderr",
     "output_type": "stream",
     "text": [
      "[Parallel(n_jobs=-1)]: Using backend LokyBackend with 8 concurrent workers.\n",
      "[Parallel(n_jobs=-1)]: Done  34 tasks      | elapsed:    2.9s\n",
      "[Parallel(n_jobs=-1)]: Done 386 tasks      | elapsed:   13.9s\n"
     ]
    },
    {
     "name": "stdout",
     "output_type": "stream",
     "text": [
      "{'C': 0.1, 'max_iter': 100, 'penalty': 'l2', 'solver': 'liblinear'}\n",
      "0.6876902538633727\n"
     ]
    },
    {
     "name": "stderr",
     "output_type": "stream",
     "text": [
      "[Parallel(n_jobs=-1)]: Done 500 out of 500 | elapsed:   17.9s finished\n"
     ]
    }
   ],
   "source": [
    "from sklearn.linear_model import LogisticRegression\n",
    "from sklearn.model_selection import GridSearchCV\n",
    "from sklearn.datasets import make_multilabel_classification\n",
    "\n",
    "# Create param grid \n",
    "\n",
    "log=LogisticRegression(random_state = 0)\n",
    "\n",
    "grid_param = [\n",
    "    {'penalty' : ['l1', 'l2'],\n",
    "    'C': [0.01, 0.1, 1, 10, 100],\n",
    "    'solver' : ['liblinear', 'lbfgs'], 'max_iter': [100,500,1000,2500,5000]}\n",
    "]\n",
    "\n",
    "\n",
    "\n",
    "# Create grid search object\n",
    "\n",
    "logmodel = GridSearchCV(log, param_grid =grid_param, cv = 5, verbose=True, n_jobs=-1)\n",
    "\n",
    "# Fit on data\n",
    "\n",
    "logmodel.fit(X_train, y_train)\n",
    "\n",
    "\n",
    "# Printing Best parameters and best score\n",
    "best_parameters = logmodel.best_params_\n",
    "print(best_parameters)\n",
    "\n",
    "best_result = logmodel.best_score_\n",
    "print(best_result)\n",
    "\n",
    "\n",
    "\n"
   ]
  },
  {
   "cell_type": "code",
   "execution_count": 140,
   "id": "innocent-occasions",
   "metadata": {
    "scrolled": false
   },
   "outputs": [
    {
     "data": {
      "image/png": "[encoded data removed]",
      "text/plain": [
       "<Figure size 432x288 with 1 Axes>"
      ]
     },
     "metadata": {
      "needs_background": "light"
     },
     "output_type": "display_data"
    }
   ],
   "source": [
    "# Finds ROC-AUC curve and plots graph\n",
    "probs = logmodel.predict_proba(X_test)\n",
    "preds = probs[:,1]\n",
    "fpr, tpr, threshold = metrics.roc_curve(y_test, preds)\n",
    "roc_auc = metrics.auc(fpr, tpr)\n",
    "\n",
    "plt.figure()\n",
    "plt.plot(fpr, tpr, label='Logistic Regression (area = %0.2f)' % roc_auc)\n",
    "plt.plot([0, 1], [0, 1],'r--')\n",
    "plt.xlim([0.0, 1.0])\n",
    "plt.ylim([0.0, 1.05])\n",
    "plt.xlabel('False Positive Rate')\n",
    "plt.ylabel('True Positive Rate')\n",
    "plt.title('Receiver operating characteristic')\n",
    "plt.legend(loc=\"lower right\")\n",
    "plt.savefig('Log_ROC')\n",
    "plt.show()"
   ]
  },
  {
   "cell_type": "code",
   "execution_count": 141,
   "id": "surprising-aside",
   "metadata": {},
   "outputs": [
    {
     "data": {
      "text/plain": [
       "0.7316341088895428"
      ]
     },
     "execution_count": 141,
     "metadata": {},
     "output_type": "execute_result"
    }
   ],
   "source": [
    "# The ROC-AUC score is 0.73\n",
    "\n",
    "roc_auc"
   ]
  },
  {
   "cell_type": "code",
   "execution_count": 142,
   "id": "outstanding-nutrition",
   "metadata": {},
   "outputs": [
    {
     "name": "stdout",
     "output_type": "stream",
     "text": [
      "Model accuracy is 0.6789656259854935\n"
     ]
    }
   ],
   "source": [
    "print('Model accuracy is',logmodel.score(X_test, y_test))"
   ]
  },
  {
   "cell_type": "code",
   "execution_count": 144,
   "id": "frozen-shirt",
   "metadata": {},
   "outputs": [
    {
     "name": "stdout",
     "output_type": "stream",
     "text": [
      " The Logistic Regression has an accuracy of : 0.6789656259854935 ,\n",
      " The Logistic Regression has a balanced accuracy of : 0.676027800281414 ,\n",
      " The Logistic Regression has precision : 0.7768969422423556 ,\n",
      " The Logistic Regression has an average precision of : 0.7308026901616066 ,\n",
      " The Logistic Regression has an f1 score of : 0.7293992557150453 ,\n",
      " The Logistic Regression has a recall of : 0.687374749498998 ,\n",
      " The Logistic Regression has an ROC-AUC of : 0.7316341088895428\n"
     ]
    }
   ],
   "source": [
    "# Printing Various Other Scores of Model Effectiveness\n",
    "\n",
    "classes = logmodel.predict(X_test)\n",
    "\n",
    "accuracy = metrics.accuracy_score(classes, y_test)\n",
    "    \n",
    "balanced_accuracy = metrics.balanced_accuracy_score(classes, y_test)\n",
    "\n",
    "precision = metrics.precision_score(classes, y_test)\n",
    "    \n",
    "average_precision = metrics.average_precision_score(classes, y_test)\n",
    "    \n",
    "f1_score = metrics.f1_score(classes, y_test)\n",
    "    \n",
    "recall = metrics.recall_score(classes, y_test)\n",
    "\n",
    "print (\" The Logistic Regression has an accuracy of :\", accuracy,\",\\n The Logistic Regression has a balanced accuracy of :\", balanced_accuracy,\",\\n The Logistic Regression has precision :\", precision, \",\\n The Logistic Regression has an average precision of :\", average_precision,\",\\n The Logistic Regression has an f1 score of :\" ,f1_score,\",\\n The Logistic Regression has a recall of :\", recall, \",\\n The Logistic Regression has an ROC-AUC of :\", roc_auc)\n",
    "\n",
    "\n"
   ]
  },
  {
   "cell_type": "code",
   "execution_count": 78,
   "id": "bottom-sender",
   "metadata": {},
   "outputs": [
    {
     "name": "stdout",
     "output_type": "stream",
     "text": [
      "              precision    recall  f1-score   support\n",
      "\n",
      "           0       0.56      0.66      0.61      1175\n",
      "           1       0.78      0.69      0.73      1996\n",
      "\n",
      "    accuracy                           0.68      3171\n",
      "   macro avg       0.67      0.68      0.67      3171\n",
      "weighted avg       0.69      0.68      0.68      3171\n",
      "\n"
     ]
    }
   ],
   "source": [
    "print(metrics.classification_report(classes, y_test))"
   ]
  },
  {
   "cell_type": "markdown",
   "id": "likely-silver",
   "metadata": {},
   "source": [
    "### It can be concluded by the above model output for the Logistic Regression model, that KNN apeared to be a better fit based on the AUC of our ROC, with an AUC of 0.774"
   ]
  },
  {
   "cell_type": "markdown",
   "id": "pressing-coast",
   "metadata": {},
   "source": [
    "# Decision Tree Classifier"
   ]
  },
  {
   "cell_type": "code",
   "execution_count": 79,
   "id": "congressional-phrase",
   "metadata": {},
   "outputs": [],
   "source": [
    "from sklearn.tree import DecisionTreeClassifier\n",
    "from sklearn import tree\n"
   ]
  },
  {
   "cell_type": "code",
   "execution_count": 80,
   "id": "prescription-capital",
   "metadata": {},
   "outputs": [
    {
     "name": "stdout",
     "output_type": "stream",
     "text": [
      "\n",
      "Tuning hyperparameters for recall\n",
      "\n",
      "Scoring Method Used: recall\n",
      "Best parameters set found on development set:\n",
      "\n",
      "{'max_depth': 3, 'min_samples_split': 2}\n",
      "Best Score: 0.9226673486198887\n",
      "\n",
      "Tuning hyperparameters for roc_auc\n",
      "\n",
      "Scoring Method Used: roc_auc\n",
      "Best parameters set found on development set:\n",
      "\n",
      "{'max_depth': 7, 'min_samples_split': 7}\n",
      "Best Score: 0.7333726316905828\n",
      "\n",
      "Tuning hyperparameters for f1\n",
      "\n",
      "Scoring Method Used: f1\n",
      "Best parameters set found on development set:\n",
      "\n",
      "{'max_depth': 3, 'min_samples_split': 2}\n",
      "Best Score: 0.7443293953803651\n",
      "\n",
      "Tuning hyperparameters for average_precision\n",
      "\n",
      "Scoring Method Used: average_precision\n",
      "Best parameters set found on development set:\n",
      "\n",
      "{'max_depth': 8, 'min_samples_split': 2}\n",
      "Best Score: 0.759259893335513\n",
      "\n",
      "Tuning hyperparameters for accuracy\n",
      "\n",
      "Scoring Method Used: accuracy\n",
      "Best parameters set found on development set:\n",
      "\n",
      "{'max_depth': 10, 'min_samples_split': 2}\n",
      "Best Score: 0.6961010701460365\n"
     ]
    }
   ],
   "source": [
    "from sklearn.tree import DecisionTreeClassifier\n",
    "from sklearn import tree\n",
    "\n",
    "\n",
    "\n",
    "#Tuning Paramaters\n",
    "tuned_parameters = [{'max_depth': [2,3,4,5,6,7,8,9,10,11], \n",
    "                     'min_samples_split': [2,4,5,6,7,8]}]\n",
    "\n",
    "\n",
    "#Decision Tree Classifier Model\n",
    "tree=DecisionTreeClassifier(random_state=0)\n",
    "\n",
    "\n",
    "#Looping GridSearchCV, to apply different scoring methods\n",
    "\n",
    "scores = ['recall','roc_auc','f1','average_precision','accuracy']\n",
    "for score in scores:\n",
    "    \n",
    "    print()\n",
    "    print(f\"Tuning hyperparameters for {score}\")\n",
    "    print()\n",
    "    \n",
    "    clf = GridSearchCV(\n",
    "        tree, tuned_parameters,\n",
    "        scoring = f'{score}'\n",
    "    )\n",
    "    clf.fit(X_train, y_train)\n",
    "    \n",
    "    print('Scoring Method Used:',score)\n",
    "    print(\"Best parameters set found on development set:\")\n",
    "    print()\n",
    "    print(clf.best_params_)\n",
    "    print('Best Score:', clf.best_score_)\n"
   ]
  },
  {
   "cell_type": "markdown",
   "id": "precious-result",
   "metadata": {},
   "source": [
    "### It can be seen from the above output, that roc auc scoring and average precision matched in values for best tuning parameters. In addition, since each of these outputs supplies the best parameters based on several scoring methods, I decided to run each and see which had the best score."
   ]
  },
  {
   "cell_type": "markdown",
   "id": "atomic-zambia",
   "metadata": {},
   "source": [
    "## Fitting Tree 1 with parameters Max Depth = 7 and Min Sample Split = 7"
   ]
  },
  {
   "cell_type": "code",
   "execution_count": 104,
   "id": "structural-posting",
   "metadata": {},
   "outputs": [
    {
     "name": "stdout",
     "output_type": "stream",
     "text": [
      "Train set score: 0.7267\n",
      "Test set score: 0.6916\n",
      "              precision    recall  f1-score   support\n",
      "\n",
      "           0       0.56      0.69      0.62      1137\n",
      "           1       0.80      0.69      0.74      2034\n",
      "\n",
      "    accuracy                           0.69      3171\n",
      "   macro avg       0.68      0.69      0.68      3171\n",
      "weighted avg       0.71      0.69      0.70      3171\n",
      "\n"
     ]
    }
   ],
   "source": [
    "# Fitting various tree models with parameters found above for average precision and f1, using the roc_auc_score as a measure of evaluation.\n",
    "\n",
    "tree1 = DecisionTreeClassifier(max_depth =7, min_samples_split=7, random_state = 0)\n",
    "tree1.fit(X_train, y_train)\n",
    "\n",
    "\n",
    "# predict probabilities\n",
    "\n",
    "pred_probtree1 = tree1.predict_proba(X_test)\n",
    "\n",
    "print(\"Train set score: {:.4f}\".format(tree1.score(X_train, y_train)))\n",
    "print(\"Test set score: {:.4f}\".format(tree1.score(X_test, y_test)))\n",
    "\n",
    "\n",
    "tree1classes = tree1.predict(X_test)\n",
    "print(metrics.classification_report(tree1classes, y_test))\n",
    "\n"
   ]
  },
  {
   "cell_type": "code",
   "execution_count": 106,
   "id": "fiscal-white",
   "metadata": {},
   "outputs": [
    {
     "name": "stdout",
     "output_type": "stream",
     "text": [
      "0.7412728767587045\n"
     ]
    },
    {
     "data": {
      "image/png": "[encoded data removed]",
      "text/plain": [
       "<Figure size 576x396 with 1 Axes>"
      ]
     },
     "metadata": {},
     "output_type": "display_data"
    }
   ],
   "source": [
    "# Graphing the ROC Curve with AUC\n",
    "\n",
    "fpr, tpr, thresh = roc_curve(y_test, pred_probtree1[:,1], pos_label=1)\n",
    "\n",
    "# roc curve for tpr = fpr \n",
    "random_probs = [0 for i in range(len(y_test))]\n",
    "p_fpr, p_tpr, _ = roc_curve(y_test, random_probs, pos_label=1)\n",
    "\n",
    "# auc score\n",
    "\n",
    "tree1_auc_score = roc_auc_score(y_test, pred_probtree1[:,1])\n",
    "\n",
    "print(tree1_auc_score)\n",
    "\n",
    "\n",
    "# matplotlib\n",
    "import matplotlib.pyplot as plt\n",
    "plt.style.use('seaborn')\n",
    "\n",
    "# plot roc curve\n",
    "plt.plot(fpr, tpr, label='Tree 1 (area = %0.3f)' % tree1_auc_score)\n",
    "plt.plot([0, 1], [0, 1],'r--')\n",
    "# title\n",
    "plt.title('ROC curve for Tree 1 with Max Depth = 7 and Min Sample Split = 7')\n",
    "# x label\n",
    "plt.xlabel('False Positive Rate')\n",
    "# y label\n",
    "plt.ylabel('True Positive rate')\n",
    "\n",
    "plt.legend(loc='best')\n",
    "plt.savefig('ROC',dpi=300)\n",
    "plt.show();"
   ]
  },
  {
   "cell_type": "markdown",
   "id": "anonymous-minority",
   "metadata": {},
   "source": [
    "## Fitting Tree 2 with parameters Max Depth = 3 and Min Sample Split = 2"
   ]
  },
  {
   "cell_type": "code",
   "execution_count": 83,
   "id": "organic-nirvana",
   "metadata": {},
   "outputs": [
    {
     "name": "stdout",
     "output_type": "stream",
     "text": [
      "Train set score: 0.6323\n",
      "Test set score: 0.6222\n",
      "              precision    recall  f1-score   support\n",
      "\n",
      "           0       0.24      0.73      0.36       455\n",
      "           1       0.93      0.60      0.73      2716\n",
      "\n",
      "    accuracy                           0.62      3171\n",
      "   macro avg       0.58      0.67      0.54      3171\n",
      "weighted avg       0.83      0.62      0.68      3171\n",
      "\n"
     ]
    }
   ],
   "source": [
    "# Fitting various tree models with parameters found above for average precision and f1, using the roc_auc_score as a measure of evaluation.\n",
    "\n",
    "\n",
    "tree2 = DecisionTreeClassifier(max_depth =3, min_samples_split=2, random_state = 0)\n",
    "tree2.fit(X_train, y_train)\n",
    "\n",
    "\n",
    "# predict probabilities\n",
    "\n",
    "pred_probtree2 = tree2.predict_proba(X_test)\n",
    "\n",
    "print(\"Train set score: {:.4f}\".format(tree2.score(X_train, y_train)))\n",
    "print(\"Test set score: {:.4f}\".format(tree2.score(X_test, y_test)))\n",
    "\n",
    "\n",
    "tree2classes = tree2.predict(X_test)\n",
    "print(metrics.classification_report(tree2classes, y_test))"
   ]
  },
  {
   "cell_type": "code",
   "execution_count": 84,
   "id": "spatial-shelter",
   "metadata": {},
   "outputs": [
    {
     "name": "stdout",
     "output_type": "stream",
     "text": [
      "0.6724247651366461\n"
     ]
    },
    {
     "data": {
      "image/png": "[encoded data removed]",
      "text/plain": [
       "<Figure size 576x396 with 1 Axes>"
      ]
     },
     "metadata": {},
     "output_type": "display_data"
    }
   ],
   "source": [
    "# Graphing the ROC Curve with AUC\n",
    "\n",
    "fpr, tpr, thresh = roc_curve(y_test, pred_probtree2[:,1], pos_label=1)\n",
    "\n",
    "# roc curve for tpr = fpr \n",
    "random_probs = [0 for i in range(len(y_test))]\n",
    "p_fpr, p_tpr, _ = roc_curve(y_test, random_probs, pos_label=1)\n",
    "\n",
    "# auc score\n",
    "\n",
    "tree2_auc_score = roc_auc_score(y_test, pred_probtree2[:,1])\n",
    "\n",
    "print(tree2_auc_score)\n",
    "\n",
    "\n",
    "\n",
    "# matplotlib\n",
    "import matplotlib.pyplot as plt\n",
    "plt.style.use('seaborn')\n",
    "\n",
    "# plot roc curve\n",
    "plt.plot(fpr, tpr, label='Tree 2 (area = %0.3f)' % tree2_auc_score)\n",
    "plt.plot([0, 1], [0, 1],'r--')\n",
    "# title\n",
    "plt.title('ROC curve for Tree 2 with Max Depth = 3 and Min Sample Split = 2')\n",
    "# x label\n",
    "plt.xlabel('False Positive Rate')\n",
    "# y label\n",
    "plt.ylabel('True Positive rate')\n",
    "\n",
    "plt.legend(loc='best')\n",
    "plt.savefig('ROC',dpi=300)\n",
    "plt.show();\n",
    "\n"
   ]
  },
  {
   "cell_type": "markdown",
   "id": "unlikely-jesus",
   "metadata": {},
   "source": [
    "### Based on the roc_auc_scores above, it can be said that tree 1, which uses a max depth =7 and a minimum split = 7, was the best decision tree, based on this evaluation."
   ]
  },
  {
   "cell_type": "markdown",
   "id": "binding-blend",
   "metadata": {},
   "source": [
    "## Kernelized Support Vector Machine "
   ]
  },
  {
   "cell_type": "code",
   "execution_count": 85,
   "id": "positive-climate",
   "metadata": {},
   "outputs": [],
   "source": [
    "%matplotlib inline\n",
    "from sklearn.datasets import make_moons\n",
    "from sklearn.svm import SVC\n",
    "from mlxtend.plotting import plot_decision_regions\n"
   ]
  },
  {
   "cell_type": "code",
   "execution_count": 86,
   "id": "exposed-washington",
   "metadata": {},
   "outputs": [
    {
     "name": "stdout",
     "output_type": "stream",
     "text": [
      "Fitting 5 folds for each of 60 candidates, totalling 300 fits\n",
      "[CV] C=0.01, gamma=100, kernel=rbf ...................................\n"
     ]
    },
    {
     "name": "stderr",
     "output_type": "stream",
     "text": [
      "[Parallel(n_jobs=1)]: Using backend SequentialBackend with 1 concurrent workers.\n"
     ]
    },
    {
     "name": "stdout",
     "output_type": "stream",
     "text": [
      "[CV] ....... C=0.01, gamma=100, kernel=rbf, score=0.572, total=  14.3s\n",
      "[CV] C=0.01, gamma=100, kernel=rbf ...................................\n"
     ]
    },
    {
     "name": "stderr",
     "output_type": "stream",
     "text": [
      "[Parallel(n_jobs=1)]: Done   1 out of   1 | elapsed:   14.2s remaining:    0.0s\n"
     ]
    },
    {
     "name": "stdout",
     "output_type": "stream",
     "text": [
      "[CV] ....... C=0.01, gamma=100, kernel=rbf, score=0.572, total=  14.3s\n",
      "[CV] C=0.01, gamma=100, kernel=rbf ...................................\n"
     ]
    },
    {
     "name": "stderr",
     "output_type": "stream",
     "text": [
      "[Parallel(n_jobs=1)]: Done   2 out of   2 | elapsed:   28.5s remaining:    0.0s\n"
     ]
    },
    {
     "name": "stdout",
     "output_type": "stream",
     "text": [
      "[CV] ....... C=0.01, gamma=100, kernel=rbf, score=0.572, total=  13.3s\n",
      "[CV] C=0.01, gamma=100, kernel=rbf ...................................\n",
      "[CV] ....... C=0.01, gamma=100, kernel=rbf, score=0.572, total=  12.7s\n",
      "[CV] C=0.01, gamma=100, kernel=rbf ...................................\n",
      "[CV] ....... C=0.01, gamma=100, kernel=rbf, score=0.573, total=  13.4s\n",
      "[CV] C=0.01, gamma=100, kernel=linear ................................\n",
      "[CV] .... C=0.01, gamma=100, kernel=linear, score=0.696, total=   5.8s\n",
      "[CV] C=0.01, gamma=100, kernel=linear ................................\n",
      "[CV] .... C=0.01, gamma=100, kernel=linear, score=0.686, total=   6.0s\n",
      "[CV] C=0.01, gamma=100, kernel=linear ................................\n",
      "[CV] .... C=0.01, gamma=100, kernel=linear, score=0.675, total=   5.8s\n",
      "[CV] C=0.01, gamma=100, kernel=linear ................................\n",
      "[CV] .... C=0.01, gamma=100, kernel=linear, score=0.693, total=   5.7s\n",
      "[CV] C=0.01, gamma=100, kernel=linear ................................\n",
      "[CV] .... C=0.01, gamma=100, kernel=linear, score=0.679, total=   5.8s\n",
      "[CV] C=0.01, gamma=10, kernel=rbf ....................................\n",
      "[CV] ........ C=0.01, gamma=10, kernel=rbf, score=0.572, total=  10.1s\n",
      "[CV] C=0.01, gamma=10, kernel=rbf ....................................\n",
      "[CV] ........ C=0.01, gamma=10, kernel=rbf, score=0.572, total=   9.5s\n",
      "[CV] C=0.01, gamma=10, kernel=rbf ....................................\n",
      "[CV] ........ C=0.01, gamma=10, kernel=rbf, score=0.572, total=   9.7s\n",
      "[CV] C=0.01, gamma=10, kernel=rbf ....................................\n",
      "[CV] ........ C=0.01, gamma=10, kernel=rbf, score=0.572, total=   9.1s\n",
      "[CV] C=0.01, gamma=10, kernel=rbf ....................................\n",
      "[CV] ........ C=0.01, gamma=10, kernel=rbf, score=0.573, total=   9.1s\n",
      "[CV] C=0.01, gamma=10, kernel=linear .................................\n",
      "[CV] ..... C=0.01, gamma=10, kernel=linear, score=0.696, total=   5.5s\n",
      "[CV] C=0.01, gamma=10, kernel=linear .................................\n",
      "[CV] ..... C=0.01, gamma=10, kernel=linear, score=0.686, total=   5.6s\n",
      "[CV] C=0.01, gamma=10, kernel=linear .................................\n",
      "[CV] ..... C=0.01, gamma=10, kernel=linear, score=0.675, total=   6.1s\n",
      "[CV] C=0.01, gamma=10, kernel=linear .................................\n",
      "[CV] ..... C=0.01, gamma=10, kernel=linear, score=0.693, total=   5.9s\n",
      "[CV] C=0.01, gamma=10, kernel=linear .................................\n",
      "[CV] ..... C=0.01, gamma=10, kernel=linear, score=0.679, total=   5.6s\n",
      "[CV] C=0.01, gamma=1, kernel=rbf .....................................\n",
      "[CV] ......... C=0.01, gamma=1, kernel=rbf, score=0.572, total=  10.1s\n",
      "[CV] C=0.01, gamma=1, kernel=rbf .....................................\n",
      "[CV] ......... C=0.01, gamma=1, kernel=rbf, score=0.572, total=   9.9s\n",
      "[CV] C=0.01, gamma=1, kernel=rbf .....................................\n",
      "[CV] ......... C=0.01, gamma=1, kernel=rbf, score=0.572, total=   8.9s\n",
      "[CV] C=0.01, gamma=1, kernel=rbf .....................................\n",
      "[CV] ......... C=0.01, gamma=1, kernel=rbf, score=0.572, total=   9.8s\n",
      "[CV] C=0.01, gamma=1, kernel=rbf .....................................\n",
      "[CV] ......... C=0.01, gamma=1, kernel=rbf, score=0.573, total=  10.1s\n",
      "[CV] C=0.01, gamma=1, kernel=linear ..................................\n",
      "[CV] ...... C=0.01, gamma=1, kernel=linear, score=0.696, total=   6.1s\n",
      "[CV] C=0.01, gamma=1, kernel=linear ..................................\n",
      "[CV] ...... C=0.01, gamma=1, kernel=linear, score=0.686, total=   6.2s\n",
      "[CV] C=0.01, gamma=1, kernel=linear ..................................\n",
      "[CV] ...... C=0.01, gamma=1, kernel=linear, score=0.675, total=   5.9s\n",
      "[CV] C=0.01, gamma=1, kernel=linear ..................................\n",
      "[CV] ...... C=0.01, gamma=1, kernel=linear, score=0.693, total=   6.8s\n",
      "[CV] C=0.01, gamma=1, kernel=linear ..................................\n",
      "[CV] ...... C=0.01, gamma=1, kernel=linear, score=0.679, total=   5.5s\n",
      "[CV] C=0.01, gamma=0.1, kernel=rbf ...................................\n",
      "[CV] ....... C=0.01, gamma=0.1, kernel=rbf, score=0.572, total=   9.0s\n",
      "[CV] C=0.01, gamma=0.1, kernel=rbf ...................................\n",
      "[CV] ....... C=0.01, gamma=0.1, kernel=rbf, score=0.572, total=   9.3s\n",
      "[CV] C=0.01, gamma=0.1, kernel=rbf ...................................\n",
      "[CV] ....... C=0.01, gamma=0.1, kernel=rbf, score=0.572, total=   8.9s\n",
      "[CV] C=0.01, gamma=0.1, kernel=rbf ...................................\n",
      "[CV] ....... C=0.01, gamma=0.1, kernel=rbf, score=0.572, total=   9.3s\n",
      "[CV] C=0.01, gamma=0.1, kernel=rbf ...................................\n",
      "[CV] ....... C=0.01, gamma=0.1, kernel=rbf, score=0.573, total=   8.0s\n",
      "[CV] C=0.01, gamma=0.1, kernel=linear ................................\n",
      "[CV] .... C=0.01, gamma=0.1, kernel=linear, score=0.696, total=   6.0s\n",
      "[CV] C=0.01, gamma=0.1, kernel=linear ................................\n",
      "[CV] .... C=0.01, gamma=0.1, kernel=linear, score=0.686, total=   5.9s\n",
      "[CV] C=0.01, gamma=0.1, kernel=linear ................................\n",
      "[CV] .... C=0.01, gamma=0.1, kernel=linear, score=0.675, total=   5.9s\n",
      "[CV] C=0.01, gamma=0.1, kernel=linear ................................\n",
      "[CV] .... C=0.01, gamma=0.1, kernel=linear, score=0.693, total=   6.0s\n",
      "[CV] C=0.01, gamma=0.1, kernel=linear ................................\n",
      "[CV] .... C=0.01, gamma=0.1, kernel=linear, score=0.679, total=   5.6s\n",
      "[CV] C=0.01, gamma=0.01, kernel=rbf ..................................\n",
      "[CV] ...... C=0.01, gamma=0.01, kernel=rbf, score=0.572, total=   8.3s\n",
      "[CV] C=0.01, gamma=0.01, kernel=rbf ..................................\n",
      "[CV] ...... C=0.01, gamma=0.01, kernel=rbf, score=0.572, total=   7.9s\n",
      "[CV] C=0.01, gamma=0.01, kernel=rbf ..................................\n",
      "[CV] ...... C=0.01, gamma=0.01, kernel=rbf, score=0.572, total=   7.9s\n",
      "[CV] C=0.01, gamma=0.01, kernel=rbf ..................................\n",
      "[CV] ...... C=0.01, gamma=0.01, kernel=rbf, score=0.572, total=   8.0s\n",
      "[CV] C=0.01, gamma=0.01, kernel=rbf ..................................\n",
      "[CV] ...... C=0.01, gamma=0.01, kernel=rbf, score=0.573, total=   7.9s\n",
      "[CV] C=0.01, gamma=0.01, kernel=linear ...............................\n",
      "[CV] ... C=0.01, gamma=0.01, kernel=linear, score=0.696, total=   5.4s\n",
      "[CV] C=0.01, gamma=0.01, kernel=linear ...............................\n",
      "[CV] ... C=0.01, gamma=0.01, kernel=linear, score=0.686, total=   5.4s\n",
      "[CV] C=0.01, gamma=0.01, kernel=linear ...............................\n",
      "[CV] ... C=0.01, gamma=0.01, kernel=linear, score=0.675, total=   5.9s\n",
      "[CV] C=0.01, gamma=0.01, kernel=linear ...............................\n",
      "[CV] ... C=0.01, gamma=0.01, kernel=linear, score=0.693, total=   5.6s\n",
      "[CV] C=0.01, gamma=0.01, kernel=linear ...............................\n",
      "[CV] ... C=0.01, gamma=0.01, kernel=linear, score=0.679, total=   5.9s\n",
      "[CV] C=0.01, gamma=0.001, kernel=rbf .................................\n",
      "[CV] ..... C=0.01, gamma=0.001, kernel=rbf, score=0.572, total=   8.7s\n",
      "[CV] C=0.01, gamma=0.001, kernel=rbf .................................\n",
      "[CV] ..... C=0.01, gamma=0.001, kernel=rbf, score=0.572, total=   8.3s\n",
      "[CV] C=0.01, gamma=0.001, kernel=rbf .................................\n",
      "[CV] ..... C=0.01, gamma=0.001, kernel=rbf, score=0.572, total=   7.9s\n",
      "[CV] C=0.01, gamma=0.001, kernel=rbf .................................\n",
      "[CV] ..... C=0.01, gamma=0.001, kernel=rbf, score=0.572, total=   7.8s\n",
      "[CV] C=0.01, gamma=0.001, kernel=rbf .................................\n",
      "[CV] ..... C=0.01, gamma=0.001, kernel=rbf, score=0.573, total=   7.8s\n",
      "[CV] C=0.01, gamma=0.001, kernel=linear ..............................\n",
      "[CV] .. C=0.01, gamma=0.001, kernel=linear, score=0.696, total=   5.4s\n",
      "[CV] C=0.01, gamma=0.001, kernel=linear ..............................\n",
      "[CV] .. C=0.01, gamma=0.001, kernel=linear, score=0.686, total=   5.4s\n",
      "[CV] C=0.01, gamma=0.001, kernel=linear ..............................\n",
      "[CV] .. C=0.01, gamma=0.001, kernel=linear, score=0.675, total=   5.3s\n",
      "[CV] C=0.01, gamma=0.001, kernel=linear ..............................\n",
      "[CV] .. C=0.01, gamma=0.001, kernel=linear, score=0.693, total=   5.5s\n",
      "[CV] C=0.01, gamma=0.001, kernel=linear ..............................\n",
      "[CV] .. C=0.01, gamma=0.001, kernel=linear, score=0.679, total=   5.4s\n",
      "[CV] C=0.1, gamma=100, kernel=rbf ....................................\n",
      "[CV] ........ C=0.1, gamma=100, kernel=rbf, score=0.572, total=  12.4s\n",
      "[CV] C=0.1, gamma=100, kernel=rbf ....................................\n",
      "[CV] ........ C=0.1, gamma=100, kernel=rbf, score=0.572, total=  12.5s\n",
      "[CV] C=0.1, gamma=100, kernel=rbf ....................................\n",
      "[CV] ........ C=0.1, gamma=100, kernel=rbf, score=0.572, total=  12.5s\n",
      "[CV] C=0.1, gamma=100, kernel=rbf ....................................\n",
      "[CV] ........ C=0.1, gamma=100, kernel=rbf, score=0.572, total=  12.1s\n",
      "[CV] C=0.1, gamma=100, kernel=rbf ....................................\n",
      "[CV] ........ C=0.1, gamma=100, kernel=rbf, score=0.573, total=  12.0s\n",
      "[CV] C=0.1, gamma=100, kernel=linear .................................\n",
      "[CV] ..... C=0.1, gamma=100, kernel=linear, score=0.697, total=   5.1s\n",
      "[CV] C=0.1, gamma=100, kernel=linear .................................\n",
      "[CV] ..... C=0.1, gamma=100, kernel=linear, score=0.687, total=   5.0s\n",
      "[CV] C=0.1, gamma=100, kernel=linear .................................\n",
      "[CV] ..... C=0.1, gamma=100, kernel=linear, score=0.683, total=   5.1s\n",
      "[CV] C=0.1, gamma=100, kernel=linear .................................\n",
      "[CV] ..... C=0.1, gamma=100, kernel=linear, score=0.687, total=   5.4s\n",
      "[CV] C=0.1, gamma=100, kernel=linear .................................\n",
      "[CV] ..... C=0.1, gamma=100, kernel=linear, score=0.681, total=   5.0s\n",
      "[CV] C=0.1, gamma=10, kernel=rbf .....................................\n",
      "[CV] ......... C=0.1, gamma=10, kernel=rbf, score=0.572, total=   9.7s\n",
      "[CV] C=0.1, gamma=10, kernel=rbf .....................................\n",
      "[CV] ......... C=0.1, gamma=10, kernel=rbf, score=0.572, total=   9.6s\n",
      "[CV] C=0.1, gamma=10, kernel=rbf .....................................\n",
      "[CV] ......... C=0.1, gamma=10, kernel=rbf, score=0.572, total=   9.2s\n",
      "[CV] C=0.1, gamma=10, kernel=rbf .....................................\n",
      "[CV] ......... C=0.1, gamma=10, kernel=rbf, score=0.572, total=   9.1s\n",
      "[CV] C=0.1, gamma=10, kernel=rbf .....................................\n",
      "[CV] ......... C=0.1, gamma=10, kernel=rbf, score=0.573, total=   9.4s\n",
      "[CV] C=0.1, gamma=10, kernel=linear ..................................\n",
      "[CV] ...... C=0.1, gamma=10, kernel=linear, score=0.697, total=   5.6s\n",
      "[CV] C=0.1, gamma=10, kernel=linear ..................................\n",
      "[CV] ...... C=0.1, gamma=10, kernel=linear, score=0.687, total=   5.3s\n",
      "[CV] C=0.1, gamma=10, kernel=linear ..................................\n",
      "[CV] ...... C=0.1, gamma=10, kernel=linear, score=0.683, total=   6.1s\n",
      "[CV] C=0.1, gamma=10, kernel=linear ..................................\n",
      "[CV] ...... C=0.1, gamma=10, kernel=linear, score=0.687, total=   5.4s\n",
      "[CV] C=0.1, gamma=10, kernel=linear ..................................\n",
      "[CV] ...... C=0.1, gamma=10, kernel=linear, score=0.681, total=   5.4s\n",
      "[CV] C=0.1, gamma=1, kernel=rbf ......................................\n",
      "[CV] .......... C=0.1, gamma=1, kernel=rbf, score=0.572, total=   9.8s\n",
      "[CV] C=0.1, gamma=1, kernel=rbf ......................................\n",
      "[CV] .......... C=0.1, gamma=1, kernel=rbf, score=0.572, total=   9.5s\n",
      "[CV] C=0.1, gamma=1, kernel=rbf ......................................\n",
      "[CV] .......... C=0.1, gamma=1, kernel=rbf, score=0.572, total=  11.5s\n",
      "[CV] C=0.1, gamma=1, kernel=rbf ......................................\n",
      "[CV] .......... C=0.1, gamma=1, kernel=rbf, score=0.572, total=   9.6s\n",
      "[CV] C=0.1, gamma=1, kernel=rbf ......................................\n",
      "[CV] .......... C=0.1, gamma=1, kernel=rbf, score=0.573, total=   9.6s\n",
      "[CV] C=0.1, gamma=1, kernel=linear ...................................\n",
      "[CV] ....... C=0.1, gamma=1, kernel=linear, score=0.697, total=   5.2s\n",
      "[CV] C=0.1, gamma=1, kernel=linear ...................................\n",
      "[CV] ....... C=0.1, gamma=1, kernel=linear, score=0.687, total=   5.2s\n",
      "[CV] C=0.1, gamma=1, kernel=linear ...................................\n",
      "[CV] ....... C=0.1, gamma=1, kernel=linear, score=0.683, total=   5.2s\n",
      "[CV] C=0.1, gamma=1, kernel=linear ...................................\n",
      "[CV] ....... C=0.1, gamma=1, kernel=linear, score=0.687, total=   5.3s\n",
      "[CV] C=0.1, gamma=1, kernel=linear ...................................\n",
      "[CV] ....... C=0.1, gamma=1, kernel=linear, score=0.681, total=   5.3s\n",
      "[CV] C=0.1, gamma=0.1, kernel=rbf ....................................\n",
      "[CV] ........ C=0.1, gamma=0.1, kernel=rbf, score=0.704, total=   7.6s\n",
      "[CV] C=0.1, gamma=0.1, kernel=rbf ....................................\n",
      "[CV] ........ C=0.1, gamma=0.1, kernel=rbf, score=0.687, total=   7.2s\n",
      "[CV] C=0.1, gamma=0.1, kernel=rbf ....................................\n",
      "[CV] ........ C=0.1, gamma=0.1, kernel=rbf, score=0.701, total=   7.2s\n",
      "[CV] C=0.1, gamma=0.1, kernel=rbf ....................................\n",
      "[CV] ........ C=0.1, gamma=0.1, kernel=rbf, score=0.700, total=   7.0s\n",
      "[CV] C=0.1, gamma=0.1, kernel=rbf ....................................\n",
      "[CV] ........ C=0.1, gamma=0.1, kernel=rbf, score=0.698, total=   7.3s\n",
      "[CV] C=0.1, gamma=0.1, kernel=linear .................................\n",
      "[CV] ..... C=0.1, gamma=0.1, kernel=linear, score=0.697, total=   5.2s\n",
      "[CV] C=0.1, gamma=0.1, kernel=linear .................................\n",
      "[CV] ..... C=0.1, gamma=0.1, kernel=linear, score=0.687, total=   5.1s\n",
      "[CV] C=0.1, gamma=0.1, kernel=linear .................................\n",
      "[CV] ..... C=0.1, gamma=0.1, kernel=linear, score=0.683, total=   5.5s\n",
      "[CV] C=0.1, gamma=0.1, kernel=linear .................................\n",
      "[CV] ..... C=0.1, gamma=0.1, kernel=linear, score=0.687, total=   5.3s\n",
      "[CV] C=0.1, gamma=0.1, kernel=linear .................................\n",
      "[CV] ..... C=0.1, gamma=0.1, kernel=linear, score=0.681, total=   5.3s\n",
      "[CV] C=0.1, gamma=0.01, kernel=rbf ...................................\n",
      "[CV] ....... C=0.1, gamma=0.01, kernel=rbf, score=0.676, total=   7.7s\n",
      "[CV] C=0.1, gamma=0.01, kernel=rbf ...................................\n",
      "[CV] ....... C=0.1, gamma=0.01, kernel=rbf, score=0.664, total=   7.8s\n",
      "[CV] C=0.1, gamma=0.01, kernel=rbf ...................................\n",
      "[CV] ....... C=0.1, gamma=0.01, kernel=rbf, score=0.665, total=   7.5s\n",
      "[CV] C=0.1, gamma=0.01, kernel=rbf ...................................\n",
      "[CV] ....... C=0.1, gamma=0.01, kernel=rbf, score=0.676, total=   7.4s\n",
      "[CV] C=0.1, gamma=0.01, kernel=rbf ...................................\n",
      "[CV] ....... C=0.1, gamma=0.01, kernel=rbf, score=0.664, total=   7.6s\n",
      "[CV] C=0.1, gamma=0.01, kernel=linear ................................\n",
      "[CV] .... C=0.1, gamma=0.01, kernel=linear, score=0.697, total=   5.0s\n",
      "[CV] C=0.1, gamma=0.01, kernel=linear ................................\n",
      "[CV] .... C=0.1, gamma=0.01, kernel=linear, score=0.687, total=   5.0s\n",
      "[CV] C=0.1, gamma=0.01, kernel=linear ................................\n",
      "[CV] .... C=0.1, gamma=0.01, kernel=linear, score=0.683, total=   5.6s\n",
      "[CV] C=0.1, gamma=0.01, kernel=linear ................................\n",
      "[CV] .... C=0.1, gamma=0.01, kernel=linear, score=0.687, total=   5.2s\n",
      "[CV] C=0.1, gamma=0.01, kernel=linear ................................\n",
      "[CV] .... C=0.1, gamma=0.01, kernel=linear, score=0.681, total=   5.1s\n",
      "[CV] C=0.1, gamma=0.001, kernel=rbf ..................................\n",
      "[CV] ...... C=0.1, gamma=0.001, kernel=rbf, score=0.572, total=   7.5s\n",
      "[CV] C=0.1, gamma=0.001, kernel=rbf ..................................\n",
      "[CV] ...... C=0.1, gamma=0.001, kernel=rbf, score=0.572, total=   7.7s\n",
      "[CV] C=0.1, gamma=0.001, kernel=rbf ..................................\n",
      "[CV] ...... C=0.1, gamma=0.001, kernel=rbf, score=0.572, total=   7.6s\n",
      "[CV] C=0.1, gamma=0.001, kernel=rbf ..................................\n",
      "[CV] ...... C=0.1, gamma=0.001, kernel=rbf, score=0.572, total=   7.6s\n",
      "[CV] C=0.1, gamma=0.001, kernel=rbf ..................................\n",
      "[CV] ...... C=0.1, gamma=0.001, kernel=rbf, score=0.573, total=   7.8s\n",
      "[CV] C=0.1, gamma=0.001, kernel=linear ...............................\n",
      "[CV] ... C=0.1, gamma=0.001, kernel=linear, score=0.697, total=   5.2s\n",
      "[CV] C=0.1, gamma=0.001, kernel=linear ...............................\n",
      "[CV] ... C=0.1, gamma=0.001, kernel=linear, score=0.687, total=   5.3s\n",
      "[CV] C=0.1, gamma=0.001, kernel=linear ...............................\n",
      "[CV] ... C=0.1, gamma=0.001, kernel=linear, score=0.683, total=   5.4s\n",
      "[CV] C=0.1, gamma=0.001, kernel=linear ...............................\n",
      "[CV] ... C=0.1, gamma=0.001, kernel=linear, score=0.687, total=   5.4s\n",
      "[CV] C=0.1, gamma=0.001, kernel=linear ...............................\n",
      "[CV] ... C=0.1, gamma=0.001, kernel=linear, score=0.681, total=   5.2s\n",
      "[CV] C=1, gamma=100, kernel=rbf ......................................\n",
      "[CV] .......... C=1, gamma=100, kernel=rbf, score=0.573, total=  13.2s\n",
      "[CV] C=1, gamma=100, kernel=rbf ......................................\n",
      "[CV] .......... C=1, gamma=100, kernel=rbf, score=0.574, total=  13.1s\n",
      "[CV] C=1, gamma=100, kernel=rbf ......................................\n",
      "[CV] .......... C=1, gamma=100, kernel=rbf, score=0.573, total=  12.9s\n",
      "[CV] C=1, gamma=100, kernel=rbf ......................................\n",
      "[CV] .......... C=1, gamma=100, kernel=rbf, score=0.572, total=  13.1s\n",
      "[CV] C=1, gamma=100, kernel=rbf ......................................\n",
      "[CV] .......... C=1, gamma=100, kernel=rbf, score=0.574, total=  13.2s\n",
      "[CV] C=1, gamma=100, kernel=linear ...................................\n",
      "[CV] ....... C=1, gamma=100, kernel=linear, score=0.696, total=   6.7s\n",
      "[CV] C=1, gamma=100, kernel=linear ...................................\n",
      "[CV] ....... C=1, gamma=100, kernel=linear, score=0.683, total=   6.7s\n",
      "[CV] C=1, gamma=100, kernel=linear ...................................\n",
      "[CV] ....... C=1, gamma=100, kernel=linear, score=0.686, total=   6.6s\n",
      "[CV] C=1, gamma=100, kernel=linear ...................................\n",
      "[CV] ....... C=1, gamma=100, kernel=linear, score=0.684, total=   7.0s\n",
      "[CV] C=1, gamma=100, kernel=linear ...................................\n",
      "[CV] ....... C=1, gamma=100, kernel=linear, score=0.682, total=   6.9s\n",
      "[CV] C=1, gamma=10, kernel=rbf .......................................\n",
      "[CV] ........... C=1, gamma=10, kernel=rbf, score=0.573, total=  10.0s\n",
      "[CV] C=1, gamma=10, kernel=rbf .......................................\n",
      "[CV] ........... C=1, gamma=10, kernel=rbf, score=0.574, total=  10.1s\n",
      "[CV] C=1, gamma=10, kernel=rbf .......................................\n",
      "[CV] ........... C=1, gamma=10, kernel=rbf, score=0.573, total=   9.8s\n",
      "[CV] C=1, gamma=10, kernel=rbf .......................................\n",
      "[CV] ........... C=1, gamma=10, kernel=rbf, score=0.572, total=   9.5s\n",
      "[CV] C=1, gamma=10, kernel=rbf .......................................\n",
      "[CV] ........... C=1, gamma=10, kernel=rbf, score=0.574, total=   9.4s\n",
      "[CV] C=1, gamma=10, kernel=linear ....................................\n",
      "[CV] ........ C=1, gamma=10, kernel=linear, score=0.696, total=   6.5s\n",
      "[CV] C=1, gamma=10, kernel=linear ....................................\n",
      "[CV] ........ C=1, gamma=10, kernel=linear, score=0.683, total=   6.5s\n",
      "[CV] C=1, gamma=10, kernel=linear ....................................\n",
      "[CV] ........ C=1, gamma=10, kernel=linear, score=0.686, total=   6.6s\n",
      "[CV] C=1, gamma=10, kernel=linear ....................................\n",
      "[CV] ........ C=1, gamma=10, kernel=linear, score=0.684, total=   6.8s\n",
      "[CV] C=1, gamma=10, kernel=linear ....................................\n",
      "[CV] ........ C=1, gamma=10, kernel=linear, score=0.682, total=   6.6s\n",
      "[CV] C=1, gamma=1, kernel=rbf ........................................\n",
      "[CV] ............ C=1, gamma=1, kernel=rbf, score=0.584, total=   9.7s\n",
      "[CV] C=1, gamma=1, kernel=rbf ........................................\n",
      "[CV] ............ C=1, gamma=1, kernel=rbf, score=0.582, total=   9.8s\n",
      "[CV] C=1, gamma=1, kernel=rbf ........................................\n",
      "[CV] ............ C=1, gamma=1, kernel=rbf, score=0.583, total=   9.7s\n",
      "[CV] C=1, gamma=1, kernel=rbf ........................................\n",
      "[CV] ............ C=1, gamma=1, kernel=rbf, score=0.582, total=  10.1s\n",
      "[CV] C=1, gamma=1, kernel=rbf ........................................\n",
      "[CV] ............ C=1, gamma=1, kernel=rbf, score=0.586, total=  10.4s\n",
      "[CV] C=1, gamma=1, kernel=linear .....................................\n",
      "[CV] ......... C=1, gamma=1, kernel=linear, score=0.696, total=   6.9s\n",
      "[CV] C=1, gamma=1, kernel=linear .....................................\n",
      "[CV] ......... C=1, gamma=1, kernel=linear, score=0.683, total=   6.4s\n",
      "[CV] C=1, gamma=1, kernel=linear .....................................\n",
      "[CV] ......... C=1, gamma=1, kernel=linear, score=0.686, total=   6.3s\n",
      "[CV] C=1, gamma=1, kernel=linear .....................................\n",
      "[CV] ......... C=1, gamma=1, kernel=linear, score=0.684, total=   6.3s\n",
      "[CV] C=1, gamma=1, kernel=linear .....................................\n",
      "[CV] ......... C=1, gamma=1, kernel=linear, score=0.682, total=   6.5s\n",
      "[CV] C=1, gamma=0.1, kernel=rbf ......................................\n",
      "[CV] .......... C=1, gamma=0.1, kernel=rbf, score=0.756, total=   6.2s\n",
      "[CV] C=1, gamma=0.1, kernel=rbf ......................................\n",
      "[CV] .......... C=1, gamma=0.1, kernel=rbf, score=0.741, total=   6.2s\n",
      "[CV] C=1, gamma=0.1, kernel=rbf ......................................\n",
      "[CV] .......... C=1, gamma=0.1, kernel=rbf, score=0.756, total=   6.3s\n",
      "[CV] C=1, gamma=0.1, kernel=rbf ......................................\n",
      "[CV] .......... C=1, gamma=0.1, kernel=rbf, score=0.748, total=   6.1s\n",
      "[CV] C=1, gamma=0.1, kernel=rbf ......................................\n",
      "[CV] .......... C=1, gamma=0.1, kernel=rbf, score=0.745, total=   6.2s\n",
      "[CV] C=1, gamma=0.1, kernel=linear ...................................\n",
      "[CV] ....... C=1, gamma=0.1, kernel=linear, score=0.696, total=   6.3s\n",
      "[CV] C=1, gamma=0.1, kernel=linear ...................................\n",
      "[CV] ....... C=1, gamma=0.1, kernel=linear, score=0.683, total=   6.6s\n",
      "[CV] C=1, gamma=0.1, kernel=linear ...................................\n",
      "[CV] ....... C=1, gamma=0.1, kernel=linear, score=0.686, total=   6.4s\n",
      "[CV] C=1, gamma=0.1, kernel=linear ...................................\n",
      "[CV] ....... C=1, gamma=0.1, kernel=linear, score=0.684, total=   6.6s\n",
      "[CV] C=1, gamma=0.1, kernel=linear ...................................\n",
      "[CV] ....... C=1, gamma=0.1, kernel=linear, score=0.682, total=   6.6s\n",
      "[CV] C=1, gamma=0.01, kernel=rbf .....................................\n",
      "[CV] ......... C=1, gamma=0.01, kernel=rbf, score=0.707, total=   6.5s\n",
      "[CV] C=1, gamma=0.01, kernel=rbf .....................................\n",
      "[CV] ......... C=1, gamma=0.01, kernel=rbf, score=0.696, total=   6.1s\n",
      "[CV] C=1, gamma=0.01, kernel=rbf .....................................\n",
      "[CV] ......... C=1, gamma=0.01, kernel=rbf, score=0.705, total=   6.2s\n",
      "[CV] C=1, gamma=0.01, kernel=rbf .....................................\n",
      "[CV] ......... C=1, gamma=0.01, kernel=rbf, score=0.707, total=   6.3s\n",
      "[CV] C=1, gamma=0.01, kernel=rbf .....................................\n",
      "[CV] ......... C=1, gamma=0.01, kernel=rbf, score=0.692, total=   6.3s\n",
      "[CV] C=1, gamma=0.01, kernel=linear ..................................\n",
      "[CV] ...... C=1, gamma=0.01, kernel=linear, score=0.696, total=   6.2s\n",
      "[CV] C=1, gamma=0.01, kernel=linear ..................................\n",
      "[CV] ...... C=1, gamma=0.01, kernel=linear, score=0.683, total=   6.2s\n",
      "[CV] C=1, gamma=0.01, kernel=linear ..................................\n",
      "[CV] ...... C=1, gamma=0.01, kernel=linear, score=0.686, total=   6.1s\n",
      "[CV] C=1, gamma=0.01, kernel=linear ..................................\n",
      "[CV] ...... C=1, gamma=0.01, kernel=linear, score=0.684, total=   6.2s\n",
      "[CV] C=1, gamma=0.01, kernel=linear ..................................\n",
      "[CV] ...... C=1, gamma=0.01, kernel=linear, score=0.682, total=   6.5s\n",
      "[CV] C=1, gamma=0.001, kernel=rbf ....................................\n",
      "[CV] ........ C=1, gamma=0.001, kernel=rbf, score=0.687, total=   7.3s\n",
      "[CV] C=1, gamma=0.001, kernel=rbf ....................................\n",
      "[CV] ........ C=1, gamma=0.001, kernel=rbf, score=0.667, total=   8.5s\n",
      "[CV] C=1, gamma=0.001, kernel=rbf ....................................\n",
      "[CV] ........ C=1, gamma=0.001, kernel=rbf, score=0.667, total=   7.7s\n",
      "[CV] C=1, gamma=0.001, kernel=rbf ....................................\n",
      "[CV] ........ C=1, gamma=0.001, kernel=rbf, score=0.677, total=   7.3s\n",
      "[CV] C=1, gamma=0.001, kernel=rbf ....................................\n",
      "[CV] ........ C=1, gamma=0.001, kernel=rbf, score=0.667, total=   7.2s\n",
      "[CV] C=1, gamma=0.001, kernel=linear .................................\n",
      "[CV] ..... C=1, gamma=0.001, kernel=linear, score=0.696, total=   7.5s\n",
      "[CV] C=1, gamma=0.001, kernel=linear .................................\n",
      "[CV] ..... C=1, gamma=0.001, kernel=linear, score=0.683, total=   6.8s\n",
      "[CV] C=1, gamma=0.001, kernel=linear .................................\n",
      "[CV] ..... C=1, gamma=0.001, kernel=linear, score=0.686, total=   6.4s\n",
      "[CV] C=1, gamma=0.001, kernel=linear .................................\n",
      "[CV] ..... C=1, gamma=0.001, kernel=linear, score=0.684, total=   6.5s\n",
      "[CV] C=1, gamma=0.001, kernel=linear .................................\n",
      "[CV] ..... C=1, gamma=0.001, kernel=linear, score=0.682, total=   6.6s\n",
      "[CV] C=10, gamma=100, kernel=rbf .....................................\n",
      "[CV] ......... C=10, gamma=100, kernel=rbf, score=0.573, total=  28.5s\n",
      "[CV] C=10, gamma=100, kernel=rbf .....................................\n",
      "[CV] ......... C=10, gamma=100, kernel=rbf, score=0.574, total=  27.4s\n",
      "[CV] C=10, gamma=100, kernel=rbf .....................................\n",
      "[CV] ......... C=10, gamma=100, kernel=rbf, score=0.573, total=  28.4s\n",
      "[CV] C=10, gamma=100, kernel=rbf .....................................\n",
      "[CV] ......... C=10, gamma=100, kernel=rbf, score=0.572, total=  30.3s\n",
      "[CV] C=10, gamma=100, kernel=rbf .....................................\n",
      "[CV] ......... C=10, gamma=100, kernel=rbf, score=0.574, total=  28.5s\n",
      "[CV] C=10, gamma=100, kernel=linear ..................................\n",
      "[CV] ...... C=10, gamma=100, kernel=linear, score=0.695, total=  12.9s\n",
      "[CV] C=10, gamma=100, kernel=linear ..................................\n",
      "[CV] ...... C=10, gamma=100, kernel=linear, score=0.681, total=  13.4s\n",
      "[CV] C=10, gamma=100, kernel=linear ..................................\n",
      "[CV] ...... C=10, gamma=100, kernel=linear, score=0.688, total=  12.9s\n",
      "[CV] C=10, gamma=100, kernel=linear ..................................\n",
      "[CV] ...... C=10, gamma=100, kernel=linear, score=0.683, total=  13.3s\n",
      "[CV] C=10, gamma=100, kernel=linear ..................................\n",
      "[CV] ...... C=10, gamma=100, kernel=linear, score=0.682, total=  13.3s\n",
      "[CV] C=10, gamma=10, kernel=rbf ......................................\n",
      "[CV] .......... C=10, gamma=10, kernel=rbf, score=0.573, total=  20.7s\n",
      "[CV] C=10, gamma=10, kernel=rbf ......................................\n",
      "[CV] .......... C=10, gamma=10, kernel=rbf, score=0.574, total=  22.4s\n",
      "[CV] C=10, gamma=10, kernel=rbf ......................................\n",
      "[CV] .......... C=10, gamma=10, kernel=rbf, score=0.573, total=  21.2s\n",
      "[CV] C=10, gamma=10, kernel=rbf ......................................\n",
      "[CV] .......... C=10, gamma=10, kernel=rbf, score=0.572, total=  22.0s\n",
      "[CV] C=10, gamma=10, kernel=rbf ......................................\n",
      "[CV] .......... C=10, gamma=10, kernel=rbf, score=0.574, total=  22.4s\n",
      "[CV] C=10, gamma=10, kernel=linear ...................................\n",
      "[CV] ....... C=10, gamma=10, kernel=linear, score=0.695, total=  12.8s\n",
      "[CV] C=10, gamma=10, kernel=linear ...................................\n",
      "[CV] ....... C=10, gamma=10, kernel=linear, score=0.681, total=  13.3s\n",
      "[CV] C=10, gamma=10, kernel=linear ...................................\n",
      "[CV] ....... C=10, gamma=10, kernel=linear, score=0.688, total=  12.6s\n",
      "[CV] C=10, gamma=10, kernel=linear ...................................\n",
      "[CV] ....... C=10, gamma=10, kernel=linear, score=0.683, total=  13.1s\n",
      "[CV] C=10, gamma=10, kernel=linear ...................................\n",
      "[CV] ....... C=10, gamma=10, kernel=linear, score=0.682, total=  13.0s\n",
      "[CV] C=10, gamma=1, kernel=rbf .......................................\n",
      "[CV] ........... C=10, gamma=1, kernel=rbf, score=0.597, total=  16.1s\n",
      "[CV] C=10, gamma=1, kernel=rbf .......................................\n",
      "[CV] ........... C=10, gamma=1, kernel=rbf, score=0.593, total=  16.7s\n",
      "[CV] C=10, gamma=1, kernel=rbf .......................................\n",
      "[CV] ........... C=10, gamma=1, kernel=rbf, score=0.588, total=  16.3s\n",
      "[CV] C=10, gamma=1, kernel=rbf .......................................\n",
      "[CV] ........... C=10, gamma=1, kernel=rbf, score=0.586, total=  16.4s\n",
      "[CV] C=10, gamma=1, kernel=rbf .......................................\n",
      "[CV] ........... C=10, gamma=1, kernel=rbf, score=0.596, total=  16.1s\n",
      "[CV] C=10, gamma=1, kernel=linear ....................................\n",
      "[CV] ........ C=10, gamma=1, kernel=linear, score=0.695, total=  12.9s\n",
      "[CV] C=10, gamma=1, kernel=linear ....................................\n",
      "[CV] ........ C=10, gamma=1, kernel=linear, score=0.681, total=  13.4s\n",
      "[CV] C=10, gamma=1, kernel=linear ....................................\n",
      "[CV] ........ C=10, gamma=1, kernel=linear, score=0.688, total=  12.6s\n",
      "[CV] C=10, gamma=1, kernel=linear ....................................\n",
      "[CV] ........ C=10, gamma=1, kernel=linear, score=0.683, total=  13.0s\n",
      "[CV] C=10, gamma=1, kernel=linear ....................................\n",
      "[CV] ........ C=10, gamma=1, kernel=linear, score=0.682, total=  13.0s\n",
      "[CV] C=10, gamma=0.1, kernel=rbf .....................................\n",
      "[CV] ......... C=10, gamma=0.1, kernel=rbf, score=0.748, total=   8.4s\n",
      "[CV] C=10, gamma=0.1, kernel=rbf .....................................\n",
      "[CV] ......... C=10, gamma=0.1, kernel=rbf, score=0.729, total=   8.3s\n",
      "[CV] C=10, gamma=0.1, kernel=rbf .....................................\n",
      "[CV] ......... C=10, gamma=0.1, kernel=rbf, score=0.741, total=   9.4s\n",
      "[CV] C=10, gamma=0.1, kernel=rbf .....................................\n",
      "[CV] ......... C=10, gamma=0.1, kernel=rbf, score=0.736, total=   9.2s\n",
      "[CV] C=10, gamma=0.1, kernel=rbf .....................................\n",
      "[CV] ......... C=10, gamma=0.1, kernel=rbf, score=0.726, total=   8.8s\n",
      "[CV] C=10, gamma=0.1, kernel=linear ..................................\n",
      "[CV] ...... C=10, gamma=0.1, kernel=linear, score=0.695, total=  12.8s\n",
      "[CV] C=10, gamma=0.1, kernel=linear ..................................\n",
      "[CV] ...... C=10, gamma=0.1, kernel=linear, score=0.681, total=  13.8s\n",
      "[CV] C=10, gamma=0.1, kernel=linear ..................................\n",
      "[CV] ...... C=10, gamma=0.1, kernel=linear, score=0.688, total=  13.1s\n",
      "[CV] C=10, gamma=0.1, kernel=linear ..................................\n",
      "[CV] ...... C=10, gamma=0.1, kernel=linear, score=0.683, total=  13.2s\n",
      "[CV] C=10, gamma=0.1, kernel=linear ..................................\n",
      "[CV] ...... C=10, gamma=0.1, kernel=linear, score=0.682, total=  12.9s\n",
      "[CV] C=10, gamma=0.01, kernel=rbf ....................................\n",
      "[CV] ........ C=10, gamma=0.01, kernel=rbf, score=0.744, total=   6.9s\n",
      "[CV] C=10, gamma=0.01, kernel=rbf ....................................\n",
      "[CV] ........ C=10, gamma=0.01, kernel=rbf, score=0.724, total=   6.2s\n",
      "[CV] C=10, gamma=0.01, kernel=rbf ....................................\n",
      "[CV] ........ C=10, gamma=0.01, kernel=rbf, score=0.736, total=   6.7s\n",
      "[CV] C=10, gamma=0.01, kernel=rbf ....................................\n",
      "[CV] ........ C=10, gamma=0.01, kernel=rbf, score=0.728, total=   6.5s\n",
      "[CV] C=10, gamma=0.01, kernel=rbf ....................................\n",
      "[CV] ........ C=10, gamma=0.01, kernel=rbf, score=0.732, total=   6.5s\n",
      "[CV] C=10, gamma=0.01, kernel=linear .................................\n",
      "[CV] ..... C=10, gamma=0.01, kernel=linear, score=0.695, total=  13.1s\n",
      "[CV] C=10, gamma=0.01, kernel=linear .................................\n",
      "[CV] ..... C=10, gamma=0.01, kernel=linear, score=0.681, total=  14.0s\n",
      "[CV] C=10, gamma=0.01, kernel=linear .................................\n",
      "[CV] ..... C=10, gamma=0.01, kernel=linear, score=0.688, total=  12.8s\n",
      "[CV] C=10, gamma=0.01, kernel=linear .................................\n",
      "[CV] ..... C=10, gamma=0.01, kernel=linear, score=0.683, total=  13.4s\n",
      "[CV] C=10, gamma=0.01, kernel=linear .................................\n",
      "[CV] ..... C=10, gamma=0.01, kernel=linear, score=0.682, total=  13.2s\n",
      "[CV] C=10, gamma=0.001, kernel=rbf ...................................\n",
      "[CV] ....... C=10, gamma=0.001, kernel=rbf, score=0.700, total=   6.5s\n",
      "[CV] C=10, gamma=0.001, kernel=rbf ...................................\n",
      "[CV] ....... C=10, gamma=0.001, kernel=rbf, score=0.690, total=   6.6s\n",
      "[CV] C=10, gamma=0.001, kernel=rbf ...................................\n",
      "[CV] ....... C=10, gamma=0.001, kernel=rbf, score=0.686, total=   6.6s\n",
      "[CV] C=10, gamma=0.001, kernel=rbf ...................................\n",
      "[CV] ....... C=10, gamma=0.001, kernel=rbf, score=0.693, total=   6.7s\n",
      "[CV] C=10, gamma=0.001, kernel=rbf ...................................\n",
      "[CV] ....... C=10, gamma=0.001, kernel=rbf, score=0.684, total=   6.7s\n",
      "[CV] C=10, gamma=0.001, kernel=linear ................................\n",
      "[CV] .... C=10, gamma=0.001, kernel=linear, score=0.695, total=  13.0s\n",
      "[CV] C=10, gamma=0.001, kernel=linear ................................\n",
      "[CV] .... C=10, gamma=0.001, kernel=linear, score=0.681, total=  13.2s\n",
      "[CV] C=10, gamma=0.001, kernel=linear ................................\n",
      "[CV] .... C=10, gamma=0.001, kernel=linear, score=0.688, total=  12.7s\n",
      "[CV] C=10, gamma=0.001, kernel=linear ................................\n",
      "[CV] .... C=10, gamma=0.001, kernel=linear, score=0.683, total=  13.4s\n",
      "[CV] C=10, gamma=0.001, kernel=linear ................................\n",
      "[CV] .... C=10, gamma=0.001, kernel=linear, score=0.682, total=  13.1s\n",
      "[CV] C=100, gamma=100, kernel=rbf ....................................\n",
      "[CV] ........ C=100, gamma=100, kernel=rbf, score=0.573, total=  28.9s\n",
      "[CV] C=100, gamma=100, kernel=rbf ....................................\n",
      "[CV] ........ C=100, gamma=100, kernel=rbf, score=0.574, total=  28.7s\n",
      "[CV] C=100, gamma=100, kernel=rbf ....................................\n",
      "[CV] ........ C=100, gamma=100, kernel=rbf, score=0.573, total=  28.1s\n",
      "[CV] C=100, gamma=100, kernel=rbf ....................................\n",
      "[CV] ........ C=100, gamma=100, kernel=rbf, score=0.572, total=  30.1s\n",
      "[CV] C=100, gamma=100, kernel=rbf ....................................\n",
      "[CV] ........ C=100, gamma=100, kernel=rbf, score=0.574, total=  27.4s\n",
      "[CV] C=100, gamma=100, kernel=linear .................................\n",
      "[CV] ..... C=100, gamma=100, kernel=linear, score=0.695, total=  59.5s\n",
      "[CV] C=100, gamma=100, kernel=linear .................................\n",
      "[CV] ..... C=100, gamma=100, kernel=linear, score=0.681, total= 1.0min\n",
      "[CV] C=100, gamma=100, kernel=linear .................................\n",
      "[CV] ..... C=100, gamma=100, kernel=linear, score=0.688, total=  56.1s\n",
      "[CV] C=100, gamma=100, kernel=linear .................................\n",
      "[CV] ..... C=100, gamma=100, kernel=linear, score=0.683, total=  53.6s\n",
      "[CV] C=100, gamma=100, kernel=linear .................................\n",
      "[CV] ..... C=100, gamma=100, kernel=linear, score=0.681, total= 1.0min\n",
      "[CV] C=100, gamma=10, kernel=rbf .....................................\n",
      "[CV] ......... C=100, gamma=10, kernel=rbf, score=0.573, total=  20.2s\n",
      "[CV] C=100, gamma=10, kernel=rbf .....................................\n",
      "[CV] ......... C=100, gamma=10, kernel=rbf, score=0.574, total=  20.3s\n",
      "[CV] C=100, gamma=10, kernel=rbf .....................................\n",
      "[CV] ......... C=100, gamma=10, kernel=rbf, score=0.573, total=  19.9s\n",
      "[CV] C=100, gamma=10, kernel=rbf .....................................\n",
      "[CV] ......... C=100, gamma=10, kernel=rbf, score=0.572, total=  20.5s\n",
      "[CV] C=100, gamma=10, kernel=rbf .....................................\n",
      "[CV] ......... C=100, gamma=10, kernel=rbf, score=0.574, total=  20.6s\n",
      "[CV] C=100, gamma=10, kernel=linear ..................................\n",
      "[CV] ...... C=100, gamma=10, kernel=linear, score=0.695, total=  51.4s\n",
      "[CV] C=100, gamma=10, kernel=linear ..................................\n",
      "[CV] ...... C=100, gamma=10, kernel=linear, score=0.681, total= 1.0min\n",
      "[CV] C=100, gamma=10, kernel=linear ..................................\n",
      "[CV] ...... C=100, gamma=10, kernel=linear, score=0.688, total=  54.3s\n",
      "[CV] C=100, gamma=10, kernel=linear ..................................\n",
      "[CV] ...... C=100, gamma=10, kernel=linear, score=0.683, total=  53.4s\n",
      "[CV] C=100, gamma=10, kernel=linear ..................................\n",
      "[CV] ...... C=100, gamma=10, kernel=linear, score=0.681, total= 1.0min\n",
      "[CV] C=100, gamma=1, kernel=rbf ......................................\n",
      "[CV] .......... C=100, gamma=1, kernel=rbf, score=0.597, total=  17.5s\n",
      "[CV] C=100, gamma=1, kernel=rbf ......................................\n",
      "[CV] .......... C=100, gamma=1, kernel=rbf, score=0.593, total=  17.4s\n",
      "[CV] C=100, gamma=1, kernel=rbf ......................................\n",
      "[CV] .......... C=100, gamma=1, kernel=rbf, score=0.588, total=  16.5s\n",
      "[CV] C=100, gamma=1, kernel=rbf ......................................\n",
      "[CV] .......... C=100, gamma=1, kernel=rbf, score=0.586, total=  16.7s\n",
      "[CV] C=100, gamma=1, kernel=rbf ......................................\n",
      "[CV] .......... C=100, gamma=1, kernel=rbf, score=0.596, total=  16.8s\n",
      "[CV] C=100, gamma=1, kernel=linear ...................................\n",
      "[CV] ....... C=100, gamma=1, kernel=linear, score=0.695, total=  54.2s\n",
      "[CV] C=100, gamma=1, kernel=linear ...................................\n",
      "[CV] ....... C=100, gamma=1, kernel=linear, score=0.681, total=  56.1s\n",
      "[CV] C=100, gamma=1, kernel=linear ...................................\n",
      "[CV] ....... C=100, gamma=1, kernel=linear, score=0.688, total=  57.2s\n",
      "[CV] C=100, gamma=1, kernel=linear ...................................\n",
      "[CV] ....... C=100, gamma=1, kernel=linear, score=0.683, total=  56.4s\n",
      "[CV] C=100, gamma=1, kernel=linear ...................................\n",
      "[CV] ....... C=100, gamma=1, kernel=linear, score=0.681, total= 1.0min\n",
      "[CV] C=100, gamma=0.1, kernel=rbf ....................................\n",
      "[CV] ........ C=100, gamma=0.1, kernel=rbf, score=0.747, total=  10.4s\n",
      "[CV] C=100, gamma=0.1, kernel=rbf ....................................\n",
      "[CV] ........ C=100, gamma=0.1, kernel=rbf, score=0.732, total=   7.7s\n",
      "[CV] C=100, gamma=0.1, kernel=rbf ....................................\n",
      "[CV] ........ C=100, gamma=0.1, kernel=rbf, score=0.735, total=   7.7s\n",
      "[CV] C=100, gamma=0.1, kernel=rbf ....................................\n",
      "[CV] ........ C=100, gamma=0.1, kernel=rbf, score=0.737, total=   7.7s\n",
      "[CV] C=100, gamma=0.1, kernel=rbf ....................................\n",
      "[CV] ........ C=100, gamma=0.1, kernel=rbf, score=0.728, total=   7.5s\n",
      "[CV] C=100, gamma=0.1, kernel=linear .................................\n",
      "[CV] ..... C=100, gamma=0.1, kernel=linear, score=0.695, total=  53.2s\n",
      "[CV] C=100, gamma=0.1, kernel=linear .................................\n",
      "[CV] ..... C=100, gamma=0.1, kernel=linear, score=0.681, total=  58.7s\n",
      "[CV] C=100, gamma=0.1, kernel=linear .................................\n",
      "[CV] ..... C=100, gamma=0.1, kernel=linear, score=0.688, total=  54.7s\n",
      "[CV] C=100, gamma=0.1, kernel=linear .................................\n",
      "[CV] ..... C=100, gamma=0.1, kernel=linear, score=0.683, total=  53.1s\n",
      "[CV] C=100, gamma=0.1, kernel=linear .................................\n",
      "[CV] ..... C=100, gamma=0.1, kernel=linear, score=0.681, total=  59.8s\n",
      "[CV] C=100, gamma=0.01, kernel=rbf ...................................\n",
      "[CV] ....... C=100, gamma=0.01, kernel=rbf, score=0.749, total=   7.5s\n",
      "[CV] C=100, gamma=0.01, kernel=rbf ...................................\n",
      "[CV] ....... C=100, gamma=0.01, kernel=rbf, score=0.729, total=   7.8s\n",
      "[CV] C=100, gamma=0.01, kernel=rbf ...................................\n",
      "[CV] ....... C=100, gamma=0.01, kernel=rbf, score=0.752, total=   8.1s\n",
      "[CV] C=100, gamma=0.01, kernel=rbf ...................................\n",
      "[CV] ....... C=100, gamma=0.01, kernel=rbf, score=0.734, total=   8.7s\n",
      "[CV] C=100, gamma=0.01, kernel=rbf ...................................\n",
      "[CV] ....... C=100, gamma=0.01, kernel=rbf, score=0.734, total=   8.1s\n",
      "[CV] C=100, gamma=0.01, kernel=linear ................................\n",
      "[CV] .... C=100, gamma=0.01, kernel=linear, score=0.695, total=  57.8s\n",
      "[CV] C=100, gamma=0.01, kernel=linear ................................\n",
      "[CV] .... C=100, gamma=0.01, kernel=linear, score=0.681, total= 1.0min\n",
      "[CV] C=100, gamma=0.01, kernel=linear ................................\n",
      "[CV] .... C=100, gamma=0.01, kernel=linear, score=0.688, total=  59.8s\n",
      "[CV] C=100, gamma=0.01, kernel=linear ................................\n",
      "[CV] .... C=100, gamma=0.01, kernel=linear, score=0.683, total=  57.1s\n",
      "[CV] C=100, gamma=0.01, kernel=linear ................................\n",
      "[CV] .... C=100, gamma=0.01, kernel=linear, score=0.681, total= 1.1min\n",
      "[CV] C=100, gamma=0.001, kernel=rbf ..................................\n",
      "[CV] ...... C=100, gamma=0.001, kernel=rbf, score=0.716, total=   6.6s\n",
      "[CV] C=100, gamma=0.001, kernel=rbf ..................................\n",
      "[CV] ...... C=100, gamma=0.001, kernel=rbf, score=0.702, total=   6.6s\n",
      "[CV] C=100, gamma=0.001, kernel=rbf ..................................\n",
      "[CV] ...... C=100, gamma=0.001, kernel=rbf, score=0.708, total=   6.5s\n",
      "[CV] C=100, gamma=0.001, kernel=rbf ..................................\n",
      "[CV] ...... C=100, gamma=0.001, kernel=rbf, score=0.699, total=   6.3s\n",
      "[CV] C=100, gamma=0.001, kernel=rbf ..................................\n",
      "[CV] ...... C=100, gamma=0.001, kernel=rbf, score=0.697, total=   6.5s\n",
      "[CV] C=100, gamma=0.001, kernel=linear ...............................\n",
      "[CV] ... C=100, gamma=0.001, kernel=linear, score=0.695, total=  51.6s\n",
      "[CV] C=100, gamma=0.001, kernel=linear ...............................\n",
      "[CV] ... C=100, gamma=0.001, kernel=linear, score=0.681, total=  55.4s\n",
      "[CV] C=100, gamma=0.001, kernel=linear ...............................\n",
      "[CV] ... C=100, gamma=0.001, kernel=linear, score=0.688, total=  56.7s\n",
      "[CV] C=100, gamma=0.001, kernel=linear ...............................\n",
      "[CV] ... C=100, gamma=0.001, kernel=linear, score=0.683, total=  57.8s\n",
      "[CV] C=100, gamma=0.001, kernel=linear ...............................\n",
      "[CV] ... C=100, gamma=0.001, kernel=linear, score=0.681, total= 1.0min\n"
     ]
    },
    {
     "name": "stderr",
     "output_type": "stream",
     "text": [
      "[Parallel(n_jobs=1)]: Done 300 out of 300 | elapsed: 72.6min finished\n"
     ]
    },
    {
     "name": "stdout",
     "output_type": "stream",
     "text": [
      "Best Parameters: {'C': 1, 'gamma': 0.1, 'kernel': 'rbf'}\n",
      "Best:estimator: SVC(C=1, gamma=0.1)\n",
      "Best Score: 0.7492898202130347\n",
      "Confusion Matrix: [[ 895  510]\n",
      " [ 285 1481]]\n",
      "              precision    recall  f1-score   support\n",
      "\n",
      "           0       0.76      0.64      0.69      1405\n",
      "           1       0.74      0.84      0.79      1766\n",
      "\n",
      "    accuracy                           0.75      3171\n",
      "   macro avg       0.75      0.74      0.74      3171\n",
      "weighted avg       0.75      0.75      0.75      3171\n",
      "\n"
     ]
    }
   ],
   "source": [
    "grid_param = {'C': [0.01,0.1, 1, 10, 100], \n",
    "              'gamma': [100,10,1, 0.1, 0.01, 0.001],\n",
    "              'kernel': ['rbf','linear']} \n",
    "  \n",
    "ksvm = GridSearchCV(SVC(), param_grid=grid_param, refit = True, verbose = 3)\n",
    "      \n",
    "ksvm.fit(X_train, y_train)\n",
    "   \n",
    "print('Best Parameters:',ksvm.best_params_)    \n",
    "print('Best:estimator:',ksvm.best_estimator_)\n",
    "print('Best Score:', ksvm.best_score_)\n",
    "    \n",
    "ksvm_predictions = ksvm.predict(X_test)\n",
    "\n",
    "\n",
    "print(\"Confusion Matrix:\",confusion_matrix(y_test,ksvm_predictions))\n",
    "\n",
    "print(classification_report(y_test, ksvm_predictions))\n",
    "\n",
    "\n",
    "\n",
    "\n"
   ]
  },
  {
   "cell_type": "code",
   "execution_count": 88,
   "id": "coral-broadcasting",
   "metadata": {},
   "outputs": [
    {
     "name": "stdout",
     "output_type": "stream",
     "text": [
      "Fitting 5 folds for each of 15 candidates, totalling 75 fits\n",
      "[CV] C=0.01, kernel=poly, max_iter=1000 ..............................\n"
     ]
    },
    {
     "name": "stderr",
     "output_type": "stream",
     "text": [
      "[Parallel(n_jobs=1)]: Using backend SequentialBackend with 1 concurrent workers.\n",
      "C:\\Users\\12108\\anaconda3\\envs\\BUAN_6341\\lib\\site-packages\\sklearn\\svm\\_base.py:246: ConvergenceWarning: Solver terminated early (max_iter=1000).  Consider pre-processing your data with StandardScaler or MinMaxScaler.\n",
      "  warnings.warn('Solver terminated early (max_iter=%i).'\n"
     ]
    },
    {
     "name": "stdout",
     "output_type": "stream",
     "text": [
      "[CV] .. C=0.01, kernel=poly, max_iter=1000, score=0.652, total=   1.7s\n",
      "[CV] C=0.01, kernel=poly, max_iter=1000 ..............................\n"
     ]
    },
    {
     "name": "stderr",
     "output_type": "stream",
     "text": [
      "[Parallel(n_jobs=1)]: Done   1 out of   1 | elapsed:    1.6s remaining:    0.0s\n",
      "C:\\Users\\12108\\anaconda3\\envs\\BUAN_6341\\lib\\site-packages\\sklearn\\svm\\_base.py:246: ConvergenceWarning: Solver terminated early (max_iter=1000).  Consider pre-processing your data with StandardScaler or MinMaxScaler.\n",
      "  warnings.warn('Solver terminated early (max_iter=%i).'\n"
     ]
    },
    {
     "name": "stdout",
     "output_type": "stream",
     "text": [
      "[CV] .. C=0.01, kernel=poly, max_iter=1000, score=0.621, total=   1.7s\n",
      "[CV] C=0.01, kernel=poly, max_iter=1000 ..............................\n"
     ]
    },
    {
     "name": "stderr",
     "output_type": "stream",
     "text": [
      "[Parallel(n_jobs=1)]: Done   2 out of   2 | elapsed:    3.3s remaining:    0.0s\n",
      "C:\\Users\\12108\\anaconda3\\envs\\BUAN_6341\\lib\\site-packages\\sklearn\\svm\\_base.py:246: ConvergenceWarning: Solver terminated early (max_iter=1000).  Consider pre-processing your data with StandardScaler or MinMaxScaler.\n",
      "  warnings.warn('Solver terminated early (max_iter=%i).'\n"
     ]
    },
    {
     "name": "stdout",
     "output_type": "stream",
     "text": [
      "[CV] .. C=0.01, kernel=poly, max_iter=1000, score=0.620, total=   1.6s\n",
      "[CV] C=0.01, kernel=poly, max_iter=1000 ..............................\n"
     ]
    },
    {
     "name": "stderr",
     "output_type": "stream",
     "text": [
      "C:\\Users\\12108\\anaconda3\\envs\\BUAN_6341\\lib\\site-packages\\sklearn\\svm\\_base.py:246: ConvergenceWarning: Solver terminated early (max_iter=1000).  Consider pre-processing your data with StandardScaler or MinMaxScaler.\n",
      "  warnings.warn('Solver terminated early (max_iter=%i).'\n"
     ]
    },
    {
     "name": "stdout",
     "output_type": "stream",
     "text": [
      "[CV] .. C=0.01, kernel=poly, max_iter=1000, score=0.642, total=   1.7s\n",
      "[CV] C=0.01, kernel=poly, max_iter=1000 ..............................\n"
     ]
    },
    {
     "name": "stderr",
     "output_type": "stream",
     "text": [
      "C:\\Users\\12108\\anaconda3\\envs\\BUAN_6341\\lib\\site-packages\\sklearn\\svm\\_base.py:246: ConvergenceWarning: Solver terminated early (max_iter=1000).  Consider pre-processing your data with StandardScaler or MinMaxScaler.\n",
      "  warnings.warn('Solver terminated early (max_iter=%i).'\n"
     ]
    },
    {
     "name": "stdout",
     "output_type": "stream",
     "text": [
      "[CV] .. C=0.01, kernel=poly, max_iter=1000, score=0.635, total=   1.7s\n",
      "[CV] C=0.01, kernel=poly, max_iter=100 ...............................\n",
      "[CV] ... C=0.01, kernel=poly, max_iter=100, score=0.628, total=   0.2s\n",
      "[CV] C=0.01, kernel=poly, max_iter=100 ...............................\n"
     ]
    },
    {
     "name": "stderr",
     "output_type": "stream",
     "text": [
      "C:\\Users\\12108\\anaconda3\\envs\\BUAN_6341\\lib\\site-packages\\sklearn\\svm\\_base.py:246: ConvergenceWarning: Solver terminated early (max_iter=100).  Consider pre-processing your data with StandardScaler or MinMaxScaler.\n",
      "  warnings.warn('Solver terminated early (max_iter=%i).'\n",
      "C:\\Users\\12108\\anaconda3\\envs\\BUAN_6341\\lib\\site-packages\\sklearn\\svm\\_base.py:246: ConvergenceWarning: Solver terminated early (max_iter=100).  Consider pre-processing your data with StandardScaler or MinMaxScaler.\n",
      "  warnings.warn('Solver terminated early (max_iter=%i).'\n",
      "C:\\Users\\12108\\anaconda3\\envs\\BUAN_6341\\lib\\site-packages\\sklearn\\svm\\_base.py:246: ConvergenceWarning: Solver terminated early (max_iter=100).  Consider pre-processing your data with StandardScaler or MinMaxScaler.\n",
      "  warnings.warn('Solver terminated early (max_iter=%i).'\n"
     ]
    },
    {
     "name": "stdout",
     "output_type": "stream",
     "text": [
      "[CV] ... C=0.01, kernel=poly, max_iter=100, score=0.613, total=   0.2s\n",
      "[CV] C=0.01, kernel=poly, max_iter=100 ...............................\n",
      "[CV] ... C=0.01, kernel=poly, max_iter=100, score=0.621, total=   0.2s\n",
      "[CV] C=0.01, kernel=poly, max_iter=100 ...............................\n"
     ]
    },
    {
     "name": "stderr",
     "output_type": "stream",
     "text": [
      "C:\\Users\\12108\\anaconda3\\envs\\BUAN_6341\\lib\\site-packages\\sklearn\\svm\\_base.py:246: ConvergenceWarning: Solver terminated early (max_iter=100).  Consider pre-processing your data with StandardScaler or MinMaxScaler.\n",
      "  warnings.warn('Solver terminated early (max_iter=%i).'\n",
      "C:\\Users\\12108\\anaconda3\\envs\\BUAN_6341\\lib\\site-packages\\sklearn\\svm\\_base.py:246: ConvergenceWarning: Solver terminated early (max_iter=100).  Consider pre-processing your data with StandardScaler or MinMaxScaler.\n",
      "  warnings.warn('Solver terminated early (max_iter=%i).'\n"
     ]
    },
    {
     "name": "stdout",
     "output_type": "stream",
     "text": [
      "[CV] ... C=0.01, kernel=poly, max_iter=100, score=0.621, total=   0.2s\n",
      "[CV] C=0.01, kernel=poly, max_iter=100 ...............................\n",
      "[CV] ... C=0.01, kernel=poly, max_iter=100, score=0.596, total=   0.2s\n",
      "[CV] C=0.01, kernel=poly, max_iter=10 ................................\n"
     ]
    },
    {
     "name": "stderr",
     "output_type": "stream",
     "text": [
      "C:\\Users\\12108\\anaconda3\\envs\\BUAN_6341\\lib\\site-packages\\sklearn\\svm\\_base.py:246: ConvergenceWarning: Solver terminated early (max_iter=10).  Consider pre-processing your data with StandardScaler or MinMaxScaler.\n",
      "  warnings.warn('Solver terminated early (max_iter=%i).'\n",
      "C:\\Users\\12108\\anaconda3\\envs\\BUAN_6341\\lib\\site-packages\\sklearn\\svm\\_base.py:246: ConvergenceWarning: Solver terminated early (max_iter=10).  Consider pre-processing your data with StandardScaler or MinMaxScaler.\n",
      "  warnings.warn('Solver terminated early (max_iter=%i).'\n",
      "C:\\Users\\12108\\anaconda3\\envs\\BUAN_6341\\lib\\site-packages\\sklearn\\svm\\_base.py:246: ConvergenceWarning: Solver terminated early (max_iter=10).  Consider pre-processing your data with StandardScaler or MinMaxScaler.\n",
      "  warnings.warn('Solver terminated early (max_iter=%i).'\n",
      "C:\\Users\\12108\\anaconda3\\envs\\BUAN_6341\\lib\\site-packages\\sklearn\\svm\\_base.py:246: ConvergenceWarning: Solver terminated early (max_iter=10).  Consider pre-processing your data with StandardScaler or MinMaxScaler.\n",
      "  warnings.warn('Solver terminated early (max_iter=%i).'\n",
      "C:\\Users\\12108\\anaconda3\\envs\\BUAN_6341\\lib\\site-packages\\sklearn\\svm\\_base.py:246: ConvergenceWarning: Solver terminated early (max_iter=10).  Consider pre-processing your data with StandardScaler or MinMaxScaler.\n",
      "  warnings.warn('Solver terminated early (max_iter=%i).'\n"
     ]
    },
    {
     "name": "stdout",
     "output_type": "stream",
     "text": [
      "[CV] .... C=0.01, kernel=poly, max_iter=10, score=0.554, total=   0.0s\n",
      "[CV] C=0.01, kernel=poly, max_iter=10 ................................\n",
      "[CV] .... C=0.01, kernel=poly, max_iter=10, score=0.503, total=   0.0s\n",
      "[CV] C=0.01, kernel=poly, max_iter=10 ................................\n",
      "[CV] .... C=0.01, kernel=poly, max_iter=10, score=0.481, total=   0.0s\n",
      "[CV] C=0.01, kernel=poly, max_iter=10 ................................\n",
      "[CV] .... C=0.01, kernel=poly, max_iter=10, score=0.583, total=   0.0s\n",
      "[CV] C=0.01, kernel=poly, max_iter=10 ................................\n",
      "[CV] .... C=0.01, kernel=poly, max_iter=10, score=0.482, total=   0.0s\n",
      "[CV] C=0.1, kernel=poly, max_iter=1000 ...............................\n"
     ]
    },
    {
     "name": "stderr",
     "output_type": "stream",
     "text": [
      "C:\\Users\\12108\\anaconda3\\envs\\BUAN_6341\\lib\\site-packages\\sklearn\\svm\\_base.py:246: ConvergenceWarning: Solver terminated early (max_iter=1000).  Consider pre-processing your data with StandardScaler or MinMaxScaler.\n",
      "  warnings.warn('Solver terminated early (max_iter=%i).'\n"
     ]
    },
    {
     "name": "stdout",
     "output_type": "stream",
     "text": [
      "[CV] ... C=0.1, kernel=poly, max_iter=1000, score=0.648, total=   1.6s\n",
      "[CV] C=0.1, kernel=poly, max_iter=1000 ...............................\n"
     ]
    },
    {
     "name": "stderr",
     "output_type": "stream",
     "text": [
      "C:\\Users\\12108\\anaconda3\\envs\\BUAN_6341\\lib\\site-packages\\sklearn\\svm\\_base.py:246: ConvergenceWarning: Solver terminated early (max_iter=1000).  Consider pre-processing your data with StandardScaler or MinMaxScaler.\n",
      "  warnings.warn('Solver terminated early (max_iter=%i).'\n"
     ]
    },
    {
     "name": "stdout",
     "output_type": "stream",
     "text": [
      "[CV] ... C=0.1, kernel=poly, max_iter=1000, score=0.644, total=   1.7s\n",
      "[CV] C=0.1, kernel=poly, max_iter=1000 ...............................\n"
     ]
    },
    {
     "name": "stderr",
     "output_type": "stream",
     "text": [
      "C:\\Users\\12108\\anaconda3\\envs\\BUAN_6341\\lib\\site-packages\\sklearn\\svm\\_base.py:246: ConvergenceWarning: Solver terminated early (max_iter=1000).  Consider pre-processing your data with StandardScaler or MinMaxScaler.\n",
      "  warnings.warn('Solver terminated early (max_iter=%i).'\n"
     ]
    },
    {
     "name": "stdout",
     "output_type": "stream",
     "text": [
      "[CV] ... C=0.1, kernel=poly, max_iter=1000, score=0.656, total=   1.7s\n",
      "[CV] C=0.1, kernel=poly, max_iter=1000 ...............................\n"
     ]
    },
    {
     "name": "stderr",
     "output_type": "stream",
     "text": [
      "C:\\Users\\12108\\anaconda3\\envs\\BUAN_6341\\lib\\site-packages\\sklearn\\svm\\_base.py:246: ConvergenceWarning: Solver terminated early (max_iter=1000).  Consider pre-processing your data with StandardScaler or MinMaxScaler.\n",
      "  warnings.warn('Solver terminated early (max_iter=%i).'\n"
     ]
    },
    {
     "name": "stdout",
     "output_type": "stream",
     "text": [
      "[CV] ... C=0.1, kernel=poly, max_iter=1000, score=0.641, total=   1.7s\n",
      "[CV] C=0.1, kernel=poly, max_iter=1000 ...............................\n"
     ]
    },
    {
     "name": "stderr",
     "output_type": "stream",
     "text": [
      "C:\\Users\\12108\\anaconda3\\envs\\BUAN_6341\\lib\\site-packages\\sklearn\\svm\\_base.py:246: ConvergenceWarning: Solver terminated early (max_iter=1000).  Consider pre-processing your data with StandardScaler or MinMaxScaler.\n",
      "  warnings.warn('Solver terminated early (max_iter=%i).'\n"
     ]
    },
    {
     "name": "stdout",
     "output_type": "stream",
     "text": [
      "[CV] ... C=0.1, kernel=poly, max_iter=1000, score=0.619, total=   1.7s\n",
      "[CV] C=0.1, kernel=poly, max_iter=100 ................................\n",
      "[CV] .... C=0.1, kernel=poly, max_iter=100, score=0.613, total=   0.2s\n",
      "[CV] C=0.1, kernel=poly, max_iter=100 ................................\n"
     ]
    },
    {
     "name": "stderr",
     "output_type": "stream",
     "text": [
      "C:\\Users\\12108\\anaconda3\\envs\\BUAN_6341\\lib\\site-packages\\sklearn\\svm\\_base.py:246: ConvergenceWarning: Solver terminated early (max_iter=100).  Consider pre-processing your data with StandardScaler or MinMaxScaler.\n",
      "  warnings.warn('Solver terminated early (max_iter=%i).'\n",
      "C:\\Users\\12108\\anaconda3\\envs\\BUAN_6341\\lib\\site-packages\\sklearn\\svm\\_base.py:246: ConvergenceWarning: Solver terminated early (max_iter=100).  Consider pre-processing your data with StandardScaler or MinMaxScaler.\n",
      "  warnings.warn('Solver terminated early (max_iter=%i).'\n"
     ]
    },
    {
     "name": "stdout",
     "output_type": "stream",
     "text": [
      "[CV] .... C=0.1, kernel=poly, max_iter=100, score=0.611, total=   0.2s\n",
      "[CV] C=0.1, kernel=poly, max_iter=100 ................................\n",
      "[CV] .... C=0.1, kernel=poly, max_iter=100, score=0.619, total=   0.2s\n",
      "[CV] C=0.1, kernel=poly, max_iter=100 ................................\n"
     ]
    },
    {
     "name": "stderr",
     "output_type": "stream",
     "text": [
      "C:\\Users\\12108\\anaconda3\\envs\\BUAN_6341\\lib\\site-packages\\sklearn\\svm\\_base.py:246: ConvergenceWarning: Solver terminated early (max_iter=100).  Consider pre-processing your data with StandardScaler or MinMaxScaler.\n",
      "  warnings.warn('Solver terminated early (max_iter=%i).'\n",
      "C:\\Users\\12108\\anaconda3\\envs\\BUAN_6341\\lib\\site-packages\\sklearn\\svm\\_base.py:246: ConvergenceWarning: Solver terminated early (max_iter=100).  Consider pre-processing your data with StandardScaler or MinMaxScaler.\n",
      "  warnings.warn('Solver terminated early (max_iter=%i).'\n"
     ]
    },
    {
     "name": "stdout",
     "output_type": "stream",
     "text": [
      "[CV] .... C=0.1, kernel=poly, max_iter=100, score=0.595, total=   0.2s\n",
      "[CV] C=0.1, kernel=poly, max_iter=100 ................................\n",
      "[CV] .... C=0.1, kernel=poly, max_iter=100, score=0.605, total=   0.2s\n",
      "[CV] C=0.1, kernel=poly, max_iter=10 .................................\n"
     ]
    },
    {
     "name": "stderr",
     "output_type": "stream",
     "text": [
      "C:\\Users\\12108\\anaconda3\\envs\\BUAN_6341\\lib\\site-packages\\sklearn\\svm\\_base.py:246: ConvergenceWarning: Solver terminated early (max_iter=100).  Consider pre-processing your data with StandardScaler or MinMaxScaler.\n",
      "  warnings.warn('Solver terminated early (max_iter=%i).'\n",
      "C:\\Users\\12108\\anaconda3\\envs\\BUAN_6341\\lib\\site-packages\\sklearn\\svm\\_base.py:246: ConvergenceWarning: Solver terminated early (max_iter=10).  Consider pre-processing your data with StandardScaler or MinMaxScaler.\n",
      "  warnings.warn('Solver terminated early (max_iter=%i).'\n",
      "C:\\Users\\12108\\anaconda3\\envs\\BUAN_6341\\lib\\site-packages\\sklearn\\svm\\_base.py:246: ConvergenceWarning: Solver terminated early (max_iter=10).  Consider pre-processing your data with StandardScaler or MinMaxScaler.\n",
      "  warnings.warn('Solver terminated early (max_iter=%i).'\n",
      "C:\\Users\\12108\\anaconda3\\envs\\BUAN_6341\\lib\\site-packages\\sklearn\\svm\\_base.py:246: ConvergenceWarning: Solver terminated early (max_iter=10).  Consider pre-processing your data with StandardScaler or MinMaxScaler.\n",
      "  warnings.warn('Solver terminated early (max_iter=%i).'\n",
      "C:\\Users\\12108\\anaconda3\\envs\\BUAN_6341\\lib\\site-packages\\sklearn\\svm\\_base.py:246: ConvergenceWarning: Solver terminated early (max_iter=10).  Consider pre-processing your data with StandardScaler or MinMaxScaler.\n",
      "  warnings.warn('Solver terminated early (max_iter=%i).'\n",
      "C:\\Users\\12108\\anaconda3\\envs\\BUAN_6341\\lib\\site-packages\\sklearn\\svm\\_base.py:246: ConvergenceWarning: Solver terminated early (max_iter=10).  Consider pre-processing your data with StandardScaler or MinMaxScaler.\n",
      "  warnings.warn('Solver terminated early (max_iter=%i).'\n"
     ]
    },
    {
     "name": "stdout",
     "output_type": "stream",
     "text": [
      "[CV] ..... C=0.1, kernel=poly, max_iter=10, score=0.554, total=   0.0s\n",
      "[CV] C=0.1, kernel=poly, max_iter=10 .................................\n",
      "[CV] ..... C=0.1, kernel=poly, max_iter=10, score=0.530, total=   0.0s\n",
      "[CV] C=0.1, kernel=poly, max_iter=10 .................................\n",
      "[CV] ..... C=0.1, kernel=poly, max_iter=10, score=0.481, total=   0.0s\n",
      "[CV] C=0.1, kernel=poly, max_iter=10 .................................\n",
      "[CV] ..... C=0.1, kernel=poly, max_iter=10, score=0.583, total=   0.0s\n",
      "[CV] C=0.1, kernel=poly, max_iter=10 .................................\n",
      "[CV] ..... C=0.1, kernel=poly, max_iter=10, score=0.488, total=   0.0s\n",
      "[CV] C=1, kernel=poly, max_iter=1000 .................................\n"
     ]
    },
    {
     "name": "stderr",
     "output_type": "stream",
     "text": [
      "C:\\Users\\12108\\anaconda3\\envs\\BUAN_6341\\lib\\site-packages\\sklearn\\svm\\_base.py:246: ConvergenceWarning: Solver terminated early (max_iter=1000).  Consider pre-processing your data with StandardScaler or MinMaxScaler.\n",
      "  warnings.warn('Solver terminated early (max_iter=%i).'\n"
     ]
    },
    {
     "name": "stdout",
     "output_type": "stream",
     "text": [
      "[CV] ..... C=1, kernel=poly, max_iter=1000, score=0.689, total=   1.6s\n",
      "[CV] C=1, kernel=poly, max_iter=1000 .................................\n"
     ]
    },
    {
     "name": "stderr",
     "output_type": "stream",
     "text": [
      "C:\\Users\\12108\\anaconda3\\envs\\BUAN_6341\\lib\\site-packages\\sklearn\\svm\\_base.py:246: ConvergenceWarning: Solver terminated early (max_iter=1000).  Consider pre-processing your data with StandardScaler or MinMaxScaler.\n",
      "  warnings.warn('Solver terminated early (max_iter=%i).'\n"
     ]
    },
    {
     "name": "stdout",
     "output_type": "stream",
     "text": [
      "[CV] ..... C=1, kernel=poly, max_iter=1000, score=0.667, total=   1.7s\n",
      "[CV] C=1, kernel=poly, max_iter=1000 .................................\n"
     ]
    },
    {
     "name": "stderr",
     "output_type": "stream",
     "text": [
      "C:\\Users\\12108\\anaconda3\\envs\\BUAN_6341\\lib\\site-packages\\sklearn\\svm\\_base.py:246: ConvergenceWarning: Solver terminated early (max_iter=1000).  Consider pre-processing your data with StandardScaler or MinMaxScaler.\n",
      "  warnings.warn('Solver terminated early (max_iter=%i).'\n"
     ]
    },
    {
     "name": "stdout",
     "output_type": "stream",
     "text": [
      "[CV] ..... C=1, kernel=poly, max_iter=1000, score=0.674, total=   1.8s\n",
      "[CV] C=1, kernel=poly, max_iter=1000 .................................\n"
     ]
    },
    {
     "name": "stderr",
     "output_type": "stream",
     "text": [
      "C:\\Users\\12108\\anaconda3\\envs\\BUAN_6341\\lib\\site-packages\\sklearn\\svm\\_base.py:246: ConvergenceWarning: Solver terminated early (max_iter=1000).  Consider pre-processing your data with StandardScaler or MinMaxScaler.\n",
      "  warnings.warn('Solver terminated early (max_iter=%i).'\n"
     ]
    },
    {
     "name": "stdout",
     "output_type": "stream",
     "text": [
      "[CV] ..... C=1, kernel=poly, max_iter=1000, score=0.666, total=   1.7s\n",
      "[CV] C=1, kernel=poly, max_iter=1000 .................................\n"
     ]
    },
    {
     "name": "stderr",
     "output_type": "stream",
     "text": [
      "C:\\Users\\12108\\anaconda3\\envs\\BUAN_6341\\lib\\site-packages\\sklearn\\svm\\_base.py:246: ConvergenceWarning: Solver terminated early (max_iter=1000).  Consider pre-processing your data with StandardScaler or MinMaxScaler.\n",
      "  warnings.warn('Solver terminated early (max_iter=%i).'\n"
     ]
    },
    {
     "name": "stdout",
     "output_type": "stream",
     "text": [
      "[CV] ..... C=1, kernel=poly, max_iter=1000, score=0.655, total=   1.6s\n",
      "[CV] C=1, kernel=poly, max_iter=100 ..................................\n",
      "[CV] ...... C=1, kernel=poly, max_iter=100, score=0.593, total=   0.2s\n",
      "[CV] C=1, kernel=poly, max_iter=100 ..................................\n"
     ]
    },
    {
     "name": "stderr",
     "output_type": "stream",
     "text": [
      "C:\\Users\\12108\\anaconda3\\envs\\BUAN_6341\\lib\\site-packages\\sklearn\\svm\\_base.py:246: ConvergenceWarning: Solver terminated early (max_iter=100).  Consider pre-processing your data with StandardScaler or MinMaxScaler.\n",
      "  warnings.warn('Solver terminated early (max_iter=%i).'\n",
      "C:\\Users\\12108\\anaconda3\\envs\\BUAN_6341\\lib\\site-packages\\sklearn\\svm\\_base.py:246: ConvergenceWarning: Solver terminated early (max_iter=100).  Consider pre-processing your data with StandardScaler or MinMaxScaler.\n",
      "  warnings.warn('Solver terminated early (max_iter=%i).'\n"
     ]
    },
    {
     "name": "stdout",
     "output_type": "stream",
     "text": [
      "[CV] ...... C=1, kernel=poly, max_iter=100, score=0.592, total=   0.2s\n",
      "[CV] C=1, kernel=poly, max_iter=100 ..................................\n",
      "[CV] ...... C=1, kernel=poly, max_iter=100, score=0.589, total=   0.2s\n",
      "[CV] C=1, kernel=poly, max_iter=100 ..................................\n"
     ]
    },
    {
     "name": "stderr",
     "output_type": "stream",
     "text": [
      "C:\\Users\\12108\\anaconda3\\envs\\BUAN_6341\\lib\\site-packages\\sklearn\\svm\\_base.py:246: ConvergenceWarning: Solver terminated early (max_iter=100).  Consider pre-processing your data with StandardScaler or MinMaxScaler.\n",
      "  warnings.warn('Solver terminated early (max_iter=%i).'\n",
      "C:\\Users\\12108\\anaconda3\\envs\\BUAN_6341\\lib\\site-packages\\sklearn\\svm\\_base.py:246: ConvergenceWarning: Solver terminated early (max_iter=100).  Consider pre-processing your data with StandardScaler or MinMaxScaler.\n",
      "  warnings.warn('Solver terminated early (max_iter=%i).'\n"
     ]
    },
    {
     "name": "stdout",
     "output_type": "stream",
     "text": [
      "[CV] ...... C=1, kernel=poly, max_iter=100, score=0.601, total=   0.2s\n",
      "[CV] C=1, kernel=poly, max_iter=100 ..................................\n",
      "[CV] ...... C=1, kernel=poly, max_iter=100, score=0.584, total=   0.2s\n",
      "[CV] C=1, kernel=poly, max_iter=10 ...................................\n"
     ]
    },
    {
     "name": "stderr",
     "output_type": "stream",
     "text": [
      "C:\\Users\\12108\\anaconda3\\envs\\BUAN_6341\\lib\\site-packages\\sklearn\\svm\\_base.py:246: ConvergenceWarning: Solver terminated early (max_iter=100).  Consider pre-processing your data with StandardScaler or MinMaxScaler.\n",
      "  warnings.warn('Solver terminated early (max_iter=%i).'\n",
      "C:\\Users\\12108\\anaconda3\\envs\\BUAN_6341\\lib\\site-packages\\sklearn\\svm\\_base.py:246: ConvergenceWarning: Solver terminated early (max_iter=10).  Consider pre-processing your data with StandardScaler or MinMaxScaler.\n",
      "  warnings.warn('Solver terminated early (max_iter=%i).'\n",
      "C:\\Users\\12108\\anaconda3\\envs\\BUAN_6341\\lib\\site-packages\\sklearn\\svm\\_base.py:246: ConvergenceWarning: Solver terminated early (max_iter=10).  Consider pre-processing your data with StandardScaler or MinMaxScaler.\n",
      "  warnings.warn('Solver terminated early (max_iter=%i).'\n",
      "C:\\Users\\12108\\anaconda3\\envs\\BUAN_6341\\lib\\site-packages\\sklearn\\svm\\_base.py:246: ConvergenceWarning: Solver terminated early (max_iter=10).  Consider pre-processing your data with StandardScaler or MinMaxScaler.\n",
      "  warnings.warn('Solver terminated early (max_iter=%i).'\n",
      "C:\\Users\\12108\\anaconda3\\envs\\BUAN_6341\\lib\\site-packages\\sklearn\\svm\\_base.py:246: ConvergenceWarning: Solver terminated early (max_iter=10).  Consider pre-processing your data with StandardScaler or MinMaxScaler.\n",
      "  warnings.warn('Solver terminated early (max_iter=%i).'\n"
     ]
    },
    {
     "name": "stdout",
     "output_type": "stream",
     "text": [
      "[CV] ....... C=1, kernel=poly, max_iter=10, score=0.578, total=   0.0s\n",
      "[CV] C=1, kernel=poly, max_iter=10 ...................................\n",
      "[CV] ....... C=1, kernel=poly, max_iter=10, score=0.578, total=   0.0s\n",
      "[CV] C=1, kernel=poly, max_iter=10 ...................................\n",
      "[CV] ....... C=1, kernel=poly, max_iter=10, score=0.472, total=   0.0s\n",
      "[CV] C=1, kernel=poly, max_iter=10 ...................................\n",
      "[CV] ....... C=1, kernel=poly, max_iter=10, score=0.553, total=   0.0s\n",
      "[CV] C=1, kernel=poly, max_iter=10 ...................................\n",
      "[CV] ....... C=1, kernel=poly, max_iter=10, score=0.581, total=   0.0s\n",
      "[CV] C=10, kernel=poly, max_iter=1000 ................................\n"
     ]
    },
    {
     "name": "stderr",
     "output_type": "stream",
     "text": [
      "C:\\Users\\12108\\anaconda3\\envs\\BUAN_6341\\lib\\site-packages\\sklearn\\svm\\_base.py:246: ConvergenceWarning: Solver terminated early (max_iter=10).  Consider pre-processing your data with StandardScaler or MinMaxScaler.\n",
      "  warnings.warn('Solver terminated early (max_iter=%i).'\n",
      "C:\\Users\\12108\\anaconda3\\envs\\BUAN_6341\\lib\\site-packages\\sklearn\\svm\\_base.py:246: ConvergenceWarning: Solver terminated early (max_iter=1000).  Consider pre-processing your data with StandardScaler or MinMaxScaler.\n",
      "  warnings.warn('Solver terminated early (max_iter=%i).'\n"
     ]
    },
    {
     "name": "stdout",
     "output_type": "stream",
     "text": [
      "[CV] .... C=10, kernel=poly, max_iter=1000, score=0.657, total=   1.5s\n",
      "[CV] C=10, kernel=poly, max_iter=1000 ................................\n"
     ]
    },
    {
     "name": "stderr",
     "output_type": "stream",
     "text": [
      "C:\\Users\\12108\\anaconda3\\envs\\BUAN_6341\\lib\\site-packages\\sklearn\\svm\\_base.py:246: ConvergenceWarning: Solver terminated early (max_iter=1000).  Consider pre-processing your data with StandardScaler or MinMaxScaler.\n",
      "  warnings.warn('Solver terminated early (max_iter=%i).'\n"
     ]
    },
    {
     "name": "stdout",
     "output_type": "stream",
     "text": [
      "[CV] .... C=10, kernel=poly, max_iter=1000, score=0.641, total=   1.6s\n",
      "[CV] C=10, kernel=poly, max_iter=1000 ................................\n"
     ]
    },
    {
     "name": "stderr",
     "output_type": "stream",
     "text": [
      "C:\\Users\\12108\\anaconda3\\envs\\BUAN_6341\\lib\\site-packages\\sklearn\\svm\\_base.py:246: ConvergenceWarning: Solver terminated early (max_iter=1000).  Consider pre-processing your data with StandardScaler or MinMaxScaler.\n",
      "  warnings.warn('Solver terminated early (max_iter=%i).'\n"
     ]
    },
    {
     "name": "stdout",
     "output_type": "stream",
     "text": [
      "[CV] .... C=10, kernel=poly, max_iter=1000, score=0.654, total=   1.6s\n",
      "[CV] C=10, kernel=poly, max_iter=1000 ................................\n"
     ]
    },
    {
     "name": "stderr",
     "output_type": "stream",
     "text": [
      "C:\\Users\\12108\\anaconda3\\envs\\BUAN_6341\\lib\\site-packages\\sklearn\\svm\\_base.py:246: ConvergenceWarning: Solver terminated early (max_iter=1000).  Consider pre-processing your data with StandardScaler or MinMaxScaler.\n",
      "  warnings.warn('Solver terminated early (max_iter=%i).'\n"
     ]
    },
    {
     "name": "stdout",
     "output_type": "stream",
     "text": [
      "[CV] .... C=10, kernel=poly, max_iter=1000, score=0.674, total=   1.6s\n",
      "[CV] C=10, kernel=poly, max_iter=1000 ................................\n"
     ]
    },
    {
     "name": "stderr",
     "output_type": "stream",
     "text": [
      "C:\\Users\\12108\\anaconda3\\envs\\BUAN_6341\\lib\\site-packages\\sklearn\\svm\\_base.py:246: ConvergenceWarning: Solver terminated early (max_iter=1000).  Consider pre-processing your data with StandardScaler or MinMaxScaler.\n",
      "  warnings.warn('Solver terminated early (max_iter=%i).'\n"
     ]
    },
    {
     "name": "stdout",
     "output_type": "stream",
     "text": [
      "[CV] .... C=10, kernel=poly, max_iter=1000, score=0.613, total=   1.5s\n",
      "[CV] C=10, kernel=poly, max_iter=100 .................................\n",
      "[CV] ..... C=10, kernel=poly, max_iter=100, score=0.554, total=   0.2s\n",
      "[CV] C=10, kernel=poly, max_iter=100 .................................\n"
     ]
    },
    {
     "name": "stderr",
     "output_type": "stream",
     "text": [
      "C:\\Users\\12108\\anaconda3\\envs\\BUAN_6341\\lib\\site-packages\\sklearn\\svm\\_base.py:246: ConvergenceWarning: Solver terminated early (max_iter=100).  Consider pre-processing your data with StandardScaler or MinMaxScaler.\n",
      "  warnings.warn('Solver terminated early (max_iter=%i).'\n",
      "C:\\Users\\12108\\anaconda3\\envs\\BUAN_6341\\lib\\site-packages\\sklearn\\svm\\_base.py:246: ConvergenceWarning: Solver terminated early (max_iter=100).  Consider pre-processing your data with StandardScaler or MinMaxScaler.\n",
      "  warnings.warn('Solver terminated early (max_iter=%i).'\n"
     ]
    },
    {
     "name": "stdout",
     "output_type": "stream",
     "text": [
      "[CV] ..... C=10, kernel=poly, max_iter=100, score=0.548, total=   0.2s\n",
      "[CV] C=10, kernel=poly, max_iter=100 .................................\n",
      "[CV] ..... C=10, kernel=poly, max_iter=100, score=0.600, total=   0.2s\n",
      "[CV] C=10, kernel=poly, max_iter=100 .................................\n"
     ]
    },
    {
     "name": "stderr",
     "output_type": "stream",
     "text": [
      "C:\\Users\\12108\\anaconda3\\envs\\BUAN_6341\\lib\\site-packages\\sklearn\\svm\\_base.py:246: ConvergenceWarning: Solver terminated early (max_iter=100).  Consider pre-processing your data with StandardScaler or MinMaxScaler.\n",
      "  warnings.warn('Solver terminated early (max_iter=%i).'\n",
      "C:\\Users\\12108\\anaconda3\\envs\\BUAN_6341\\lib\\site-packages\\sklearn\\svm\\_base.py:246: ConvergenceWarning: Solver terminated early (max_iter=100).  Consider pre-processing your data with StandardScaler or MinMaxScaler.\n",
      "  warnings.warn('Solver terminated early (max_iter=%i).'\n"
     ]
    },
    {
     "name": "stdout",
     "output_type": "stream",
     "text": [
      "[CV] ..... C=10, kernel=poly, max_iter=100, score=0.593, total=   0.2s\n",
      "[CV] C=10, kernel=poly, max_iter=100 .................................\n"
     ]
    },
    {
     "name": "stderr",
     "output_type": "stream",
     "text": [
      "C:\\Users\\12108\\anaconda3\\envs\\BUAN_6341\\lib\\site-packages\\sklearn\\svm\\_base.py:246: ConvergenceWarning: Solver terminated early (max_iter=100).  Consider pre-processing your data with StandardScaler or MinMaxScaler.\n",
      "  warnings.warn('Solver terminated early (max_iter=%i).'\n",
      "C:\\Users\\12108\\anaconda3\\envs\\BUAN_6341\\lib\\site-packages\\sklearn\\svm\\_base.py:246: ConvergenceWarning: Solver terminated early (max_iter=10).  Consider pre-processing your data with StandardScaler or MinMaxScaler.\n",
      "  warnings.warn('Solver terminated early (max_iter=%i).'\n",
      "C:\\Users\\12108\\anaconda3\\envs\\BUAN_6341\\lib\\site-packages\\sklearn\\svm\\_base.py:246: ConvergenceWarning: Solver terminated early (max_iter=10).  Consider pre-processing your data with StandardScaler or MinMaxScaler.\n",
      "  warnings.warn('Solver terminated early (max_iter=%i).'\n",
      "C:\\Users\\12108\\anaconda3\\envs\\BUAN_6341\\lib\\site-packages\\sklearn\\svm\\_base.py:246: ConvergenceWarning: Solver terminated early (max_iter=10).  Consider pre-processing your data with StandardScaler or MinMaxScaler.\n",
      "  warnings.warn('Solver terminated early (max_iter=%i).'\n",
      "C:\\Users\\12108\\anaconda3\\envs\\BUAN_6341\\lib\\site-packages\\sklearn\\svm\\_base.py:246: ConvergenceWarning: Solver terminated early (max_iter=10).  Consider pre-processing your data with StandardScaler or MinMaxScaler.\n",
      "  warnings.warn('Solver terminated early (max_iter=%i).'\n",
      "C:\\Users\\12108\\anaconda3\\envs\\BUAN_6341\\lib\\site-packages\\sklearn\\svm\\_base.py:246: ConvergenceWarning: Solver terminated early (max_iter=10).  Consider pre-processing your data with StandardScaler or MinMaxScaler.\n",
      "  warnings.warn('Solver terminated early (max_iter=%i).'\n"
     ]
    },
    {
     "name": "stdout",
     "output_type": "stream",
     "text": [
      "[CV] ..... C=10, kernel=poly, max_iter=100, score=0.546, total=   0.2s\n",
      "[CV] C=10, kernel=poly, max_iter=10 ..................................\n",
      "[CV] ...... C=10, kernel=poly, max_iter=10, score=0.472, total=   0.0s\n",
      "[CV] C=10, kernel=poly, max_iter=10 ..................................\n",
      "[CV] ...... C=10, kernel=poly, max_iter=10, score=0.462, total=   0.0s\n",
      "[CV] C=10, kernel=poly, max_iter=10 ..................................\n",
      "[CV] ...... C=10, kernel=poly, max_iter=10, score=0.501, total=   0.0s\n",
      "[CV] C=10, kernel=poly, max_iter=10 ..................................\n",
      "[CV] ...... C=10, kernel=poly, max_iter=10, score=0.542, total=   0.0s\n",
      "[CV] C=10, kernel=poly, max_iter=10 ..................................\n",
      "[CV] ...... C=10, kernel=poly, max_iter=10, score=0.507, total=   0.0s\n",
      "[CV] C=1000, kernel=poly, max_iter=1000 ..............................\n"
     ]
    },
    {
     "name": "stderr",
     "output_type": "stream",
     "text": [
      "C:\\Users\\12108\\anaconda3\\envs\\BUAN_6341\\lib\\site-packages\\sklearn\\svm\\_base.py:246: ConvergenceWarning: Solver terminated early (max_iter=1000).  Consider pre-processing your data with StandardScaler or MinMaxScaler.\n",
      "  warnings.warn('Solver terminated early (max_iter=%i).'\n"
     ]
    },
    {
     "name": "stdout",
     "output_type": "stream",
     "text": [
      "[CV] .. C=1000, kernel=poly, max_iter=1000, score=0.669, total=   1.6s\n",
      "[CV] C=1000, kernel=poly, max_iter=1000 ..............................\n"
     ]
    },
    {
     "name": "stderr",
     "output_type": "stream",
     "text": [
      "C:\\Users\\12108\\anaconda3\\envs\\BUAN_6341\\lib\\site-packages\\sklearn\\svm\\_base.py:246: ConvergenceWarning: Solver terminated early (max_iter=1000).  Consider pre-processing your data with StandardScaler or MinMaxScaler.\n",
      "  warnings.warn('Solver terminated early (max_iter=%i).'\n"
     ]
    },
    {
     "name": "stdout",
     "output_type": "stream",
     "text": [
      "[CV] .. C=1000, kernel=poly, max_iter=1000, score=0.652, total=   1.5s\n",
      "[CV] C=1000, kernel=poly, max_iter=1000 ..............................\n"
     ]
    },
    {
     "name": "stderr",
     "output_type": "stream",
     "text": [
      "C:\\Users\\12108\\anaconda3\\envs\\BUAN_6341\\lib\\site-packages\\sklearn\\svm\\_base.py:246: ConvergenceWarning: Solver terminated early (max_iter=1000).  Consider pre-processing your data with StandardScaler or MinMaxScaler.\n",
      "  warnings.warn('Solver terminated early (max_iter=%i).'\n"
     ]
    },
    {
     "name": "stdout",
     "output_type": "stream",
     "text": [
      "[CV] .. C=1000, kernel=poly, max_iter=1000, score=0.654, total=   1.7s\n",
      "[CV] C=1000, kernel=poly, max_iter=1000 ..............................\n"
     ]
    },
    {
     "name": "stderr",
     "output_type": "stream",
     "text": [
      "C:\\Users\\12108\\anaconda3\\envs\\BUAN_6341\\lib\\site-packages\\sklearn\\svm\\_base.py:246: ConvergenceWarning: Solver terminated early (max_iter=1000).  Consider pre-processing your data with StandardScaler or MinMaxScaler.\n",
      "  warnings.warn('Solver terminated early (max_iter=%i).'\n"
     ]
    },
    {
     "name": "stdout",
     "output_type": "stream",
     "text": [
      "[CV] .. C=1000, kernel=poly, max_iter=1000, score=0.660, total=   1.5s\n",
      "[CV] C=1000, kernel=poly, max_iter=1000 ..............................\n"
     ]
    },
    {
     "name": "stderr",
     "output_type": "stream",
     "text": [
      "C:\\Users\\12108\\anaconda3\\envs\\BUAN_6341\\lib\\site-packages\\sklearn\\svm\\_base.py:246: ConvergenceWarning: Solver terminated early (max_iter=1000).  Consider pre-processing your data with StandardScaler or MinMaxScaler.\n",
      "  warnings.warn('Solver terminated early (max_iter=%i).'\n"
     ]
    },
    {
     "name": "stdout",
     "output_type": "stream",
     "text": [
      "[CV] .. C=1000, kernel=poly, max_iter=1000, score=0.607, total=   1.5s\n",
      "[CV] C=1000, kernel=poly, max_iter=100 ...............................\n",
      "[CV] ... C=1000, kernel=poly, max_iter=100, score=0.581, total=   0.2s\n",
      "[CV] C=1000, kernel=poly, max_iter=100 ...............................\n"
     ]
    },
    {
     "name": "stderr",
     "output_type": "stream",
     "text": [
      "C:\\Users\\12108\\anaconda3\\envs\\BUAN_6341\\lib\\site-packages\\sklearn\\svm\\_base.py:246: ConvergenceWarning: Solver terminated early (max_iter=100).  Consider pre-processing your data with StandardScaler or MinMaxScaler.\n",
      "  warnings.warn('Solver terminated early (max_iter=%i).'\n",
      "C:\\Users\\12108\\anaconda3\\envs\\BUAN_6341\\lib\\site-packages\\sklearn\\svm\\_base.py:246: ConvergenceWarning: Solver terminated early (max_iter=100).  Consider pre-processing your data with StandardScaler or MinMaxScaler.\n",
      "  warnings.warn('Solver terminated early (max_iter=%i).'\n"
     ]
    },
    {
     "name": "stdout",
     "output_type": "stream",
     "text": [
      "[CV] ... C=1000, kernel=poly, max_iter=100, score=0.548, total=   0.2s\n",
      "[CV] C=1000, kernel=poly, max_iter=100 ...............................\n",
      "[CV] ... C=1000, kernel=poly, max_iter=100, score=0.600, total=   0.2s\n",
      "[CV] C=1000, kernel=poly, max_iter=100 ...............................\n"
     ]
    },
    {
     "name": "stderr",
     "output_type": "stream",
     "text": [
      "C:\\Users\\12108\\anaconda3\\envs\\BUAN_6341\\lib\\site-packages\\sklearn\\svm\\_base.py:246: ConvergenceWarning: Solver terminated early (max_iter=100).  Consider pre-processing your data with StandardScaler or MinMaxScaler.\n",
      "  warnings.warn('Solver terminated early (max_iter=%i).'\n",
      "C:\\Users\\12108\\anaconda3\\envs\\BUAN_6341\\lib\\site-packages\\sklearn\\svm\\_base.py:246: ConvergenceWarning: Solver terminated early (max_iter=100).  Consider pre-processing your data with StandardScaler or MinMaxScaler.\n",
      "  warnings.warn('Solver terminated early (max_iter=%i).'\n"
     ]
    },
    {
     "name": "stdout",
     "output_type": "stream",
     "text": [
      "[CV] ... C=1000, kernel=poly, max_iter=100, score=0.546, total=   0.2s\n",
      "[CV] C=1000, kernel=poly, max_iter=100 ...............................\n",
      "[CV] ... C=1000, kernel=poly, max_iter=100, score=0.546, total=   0.2s\n",
      "[CV] C=1000, kernel=poly, max_iter=10 ................................\n"
     ]
    },
    {
     "name": "stderr",
     "output_type": "stream",
     "text": [
      "C:\\Users\\12108\\anaconda3\\envs\\BUAN_6341\\lib\\site-packages\\sklearn\\svm\\_base.py:246: ConvergenceWarning: Solver terminated early (max_iter=100).  Consider pre-processing your data with StandardScaler or MinMaxScaler.\n",
      "  warnings.warn('Solver terminated early (max_iter=%i).'\n",
      "C:\\Users\\12108\\anaconda3\\envs\\BUAN_6341\\lib\\site-packages\\sklearn\\svm\\_base.py:246: ConvergenceWarning: Solver terminated early (max_iter=10).  Consider pre-processing your data with StandardScaler or MinMaxScaler.\n",
      "  warnings.warn('Solver terminated early (max_iter=%i).'\n",
      "C:\\Users\\12108\\anaconda3\\envs\\BUAN_6341\\lib\\site-packages\\sklearn\\svm\\_base.py:246: ConvergenceWarning: Solver terminated early (max_iter=10).  Consider pre-processing your data with StandardScaler or MinMaxScaler.\n",
      "  warnings.warn('Solver terminated early (max_iter=%i).'\n",
      "C:\\Users\\12108\\anaconda3\\envs\\BUAN_6341\\lib\\site-packages\\sklearn\\svm\\_base.py:246: ConvergenceWarning: Solver terminated early (max_iter=10).  Consider pre-processing your data with StandardScaler or MinMaxScaler.\n",
      "  warnings.warn('Solver terminated early (max_iter=%i).'\n",
      "C:\\Users\\12108\\anaconda3\\envs\\BUAN_6341\\lib\\site-packages\\sklearn\\svm\\_base.py:246: ConvergenceWarning: Solver terminated early (max_iter=10).  Consider pre-processing your data with StandardScaler or MinMaxScaler.\n",
      "  warnings.warn('Solver terminated early (max_iter=%i).'\n",
      "C:\\Users\\12108\\anaconda3\\envs\\BUAN_6341\\lib\\site-packages\\sklearn\\svm\\_base.py:246: ConvergenceWarning: Solver terminated early (max_iter=10).  Consider pre-processing your data with StandardScaler or MinMaxScaler.\n",
      "  warnings.warn('Solver terminated early (max_iter=%i).'\n",
      "[Parallel(n_jobs=1)]: Done  75 out of  75 | elapsed:   46.1s finished\n"
     ]
    },
    {
     "name": "stdout",
     "output_type": "stream",
     "text": [
      "[CV] .... C=1000, kernel=poly, max_iter=10, score=0.472, total=   0.0s\n",
      "[CV] C=1000, kernel=poly, max_iter=10 ................................\n",
      "[CV] .... C=1000, kernel=poly, max_iter=10, score=0.462, total=   0.0s\n",
      "[CV] C=1000, kernel=poly, max_iter=10 ................................\n",
      "[CV] .... C=1000, kernel=poly, max_iter=10, score=0.501, total=   0.0s\n",
      "[CV] C=1000, kernel=poly, max_iter=10 ................................\n",
      "[CV] .... C=1000, kernel=poly, max_iter=10, score=0.542, total=   0.0s\n",
      "[CV] C=1000, kernel=poly, max_iter=10 ................................\n",
      "[CV] .... C=1000, kernel=poly, max_iter=10, score=0.507, total=   0.0s\n"
     ]
    },
    {
     "name": "stderr",
     "output_type": "stream",
     "text": [
      "C:\\Users\\12108\\anaconda3\\envs\\BUAN_6341\\lib\\site-packages\\sklearn\\svm\\_base.py:246: ConvergenceWarning: Solver terminated early (max_iter=1000).  Consider pre-processing your data with StandardScaler or MinMaxScaler.\n",
      "  warnings.warn('Solver terminated early (max_iter=%i).'\n"
     ]
    },
    {
     "name": "stdout",
     "output_type": "stream",
     "text": [
      "Best Parameters: {'C': 1, 'kernel': 'poly', 'max_iter': 1000}\n",
      "Best:estimator: SVC(C=1, kernel='poly', max_iter=1000, random_state=0)\n",
      "Best Score: 0.6701334933551706\n",
      "Confusion Matrix: [[ 645  760]\n",
      " [ 376 1390]]\n",
      "              precision    recall  f1-score   support\n",
      "\n",
      "           0       0.63      0.46      0.53      1405\n",
      "           1       0.65      0.79      0.71      1766\n",
      "\n",
      "    accuracy                           0.64      3171\n",
      "   macro avg       0.64      0.62      0.62      3171\n",
      "weighted avg       0.64      0.64      0.63      3171\n",
      "\n"
     ]
    }
   ],
   "source": [
    "# Runs SVC 'Poly' Kernel\n",
    "\n",
    "grid_param2 = {'C': [0.01,0.1, 1, 10, 1000], \n",
    "              'max_iter': [1000,100,10],'kernel': ['poly']} \n",
    "\n",
    "\n",
    "\n",
    "  \n",
    "polysvc = GridSearchCV(SVC(random_state=0), param_grid=grid_param2, refit = True, verbose = 3)\n",
    "      \n",
    "polysvc.fit(X_train, y_train)\n",
    "   \n",
    "print('Best Parameters:',polysvc.best_params_)    \n",
    "print('Best:estimator:',polysvc.best_estimator_)\n",
    "print('Best Score:', polysvc.best_score_)\n",
    "    \n",
    "polysvc_predictions = polysvc.predict(X_test)\n",
    "\n",
    "\n",
    "print(\"Confusion Matrix:\",confusion_matrix(y_test,polysvc_predictions))\n",
    "\n",
    "print(classification_report(y_test, polysvc_predictions))\n",
    "\n",
    "\n",
    "\n",
    "\n",
    "\n",
    "\n",
    "\n",
    "\n",
    "\n",
    "\n"
   ]
  },
  {
   "cell_type": "code",
   "execution_count": 115,
   "id": "international-insight",
   "metadata": {},
   "outputs": [
    {
     "name": "stdout",
     "output_type": "stream",
     "text": [
      "Train set score: 0.8705\n",
      "Test set score: 0.7493\n",
      "              precision    recall  f1-score   support\n",
      "\n",
      "           0       0.64      0.76      0.69      1180\n",
      "           1       0.84      0.74      0.79      1991\n",
      "\n",
      "    accuracy                           0.75      3171\n",
      "   macro avg       0.74      0.75      0.74      3171\n",
      "weighted avg       0.76      0.75      0.75      3171\n",
      "\n"
     ]
    }
   ],
   "source": [
    "# Fits Best Parameters found for Kernelized Support Vector Machine\n",
    "\n",
    "\n",
    "clf = SVC(kernel='rbf', gamma=0.1, C=1,probability=True)\n",
    "\n",
    "clf.fit(X_train, y_train)\n",
    "\n",
    "\n",
    "# predict probabilities\n",
    "\n",
    "pred_probclf = clf.predict_proba(X_test)\n",
    "\n",
    "print(\"Train set score: {:.4f}\".format(clf.score(X_train, y_train)))\n",
    "print(\"Test set score: {:.4f}\".format(clf.score(X_test, y_test)))\n",
    "\n",
    "\n",
    "clfclasses = clf.predict(X_test)\n",
    "print(metrics.classification_report(clfclasses, y_test))\n",
    "\n"
   ]
  },
  {
   "cell_type": "code",
   "execution_count": 116,
   "id": "protecting-river",
   "metadata": {},
   "outputs": [
    {
     "name": "stdout",
     "output_type": "stream",
     "text": [
      "0.8191636809163196\n"
     ]
    },
    {
     "data": {
      "image/png": "[encoded data removed]",
      "text/plain": [
       "<Figure size 576x396 with 1 Axes>"
      ]
     },
     "metadata": {},
     "output_type": "display_data"
    }
   ],
   "source": [
    "# Graphing the ROC Curve with AUC\n",
    "\n",
    "fpr, tpr, thresh = roc_curve(y_test, pred_probclf[:,1], pos_label=1)\n",
    "\n",
    "# roc curve for tpr = fpr \n",
    "random_probs = [0 for i in range(len(y_test))]\n",
    "p_fpr, p_tpr, _ = roc_curve(y_test, random_probs, pos_label=1)\n",
    "\n",
    "# auc score\n",
    "\n",
    "clf_auc_score = roc_auc_score(y_test, pred_probclf[:,1])\n",
    "\n",
    "print(clf_auc_score)\n",
    "\n",
    "\n",
    "\n",
    "# matplotlib\n",
    "import matplotlib.pyplot as plt\n",
    "plt.style.use('seaborn')\n",
    "\n",
    "# plot roc curve\n",
    "plt.plot(fpr, tpr, label='SVC with rbf kernel (area = %0.3f)' % clf_auc_score)\n",
    "plt.plot([0, 1], [0, 1],'r--')\n",
    "# title\n",
    "plt.title('ROC curve for Support Vector Machine with rbf kernel, gamma=0.1, and C=1')\n",
    "# x label\n",
    "plt.xlabel('False Positive Rate')\n",
    "# y label\n",
    "plt.ylabel('True Positive rate')\n",
    "\n",
    "plt.legend(loc='best')\n",
    "plt.savefig('ROC',dpi=300)\n",
    "plt.show();\n"
   ]
  },
  {
   "cell_type": "code",
   "execution_count": 90,
   "id": "fancy-iceland",
   "metadata": {},
   "outputs": [
    {
     "name": "stdout",
     "output_type": "stream",
     "text": [
      "Fitting 5 folds for each of 30 candidates, totalling 150 fits\n",
      "[CV] C=0.01, max_iter=1000, penalty=l1 ...............................\n",
      "[CV] ..... C=0.01, max_iter=1000, penalty=l1, score=nan, total=   0.0s\n",
      "[CV] C=0.01, max_iter=1000, penalty=l1 ...............................\n",
      "[CV] ..... C=0.01, max_iter=1000, penalty=l1, score=nan, total=   0.0s\n",
      "[CV] C=0.01, max_iter=1000, penalty=l1 ...............................\n",
      "[CV] ..... C=0.01, max_iter=1000, penalty=l1, score=nan, total=   0.0s\n",
      "[CV] C=0.01, max_iter=1000, penalty=l1 ...............................\n",
      "[CV] ..... C=0.01, max_iter=1000, penalty=l1, score=nan, total=   0.0s\n",
      "[CV] C=0.01, max_iter=1000, penalty=l1 ...............................\n",
      "[CV] ..... C=0.01, max_iter=1000, penalty=l1, score=nan, total=   0.0s\n",
      "[CV] C=0.01, max_iter=1000, penalty=l2 ...............................\n",
      "[CV] ... C=0.01, max_iter=1000, penalty=l2, score=0.690, total=   0.0s\n",
      "[CV] C=0.01, max_iter=1000, penalty=l2 ...............................\n",
      "[CV] ... C=0.01, max_iter=1000, penalty=l2, score=0.689, total=   0.0s\n",
      "[CV] C=0.01, max_iter=1000, penalty=l2 ...............................\n",
      "[CV] ... C=0.01, max_iter=1000, penalty=l2, score=0.683, total=   0.0s\n",
      "[CV] C=0.01, max_iter=1000, penalty=l2 ...............................\n",
      "[CV] ... C=0.01, max_iter=1000, penalty=l2, score=0.683, total=   0.0s\n",
      "[CV] C=0.01, max_iter=1000, penalty=l2 ...............................\n",
      "[CV] ... C=0.01, max_iter=1000, penalty=l2, score=0.687, total=   0.0s\n",
      "[CV] C=0.01, max_iter=100, penalty=l1 ................................\n"
     ]
    },
    {
     "name": "stderr",
     "output_type": "stream",
     "text": [
      "[Parallel(n_jobs=1)]: Using backend SequentialBackend with 1 concurrent workers.\n",
      "C:\\Users\\12108\\anaconda3\\envs\\BUAN_6341\\lib\\site-packages\\sklearn\\model_selection\\_validation.py:548: FitFailedWarning: Estimator fit failed. The score on this train-test partition for these parameters will be set to nan. Details: \n",
      "Traceback (most recent call last):\n",
      "  File \"C:\\Users\\12108\\anaconda3\\envs\\BUAN_6341\\lib\\site-packages\\sklearn\\model_selection\\_validation.py\", line 531, in _fit_and_score\n",
      "    estimator.fit(X_train, y_train, **fit_params)\n",
      "  File \"C:\\Users\\12108\\anaconda3\\envs\\BUAN_6341\\lib\\site-packages\\sklearn\\svm\\_classes.py\", line 233, in fit\n",
      "    self.coef_, self.intercept_, self.n_iter_ = _fit_liblinear(\n",
      "  File \"C:\\Users\\12108\\anaconda3\\envs\\BUAN_6341\\lib\\site-packages\\sklearn\\svm\\_base.py\", line 965, in _fit_liblinear\n",
      "    solver_type = _get_liblinear_solver_type(multi_class, penalty, loss, dual)\n",
      "  File \"C:\\Users\\12108\\anaconda3\\envs\\BUAN_6341\\lib\\site-packages\\sklearn\\svm\\_base.py\", line 821, in _get_liblinear_solver_type\n",
      "    raise ValueError('Unsupported set of arguments: %s, '\n",
      "ValueError: Unsupported set of arguments: The combination of penalty='l1' and loss='squared_hinge' are not supported when dual=True, Parameters: penalty='l1', loss='squared_hinge', dual=True\n",
      "\n",
      "  warnings.warn(\"Estimator fit failed. The score on this train-test\"\n",
      "[Parallel(n_jobs=1)]: Done   1 out of   1 | elapsed:    0.0s remaining:    0.0s\n",
      "C:\\Users\\12108\\anaconda3\\envs\\BUAN_6341\\lib\\site-packages\\sklearn\\model_selection\\_validation.py:548: FitFailedWarning: Estimator fit failed. The score on this train-test partition for these parameters will be set to nan. Details: \n",
      "Traceback (most recent call last):\n",
      "  File \"C:\\Users\\12108\\anaconda3\\envs\\BUAN_6341\\lib\\site-packages\\sklearn\\model_selection\\_validation.py\", line 531, in _fit_and_score\n",
      "    estimator.fit(X_train, y_train, **fit_params)\n",
      "  File \"C:\\Users\\12108\\anaconda3\\envs\\BUAN_6341\\lib\\site-packages\\sklearn\\svm\\_classes.py\", line 233, in fit\n",
      "    self.coef_, self.intercept_, self.n_iter_ = _fit_liblinear(\n",
      "  File \"C:\\Users\\12108\\anaconda3\\envs\\BUAN_6341\\lib\\site-packages\\sklearn\\svm\\_base.py\", line 965, in _fit_liblinear\n",
      "    solver_type = _get_liblinear_solver_type(multi_class, penalty, loss, dual)\n",
      "  File \"C:\\Users\\12108\\anaconda3\\envs\\BUAN_6341\\lib\\site-packages\\sklearn\\svm\\_base.py\", line 821, in _get_liblinear_solver_type\n",
      "    raise ValueError('Unsupported set of arguments: %s, '\n",
      "ValueError: Unsupported set of arguments: The combination of penalty='l1' and loss='squared_hinge' are not supported when dual=True, Parameters: penalty='l1', loss='squared_hinge', dual=True\n",
      "\n",
      "  warnings.warn(\"Estimator fit failed. The score on this train-test\"\n",
      "[Parallel(n_jobs=1)]: Done   2 out of   2 | elapsed:    0.0s remaining:    0.0s\n",
      "C:\\Users\\12108\\anaconda3\\envs\\BUAN_6341\\lib\\site-packages\\sklearn\\model_selection\\_validation.py:548: FitFailedWarning: Estimator fit failed. The score on this train-test partition for these parameters will be set to nan. Details: \n",
      "Traceback (most recent call last):\n",
      "  File \"C:\\Users\\12108\\anaconda3\\envs\\BUAN_6341\\lib\\site-packages\\sklearn\\model_selection\\_validation.py\", line 531, in _fit_and_score\n",
      "    estimator.fit(X_train, y_train, **fit_params)\n",
      "  File \"C:\\Users\\12108\\anaconda3\\envs\\BUAN_6341\\lib\\site-packages\\sklearn\\svm\\_classes.py\", line 233, in fit\n",
      "    self.coef_, self.intercept_, self.n_iter_ = _fit_liblinear(\n",
      "  File \"C:\\Users\\12108\\anaconda3\\envs\\BUAN_6341\\lib\\site-packages\\sklearn\\svm\\_base.py\", line 965, in _fit_liblinear\n",
      "    solver_type = _get_liblinear_solver_type(multi_class, penalty, loss, dual)\n",
      "  File \"C:\\Users\\12108\\anaconda3\\envs\\BUAN_6341\\lib\\site-packages\\sklearn\\svm\\_base.py\", line 821, in _get_liblinear_solver_type\n",
      "    raise ValueError('Unsupported set of arguments: %s, '\n",
      "ValueError: Unsupported set of arguments: The combination of penalty='l1' and loss='squared_hinge' are not supported when dual=True, Parameters: penalty='l1', loss='squared_hinge', dual=True\n",
      "\n",
      "  warnings.warn(\"Estimator fit failed. The score on this train-test\"\n",
      "C:\\Users\\12108\\anaconda3\\envs\\BUAN_6341\\lib\\site-packages\\sklearn\\model_selection\\_validation.py:548: FitFailedWarning: Estimator fit failed. The score on this train-test partition for these parameters will be set to nan. Details: \n",
      "Traceback (most recent call last):\n",
      "  File \"C:\\Users\\12108\\anaconda3\\envs\\BUAN_6341\\lib\\site-packages\\sklearn\\model_selection\\_validation.py\", line 531, in _fit_and_score\n",
      "    estimator.fit(X_train, y_train, **fit_params)\n",
      "  File \"C:\\Users\\12108\\anaconda3\\envs\\BUAN_6341\\lib\\site-packages\\sklearn\\svm\\_classes.py\", line 233, in fit\n",
      "    self.coef_, self.intercept_, self.n_iter_ = _fit_liblinear(\n",
      "  File \"C:\\Users\\12108\\anaconda3\\envs\\BUAN_6341\\lib\\site-packages\\sklearn\\svm\\_base.py\", line 965, in _fit_liblinear\n",
      "    solver_type = _get_liblinear_solver_type(multi_class, penalty, loss, dual)\n",
      "  File \"C:\\Users\\12108\\anaconda3\\envs\\BUAN_6341\\lib\\site-packages\\sklearn\\svm\\_base.py\", line 821, in _get_liblinear_solver_type\n",
      "    raise ValueError('Unsupported set of arguments: %s, '\n",
      "ValueError: Unsupported set of arguments: The combination of penalty='l1' and loss='squared_hinge' are not supported when dual=True, Parameters: penalty='l1', loss='squared_hinge', dual=True\n",
      "\n",
      "  warnings.warn(\"Estimator fit failed. The score on this train-test\"\n",
      "C:\\Users\\12108\\anaconda3\\envs\\BUAN_6341\\lib\\site-packages\\sklearn\\model_selection\\_validation.py:548: FitFailedWarning: Estimator fit failed. The score on this train-test partition for these parameters will be set to nan. Details: \n",
      "Traceback (most recent call last):\n",
      "  File \"C:\\Users\\12108\\anaconda3\\envs\\BUAN_6341\\lib\\site-packages\\sklearn\\model_selection\\_validation.py\", line 531, in _fit_and_score\n",
      "    estimator.fit(X_train, y_train, **fit_params)\n",
      "  File \"C:\\Users\\12108\\anaconda3\\envs\\BUAN_6341\\lib\\site-packages\\sklearn\\svm\\_classes.py\", line 233, in fit\n",
      "    self.coef_, self.intercept_, self.n_iter_ = _fit_liblinear(\n",
      "  File \"C:\\Users\\12108\\anaconda3\\envs\\BUAN_6341\\lib\\site-packages\\sklearn\\svm\\_base.py\", line 965, in _fit_liblinear\n",
      "    solver_type = _get_liblinear_solver_type(multi_class, penalty, loss, dual)\n",
      "  File \"C:\\Users\\12108\\anaconda3\\envs\\BUAN_6341\\lib\\site-packages\\sklearn\\svm\\_base.py\", line 821, in _get_liblinear_solver_type\n",
      "    raise ValueError('Unsupported set of arguments: %s, '\n",
      "ValueError: Unsupported set of arguments: The combination of penalty='l1' and loss='squared_hinge' are not supported when dual=True, Parameters: penalty='l1', loss='squared_hinge', dual=True\n",
      "\n",
      "  warnings.warn(\"Estimator fit failed. The score on this train-test\"\n"
     ]
    },
    {
     "name": "stdout",
     "output_type": "stream",
     "text": [
      "[CV] ...... C=0.01, max_iter=100, penalty=l1, score=nan, total=   0.0s\n",
      "[CV] C=0.01, max_iter=100, penalty=l1 ................................\n",
      "[CV] ...... C=0.01, max_iter=100, penalty=l1, score=nan, total=   0.0s\n",
      "[CV] C=0.01, max_iter=100, penalty=l1 ................................\n",
      "[CV] ...... C=0.01, max_iter=100, penalty=l1, score=nan, total=   0.0s\n",
      "[CV] C=0.01, max_iter=100, penalty=l1 ................................\n",
      "[CV] ...... C=0.01, max_iter=100, penalty=l1, score=nan, total=   0.0s\n",
      "[CV] C=0.01, max_iter=100, penalty=l1 ................................\n",
      "[CV] ...... C=0.01, max_iter=100, penalty=l1, score=nan, total=   0.0s\n",
      "[CV] C=0.01, max_iter=100, penalty=l2 ................................\n",
      "[CV] .... C=0.01, max_iter=100, penalty=l2, score=0.690, total=   0.0s\n",
      "[CV] C=0.01, max_iter=100, penalty=l2 ................................\n",
      "[CV] .... C=0.01, max_iter=100, penalty=l2, score=0.689, total=   0.0s\n",
      "[CV] C=0.01, max_iter=100, penalty=l2 ................................\n",
      "[CV] .... C=0.01, max_iter=100, penalty=l2, score=0.683, total=   0.0s\n",
      "[CV] C=0.01, max_iter=100, penalty=l2 ................................"
     ]
    },
    {
     "name": "stderr",
     "output_type": "stream",
     "text": [
      "C:\\Users\\12108\\anaconda3\\envs\\BUAN_6341\\lib\\site-packages\\sklearn\\model_selection\\_validation.py:548: FitFailedWarning: Estimator fit failed. The score on this train-test partition for these parameters will be set to nan. Details: \n",
      "Traceback (most recent call last):\n",
      "  File \"C:\\Users\\12108\\anaconda3\\envs\\BUAN_6341\\lib\\site-packages\\sklearn\\model_selection\\_validation.py\", line 531, in _fit_and_score\n",
      "    estimator.fit(X_train, y_train, **fit_params)\n",
      "  File \"C:\\Users\\12108\\anaconda3\\envs\\BUAN_6341\\lib\\site-packages\\sklearn\\svm\\_classes.py\", line 233, in fit\n",
      "    self.coef_, self.intercept_, self.n_iter_ = _fit_liblinear(\n",
      "  File \"C:\\Users\\12108\\anaconda3\\envs\\BUAN_6341\\lib\\site-packages\\sklearn\\svm\\_base.py\", line 965, in _fit_liblinear\n",
      "    solver_type = _get_liblinear_solver_type(multi_class, penalty, loss, dual)\n",
      "  File \"C:\\Users\\12108\\anaconda3\\envs\\BUAN_6341\\lib\\site-packages\\sklearn\\svm\\_base.py\", line 821, in _get_liblinear_solver_type\n",
      "    raise ValueError('Unsupported set of arguments: %s, '\n",
      "ValueError: Unsupported set of arguments: The combination of penalty='l1' and loss='squared_hinge' are not supported when dual=True, Parameters: penalty='l1', loss='squared_hinge', dual=True\n",
      "\n",
      "  warnings.warn(\"Estimator fit failed. The score on this train-test\"\n",
      "C:\\Users\\12108\\anaconda3\\envs\\BUAN_6341\\lib\\site-packages\\sklearn\\model_selection\\_validation.py:548: FitFailedWarning: Estimator fit failed. The score on this train-test partition for these parameters will be set to nan. Details: \n",
      "Traceback (most recent call last):\n",
      "  File \"C:\\Users\\12108\\anaconda3\\envs\\BUAN_6341\\lib\\site-packages\\sklearn\\model_selection\\_validation.py\", line 531, in _fit_and_score\n",
      "    estimator.fit(X_train, y_train, **fit_params)\n",
      "  File \"C:\\Users\\12108\\anaconda3\\envs\\BUAN_6341\\lib\\site-packages\\sklearn\\svm\\_classes.py\", line 233, in fit\n",
      "    self.coef_, self.intercept_, self.n_iter_ = _fit_liblinear(\n",
      "  File \"C:\\Users\\12108\\anaconda3\\envs\\BUAN_6341\\lib\\site-packages\\sklearn\\svm\\_base.py\", line 965, in _fit_liblinear\n",
      "    solver_type = _get_liblinear_solver_type(multi_class, penalty, loss, dual)\n",
      "  File \"C:\\Users\\12108\\anaconda3\\envs\\BUAN_6341\\lib\\site-packages\\sklearn\\svm\\_base.py\", line 821, in _get_liblinear_solver_type\n",
      "    raise ValueError('Unsupported set of arguments: %s, '\n",
      "ValueError: Unsupported set of arguments: The combination of penalty='l1' and loss='squared_hinge' are not supported when dual=True, Parameters: penalty='l1', loss='squared_hinge', dual=True\n",
      "\n",
      "  warnings.warn(\"Estimator fit failed. The score on this train-test\"\n",
      "C:\\Users\\12108\\anaconda3\\envs\\BUAN_6341\\lib\\site-packages\\sklearn\\model_selection\\_validation.py:548: FitFailedWarning: Estimator fit failed. The score on this train-test partition for these parameters will be set to nan. Details: \n",
      "Traceback (most recent call last):\n",
      "  File \"C:\\Users\\12108\\anaconda3\\envs\\BUAN_6341\\lib\\site-packages\\sklearn\\model_selection\\_validation.py\", line 531, in _fit_and_score\n",
      "    estimator.fit(X_train, y_train, **fit_params)\n",
      "  File \"C:\\Users\\12108\\anaconda3\\envs\\BUAN_6341\\lib\\site-packages\\sklearn\\svm\\_classes.py\", line 233, in fit\n",
      "    self.coef_, self.intercept_, self.n_iter_ = _fit_liblinear(\n",
      "  File \"C:\\Users\\12108\\anaconda3\\envs\\BUAN_6341\\lib\\site-packages\\sklearn\\svm\\_base.py\", line 965, in _fit_liblinear\n",
      "    solver_type = _get_liblinear_solver_type(multi_class, penalty, loss, dual)\n",
      "  File \"C:\\Users\\12108\\anaconda3\\envs\\BUAN_6341\\lib\\site-packages\\sklearn\\svm\\_base.py\", line 821, in _get_liblinear_solver_type\n",
      "    raise ValueError('Unsupported set of arguments: %s, '\n",
      "ValueError: Unsupported set of arguments: The combination of penalty='l1' and loss='squared_hinge' are not supported when dual=True, Parameters: penalty='l1', loss='squared_hinge', dual=True\n",
      "\n",
      "  warnings.warn(\"Estimator fit failed. The score on this train-test\"\n",
      "C:\\Users\\12108\\anaconda3\\envs\\BUAN_6341\\lib\\site-packages\\sklearn\\model_selection\\_validation.py:548: FitFailedWarning: Estimator fit failed. The score on this train-test partition for these parameters will be set to nan. Details: \n",
      "Traceback (most recent call last):\n",
      "  File \"C:\\Users\\12108\\anaconda3\\envs\\BUAN_6341\\lib\\site-packages\\sklearn\\model_selection\\_validation.py\", line 531, in _fit_and_score\n",
      "    estimator.fit(X_train, y_train, **fit_params)\n",
      "  File \"C:\\Users\\12108\\anaconda3\\envs\\BUAN_6341\\lib\\site-packages\\sklearn\\svm\\_classes.py\", line 233, in fit\n",
      "    self.coef_, self.intercept_, self.n_iter_ = _fit_liblinear(\n",
      "  File \"C:\\Users\\12108\\anaconda3\\envs\\BUAN_6341\\lib\\site-packages\\sklearn\\svm\\_base.py\", line 965, in _fit_liblinear\n",
      "    solver_type = _get_liblinear_solver_type(multi_class, penalty, loss, dual)\n",
      "  File \"C:\\Users\\12108\\anaconda3\\envs\\BUAN_6341\\lib\\site-packages\\sklearn\\svm\\_base.py\", line 821, in _get_liblinear_solver_type\n",
      "    raise ValueError('Unsupported set of arguments: %s, '\n",
      "ValueError: Unsupported set of arguments: The combination of penalty='l1' and loss='squared_hinge' are not supported when dual=True, Parameters: penalty='l1', loss='squared_hinge', dual=True\n",
      "\n",
      "  warnings.warn(\"Estimator fit failed. The score on this train-test\"\n",
      "C:\\Users\\12108\\anaconda3\\envs\\BUAN_6341\\lib\\site-packages\\sklearn\\model_selection\\_validation.py:548: FitFailedWarning: Estimator fit failed. The score on this train-test partition for these parameters will be set to nan. Details: \n",
      "Traceback (most recent call last):\n",
      "  File \"C:\\Users\\12108\\anaconda3\\envs\\BUAN_6341\\lib\\site-packages\\sklearn\\model_selection\\_validation.py\", line 531, in _fit_and_score\n",
      "    estimator.fit(X_train, y_train, **fit_params)\n",
      "  File \"C:\\Users\\12108\\anaconda3\\envs\\BUAN_6341\\lib\\site-packages\\sklearn\\svm\\_classes.py\", line 233, in fit\n",
      "    self.coef_, self.intercept_, self.n_iter_ = _fit_liblinear(\n",
      "  File \"C:\\Users\\12108\\anaconda3\\envs\\BUAN_6341\\lib\\site-packages\\sklearn\\svm\\_base.py\", line 965, in _fit_liblinear\n",
      "    solver_type = _get_liblinear_solver_type(multi_class, penalty, loss, dual)\n",
      "  File \"C:\\Users\\12108\\anaconda3\\envs\\BUAN_6341\\lib\\site-packages\\sklearn\\svm\\_base.py\", line 821, in _get_liblinear_solver_type\n",
      "    raise ValueError('Unsupported set of arguments: %s, '\n",
      "ValueError: Unsupported set of arguments: The combination of penalty='l1' and loss='squared_hinge' are not supported when dual=True, Parameters: penalty='l1', loss='squared_hinge', dual=True\n",
      "\n",
      "  warnings.warn(\"Estimator fit failed. The score on this train-test\"\n"
     ]
    },
    {
     "name": "stdout",
     "output_type": "stream",
     "text": [
      "\n",
      "[CV] .... C=0.01, max_iter=100, penalty=l2, score=0.683, total=   0.0s\n",
      "[CV] C=0.01, max_iter=100, penalty=l2 ................................\n",
      "[CV] .... C=0.01, max_iter=100, penalty=l2, score=0.687, total=   0.0s\n",
      "[CV] C=0.01, max_iter=10, penalty=l1 .................................\n",
      "[CV] ....... C=0.01, max_iter=10, penalty=l1, score=nan, total=   0.0s\n",
      "[CV] C=0.01, max_iter=10, penalty=l1 .................................\n",
      "[CV] ....... C=0.01, max_iter=10, penalty=l1, score=nan, total=   0.0s\n",
      "[CV] C=0.01, max_iter=10, penalty=l1 .................................\n",
      "[CV] ....... C=0.01, max_iter=10, penalty=l1, score=nan, total=   0.0s\n",
      "[CV] C=0.01, max_iter=10, penalty=l1 .................................\n",
      "[CV] ....... C=0.01, max_iter=10, penalty=l1, score=nan, total=   0.0s\n",
      "[CV] C=0.01, max_iter=10, penalty=l1 .................................\n",
      "[CV] ....... C=0.01, max_iter=10, penalty=l1, score=nan, total=   0.0s\n",
      "[CV] C=0.01, max_iter=10, penalty=l2 .................................\n",
      "[CV] ..... C=0.01, max_iter=10, penalty=l2, score=0.690, total=   0.0s\n",
      "[CV] C=0.01, max_iter=10, penalty=l2 .................................\n",
      "[CV] ..... C=0.01, max_iter=10, penalty=l2, score=0.689, total=   0.0s\n",
      "[CV] C=0.01, max_iter=10, penalty=l2 .................................\n",
      "[CV] ..... C=0.01, max_iter=10, penalty=l2, score=0.683, total=   0.0s\n",
      "[CV] C=0.01, max_iter=10, penalty=l2 .................................\n",
      "[CV] ..... C=0.01, max_iter=10, penalty=l2, score=0.683, total=   0.0s\n",
      "[CV] C=0.01, max_iter=10, penalty=l2 .................................\n",
      "[CV] ..... C=0.01, max_iter=10, penalty=l2, score=0.687, total=   0.0s\n",
      "[CV] C=0.1, max_iter=1000, penalty=l1 ................................\n",
      "[CV] ...... C=0.1, max_iter=1000, penalty=l1, score=nan, total=   0.0s\n",
      "[CV] C=0.1, max_iter=1000, penalty=l1 ................................\n",
      "[CV] ...... C=0.1, max_iter=1000, penalty=l1, score=nan, total=   0.0s\n",
      "[CV] C=0.1, max_iter=1000, penalty=l1 ................................"
     ]
    },
    {
     "name": "stderr",
     "output_type": "stream",
     "text": [
      "C:\\Users\\12108\\anaconda3\\envs\\BUAN_6341\\lib\\site-packages\\sklearn\\model_selection\\_validation.py:548: FitFailedWarning: Estimator fit failed. The score on this train-test partition for these parameters will be set to nan. Details: \n",
      "Traceback (most recent call last):\n",
      "  File \"C:\\Users\\12108\\anaconda3\\envs\\BUAN_6341\\lib\\site-packages\\sklearn\\model_selection\\_validation.py\", line 531, in _fit_and_score\n",
      "    estimator.fit(X_train, y_train, **fit_params)\n",
      "  File \"C:\\Users\\12108\\anaconda3\\envs\\BUAN_6341\\lib\\site-packages\\sklearn\\svm\\_classes.py\", line 233, in fit\n",
      "    self.coef_, self.intercept_, self.n_iter_ = _fit_liblinear(\n",
      "  File \"C:\\Users\\12108\\anaconda3\\envs\\BUAN_6341\\lib\\site-packages\\sklearn\\svm\\_base.py\", line 965, in _fit_liblinear\n",
      "    solver_type = _get_liblinear_solver_type(multi_class, penalty, loss, dual)\n",
      "  File \"C:\\Users\\12108\\anaconda3\\envs\\BUAN_6341\\lib\\site-packages\\sklearn\\svm\\_base.py\", line 821, in _get_liblinear_solver_type\n",
      "    raise ValueError('Unsupported set of arguments: %s, '\n",
      "ValueError: Unsupported set of arguments: The combination of penalty='l1' and loss='squared_hinge' are not supported when dual=True, Parameters: penalty='l1', loss='squared_hinge', dual=True\n",
      "\n",
      "  warnings.warn(\"Estimator fit failed. The score on this train-test\"\n",
      "C:\\Users\\12108\\anaconda3\\envs\\BUAN_6341\\lib\\site-packages\\sklearn\\model_selection\\_validation.py:548: FitFailedWarning: Estimator fit failed. The score on this train-test partition for these parameters will be set to nan. Details: \n",
      "Traceback (most recent call last):\n",
      "  File \"C:\\Users\\12108\\anaconda3\\envs\\BUAN_6341\\lib\\site-packages\\sklearn\\model_selection\\_validation.py\", line 531, in _fit_and_score\n",
      "    estimator.fit(X_train, y_train, **fit_params)\n",
      "  File \"C:\\Users\\12108\\anaconda3\\envs\\BUAN_6341\\lib\\site-packages\\sklearn\\svm\\_classes.py\", line 233, in fit\n",
      "    self.coef_, self.intercept_, self.n_iter_ = _fit_liblinear(\n",
      "  File \"C:\\Users\\12108\\anaconda3\\envs\\BUAN_6341\\lib\\site-packages\\sklearn\\svm\\_base.py\", line 965, in _fit_liblinear\n",
      "    solver_type = _get_liblinear_solver_type(multi_class, penalty, loss, dual)\n",
      "  File \"C:\\Users\\12108\\anaconda3\\envs\\BUAN_6341\\lib\\site-packages\\sklearn\\svm\\_base.py\", line 821, in _get_liblinear_solver_type\n",
      "    raise ValueError('Unsupported set of arguments: %s, '\n",
      "ValueError: Unsupported set of arguments: The combination of penalty='l1' and loss='squared_hinge' are not supported when dual=True, Parameters: penalty='l1', loss='squared_hinge', dual=True\n",
      "\n",
      "  warnings.warn(\"Estimator fit failed. The score on this train-test\"\n",
      "C:\\Users\\12108\\anaconda3\\envs\\BUAN_6341\\lib\\site-packages\\sklearn\\model_selection\\_validation.py:548: FitFailedWarning: Estimator fit failed. The score on this train-test partition for these parameters will be set to nan. Details: \n",
      "Traceback (most recent call last):\n",
      "  File \"C:\\Users\\12108\\anaconda3\\envs\\BUAN_6341\\lib\\site-packages\\sklearn\\model_selection\\_validation.py\", line 531, in _fit_and_score\n",
      "    estimator.fit(X_train, y_train, **fit_params)\n",
      "  File \"C:\\Users\\12108\\anaconda3\\envs\\BUAN_6341\\lib\\site-packages\\sklearn\\svm\\_classes.py\", line 233, in fit\n",
      "    self.coef_, self.intercept_, self.n_iter_ = _fit_liblinear(\n",
      "  File \"C:\\Users\\12108\\anaconda3\\envs\\BUAN_6341\\lib\\site-packages\\sklearn\\svm\\_base.py\", line 965, in _fit_liblinear\n",
      "    solver_type = _get_liblinear_solver_type(multi_class, penalty, loss, dual)\n",
      "  File \"C:\\Users\\12108\\anaconda3\\envs\\BUAN_6341\\lib\\site-packages\\sklearn\\svm\\_base.py\", line 821, in _get_liblinear_solver_type\n",
      "    raise ValueError('Unsupported set of arguments: %s, '\n",
      "ValueError: Unsupported set of arguments: The combination of penalty='l1' and loss='squared_hinge' are not supported when dual=True, Parameters: penalty='l1', loss='squared_hinge', dual=True\n",
      "\n",
      "  warnings.warn(\"Estimator fit failed. The score on this train-test\"\n",
      "C:\\Users\\12108\\anaconda3\\envs\\BUAN_6341\\lib\\site-packages\\sklearn\\model_selection\\_validation.py:548: FitFailedWarning: Estimator fit failed. The score on this train-test partition for these parameters will be set to nan. Details: \n",
      "Traceback (most recent call last):\n",
      "  File \"C:\\Users\\12108\\anaconda3\\envs\\BUAN_6341\\lib\\site-packages\\sklearn\\model_selection\\_validation.py\", line 531, in _fit_and_score\n",
      "    estimator.fit(X_train, y_train, **fit_params)\n",
      "  File \"C:\\Users\\12108\\anaconda3\\envs\\BUAN_6341\\lib\\site-packages\\sklearn\\svm\\_classes.py\", line 233, in fit\n",
      "    self.coef_, self.intercept_, self.n_iter_ = _fit_liblinear(\n",
      "  File \"C:\\Users\\12108\\anaconda3\\envs\\BUAN_6341\\lib\\site-packages\\sklearn\\svm\\_base.py\", line 965, in _fit_liblinear\n",
      "    solver_type = _get_liblinear_solver_type(multi_class, penalty, loss, dual)\n",
      "  File \"C:\\Users\\12108\\anaconda3\\envs\\BUAN_6341\\lib\\site-packages\\sklearn\\svm\\_base.py\", line 821, in _get_liblinear_solver_type\n",
      "    raise ValueError('Unsupported set of arguments: %s, '\n",
      "ValueError: Unsupported set of arguments: The combination of penalty='l1' and loss='squared_hinge' are not supported when dual=True, Parameters: penalty='l1', loss='squared_hinge', dual=True\n",
      "\n",
      "  warnings.warn(\"Estimator fit failed. The score on this train-test\"\n",
      "C:\\Users\\12108\\anaconda3\\envs\\BUAN_6341\\lib\\site-packages\\sklearn\\model_selection\\_validation.py:548: FitFailedWarning: Estimator fit failed. The score on this train-test partition for these parameters will be set to nan. Details: \n",
      "Traceback (most recent call last):\n",
      "  File \"C:\\Users\\12108\\anaconda3\\envs\\BUAN_6341\\lib\\site-packages\\sklearn\\model_selection\\_validation.py\", line 531, in _fit_and_score\n",
      "    estimator.fit(X_train, y_train, **fit_params)\n",
      "  File \"C:\\Users\\12108\\anaconda3\\envs\\BUAN_6341\\lib\\site-packages\\sklearn\\svm\\_classes.py\", line 233, in fit\n",
      "    self.coef_, self.intercept_, self.n_iter_ = _fit_liblinear(\n",
      "  File \"C:\\Users\\12108\\anaconda3\\envs\\BUAN_6341\\lib\\site-packages\\sklearn\\svm\\_base.py\", line 965, in _fit_liblinear\n",
      "    solver_type = _get_liblinear_solver_type(multi_class, penalty, loss, dual)\n",
      "  File \"C:\\Users\\12108\\anaconda3\\envs\\BUAN_6341\\lib\\site-packages\\sklearn\\svm\\_base.py\", line 821, in _get_liblinear_solver_type\n",
      "    raise ValueError('Unsupported set of arguments: %s, '\n",
      "ValueError: Unsupported set of arguments: The combination of penalty='l1' and loss='squared_hinge' are not supported when dual=True, Parameters: penalty='l1', loss='squared_hinge', dual=True\n",
      "\n",
      "  warnings.warn(\"Estimator fit failed. The score on this train-test\"\n",
      "C:\\Users\\12108\\anaconda3\\envs\\BUAN_6341\\lib\\site-packages\\sklearn\\svm\\_base.py:976: ConvergenceWarning: Liblinear failed to converge, increase the number of iterations.\n",
      "  warnings.warn(\"Liblinear failed to converge, increase \"\n",
      "C:\\Users\\12108\\anaconda3\\envs\\BUAN_6341\\lib\\site-packages\\sklearn\\svm\\_base.py:976: ConvergenceWarning: Liblinear failed to converge, increase the number of iterations.\n",
      "  warnings.warn(\"Liblinear failed to converge, increase \"\n",
      "C:\\Users\\12108\\anaconda3\\envs\\BUAN_6341\\lib\\site-packages\\sklearn\\svm\\_base.py:976: ConvergenceWarning: Liblinear failed to converge, increase the number of iterations.\n",
      "  warnings.warn(\"Liblinear failed to converge, increase \"\n",
      "C:\\Users\\12108\\anaconda3\\envs\\BUAN_6341\\lib\\site-packages\\sklearn\\svm\\_base.py:976: ConvergenceWarning: Liblinear failed to converge, increase the number of iterations.\n",
      "  warnings.warn(\"Liblinear failed to converge, increase \"\n",
      "C:\\Users\\12108\\anaconda3\\envs\\BUAN_6341\\lib\\site-packages\\sklearn\\svm\\_base.py:976: ConvergenceWarning: Liblinear failed to converge, increase the number of iterations.\n",
      "  warnings.warn(\"Liblinear failed to converge, increase \"\n",
      "C:\\Users\\12108\\anaconda3\\envs\\BUAN_6341\\lib\\site-packages\\sklearn\\model_selection\\_validation.py:548: FitFailedWarning: Estimator fit failed. The score on this train-test partition for these parameters will be set to nan. Details: \n",
      "Traceback (most recent call last):\n",
      "  File \"C:\\Users\\12108\\anaconda3\\envs\\BUAN_6341\\lib\\site-packages\\sklearn\\model_selection\\_validation.py\", line 531, in _fit_and_score\n",
      "    estimator.fit(X_train, y_train, **fit_params)\n",
      "  File \"C:\\Users\\12108\\anaconda3\\envs\\BUAN_6341\\lib\\site-packages\\sklearn\\svm\\_classes.py\", line 233, in fit\n",
      "    self.coef_, self.intercept_, self.n_iter_ = _fit_liblinear(\n",
      "  File \"C:\\Users\\12108\\anaconda3\\envs\\BUAN_6341\\lib\\site-packages\\sklearn\\svm\\_base.py\", line 965, in _fit_liblinear\n",
      "    solver_type = _get_liblinear_solver_type(multi_class, penalty, loss, dual)\n",
      "  File \"C:\\Users\\12108\\anaconda3\\envs\\BUAN_6341\\lib\\site-packages\\sklearn\\svm\\_base.py\", line 821, in _get_liblinear_solver_type\n",
      "    raise ValueError('Unsupported set of arguments: %s, '\n",
      "ValueError: Unsupported set of arguments: The combination of penalty='l1' and loss='squared_hinge' are not supported when dual=True, Parameters: penalty='l1', loss='squared_hinge', dual=True\n",
      "\n",
      "  warnings.warn(\"Estimator fit failed. The score on this train-test\"\n",
      "C:\\Users\\12108\\anaconda3\\envs\\BUAN_6341\\lib\\site-packages\\sklearn\\model_selection\\_validation.py:548: FitFailedWarning: Estimator fit failed. The score on this train-test partition for these parameters will be set to nan. Details: \n",
      "Traceback (most recent call last):\n",
      "  File \"C:\\Users\\12108\\anaconda3\\envs\\BUAN_6341\\lib\\site-packages\\sklearn\\model_selection\\_validation.py\", line 531, in _fit_and_score\n",
      "    estimator.fit(X_train, y_train, **fit_params)\n",
      "  File \"C:\\Users\\12108\\anaconda3\\envs\\BUAN_6341\\lib\\site-packages\\sklearn\\svm\\_classes.py\", line 233, in fit\n",
      "    self.coef_, self.intercept_, self.n_iter_ = _fit_liblinear(\n",
      "  File \"C:\\Users\\12108\\anaconda3\\envs\\BUAN_6341\\lib\\site-packages\\sklearn\\svm\\_base.py\", line 965, in _fit_liblinear\n",
      "    solver_type = _get_liblinear_solver_type(multi_class, penalty, loss, dual)\n",
      "  File \"C:\\Users\\12108\\anaconda3\\envs\\BUAN_6341\\lib\\site-packages\\sklearn\\svm\\_base.py\", line 821, in _get_liblinear_solver_type\n",
      "    raise ValueError('Unsupported set of arguments: %s, '\n",
      "ValueError: Unsupported set of arguments: The combination of penalty='l1' and loss='squared_hinge' are not supported when dual=True, Parameters: penalty='l1', loss='squared_hinge', dual=True\n",
      "\n",
      "  warnings.warn(\"Estimator fit failed. The score on this train-test\"\n",
      "C:\\Users\\12108\\anaconda3\\envs\\BUAN_6341\\lib\\site-packages\\sklearn\\model_selection\\_validation.py:548: FitFailedWarning: Estimator fit failed. The score on this train-test partition for these parameters will be set to nan. Details: \n",
      "Traceback (most recent call last):\n",
      "  File \"C:\\Users\\12108\\anaconda3\\envs\\BUAN_6341\\lib\\site-packages\\sklearn\\model_selection\\_validation.py\", line 531, in _fit_and_score\n",
      "    estimator.fit(X_train, y_train, **fit_params)\n",
      "  File \"C:\\Users\\12108\\anaconda3\\envs\\BUAN_6341\\lib\\site-packages\\sklearn\\svm\\_classes.py\", line 233, in fit\n",
      "    self.coef_, self.intercept_, self.n_iter_ = _fit_liblinear(\n",
      "  File \"C:\\Users\\12108\\anaconda3\\envs\\BUAN_6341\\lib\\site-packages\\sklearn\\svm\\_base.py\", line 965, in _fit_liblinear\n",
      "    solver_type = _get_liblinear_solver_type(multi_class, penalty, loss, dual)\n",
      "  File \"C:\\Users\\12108\\anaconda3\\envs\\BUAN_6341\\lib\\site-packages\\sklearn\\svm\\_base.py\", line 821, in _get_liblinear_solver_type\n",
      "    raise ValueError('Unsupported set of arguments: %s, '\n",
      "ValueError: Unsupported set of arguments: The combination of penalty='l1' and loss='squared_hinge' are not supported when dual=True, Parameters: penalty='l1', loss='squared_hinge', dual=True\n",
      "\n",
      "  warnings.warn(\"Estimator fit failed. The score on this train-test\"\n"
     ]
    },
    {
     "name": "stdout",
     "output_type": "stream",
     "text": [
      "\n",
      "[CV] ...... C=0.1, max_iter=1000, penalty=l1, score=nan, total=   0.0s\n",
      "[CV] C=0.1, max_iter=1000, penalty=l1 ................................\n",
      "[CV] ...... C=0.1, max_iter=1000, penalty=l1, score=nan, total=   0.0s\n",
      "[CV] C=0.1, max_iter=1000, penalty=l1 ................................\n",
      "[CV] ...... C=0.1, max_iter=1000, penalty=l1, score=nan, total=   0.0s\n",
      "[CV] C=0.1, max_iter=1000, penalty=l2 ................................\n",
      "[CV] .... C=0.1, max_iter=1000, penalty=l2, score=0.694, total=   0.1s\n",
      "[CV] C=0.1, max_iter=1000, penalty=l2 ................................\n",
      "[CV] .... C=0.1, max_iter=1000, penalty=l2, score=0.684, total=   0.0s\n",
      "[CV] C=0.1, max_iter=1000, penalty=l2 ................................\n",
      "[CV] .... C=0.1, max_iter=1000, penalty=l2, score=0.680, total=   0.1s\n",
      "[CV] C=0.1, max_iter=1000, penalty=l2 ................................\n"
     ]
    },
    {
     "name": "stderr",
     "output_type": "stream",
     "text": [
      "C:\\Users\\12108\\anaconda3\\envs\\BUAN_6341\\lib\\site-packages\\sklearn\\model_selection\\_validation.py:548: FitFailedWarning: Estimator fit failed. The score on this train-test partition for these parameters will be set to nan. Details: \n",
      "Traceback (most recent call last):\n",
      "  File \"C:\\Users\\12108\\anaconda3\\envs\\BUAN_6341\\lib\\site-packages\\sklearn\\model_selection\\_validation.py\", line 531, in _fit_and_score\n",
      "    estimator.fit(X_train, y_train, **fit_params)\n",
      "  File \"C:\\Users\\12108\\anaconda3\\envs\\BUAN_6341\\lib\\site-packages\\sklearn\\svm\\_classes.py\", line 233, in fit\n",
      "    self.coef_, self.intercept_, self.n_iter_ = _fit_liblinear(\n",
      "  File \"C:\\Users\\12108\\anaconda3\\envs\\BUAN_6341\\lib\\site-packages\\sklearn\\svm\\_base.py\", line 965, in _fit_liblinear\n",
      "    solver_type = _get_liblinear_solver_type(multi_class, penalty, loss, dual)\n",
      "  File \"C:\\Users\\12108\\anaconda3\\envs\\BUAN_6341\\lib\\site-packages\\sklearn\\svm\\_base.py\", line 821, in _get_liblinear_solver_type\n",
      "    raise ValueError('Unsupported set of arguments: %s, '\n",
      "ValueError: Unsupported set of arguments: The combination of penalty='l1' and loss='squared_hinge' are not supported when dual=True, Parameters: penalty='l1', loss='squared_hinge', dual=True\n",
      "\n",
      "  warnings.warn(\"Estimator fit failed. The score on this train-test\"\n",
      "C:\\Users\\12108\\anaconda3\\envs\\BUAN_6341\\lib\\site-packages\\sklearn\\model_selection\\_validation.py:548: FitFailedWarning: Estimator fit failed. The score on this train-test partition for these parameters will be set to nan. Details: \n",
      "Traceback (most recent call last):\n",
      "  File \"C:\\Users\\12108\\anaconda3\\envs\\BUAN_6341\\lib\\site-packages\\sklearn\\model_selection\\_validation.py\", line 531, in _fit_and_score\n",
      "    estimator.fit(X_train, y_train, **fit_params)\n",
      "  File \"C:\\Users\\12108\\anaconda3\\envs\\BUAN_6341\\lib\\site-packages\\sklearn\\svm\\_classes.py\", line 233, in fit\n",
      "    self.coef_, self.intercept_, self.n_iter_ = _fit_liblinear(\n",
      "  File \"C:\\Users\\12108\\anaconda3\\envs\\BUAN_6341\\lib\\site-packages\\sklearn\\svm\\_base.py\", line 965, in _fit_liblinear\n",
      "    solver_type = _get_liblinear_solver_type(multi_class, penalty, loss, dual)\n",
      "  File \"C:\\Users\\12108\\anaconda3\\envs\\BUAN_6341\\lib\\site-packages\\sklearn\\svm\\_base.py\", line 821, in _get_liblinear_solver_type\n",
      "    raise ValueError('Unsupported set of arguments: %s, '\n",
      "ValueError: Unsupported set of arguments: The combination of penalty='l1' and loss='squared_hinge' are not supported when dual=True, Parameters: penalty='l1', loss='squared_hinge', dual=True\n",
      "\n",
      "  warnings.warn(\"Estimator fit failed. The score on this train-test\"\n"
     ]
    },
    {
     "name": "stdout",
     "output_type": "stream",
     "text": [
      "[CV] .... C=0.1, max_iter=1000, penalty=l2, score=0.684, total=   0.1s\n",
      "[CV] C=0.1, max_iter=1000, penalty=l2 ................................\n",
      "[CV] .... C=0.1, max_iter=1000, penalty=l2, score=0.685, total=   0.0s\n",
      "[CV] C=0.1, max_iter=100, penalty=l1 .................................\n",
      "[CV] ....... C=0.1, max_iter=100, penalty=l1, score=nan, total=   0.0s\n",
      "[CV] C=0.1, max_iter=100, penalty=l1 .................................\n",
      "[CV] ....... C=0.1, max_iter=100, penalty=l1, score=nan, total=   0.0s\n",
      "[CV] C=0.1, max_iter=100, penalty=l1 .................................\n",
      "[CV] ....... C=0.1, max_iter=100, penalty=l1, score=nan, total=   0.0s\n",
      "[CV] C=0.1, max_iter=100, penalty=l1 .................................\n",
      "[CV] ....... C=0.1, max_iter=100, penalty=l1, score=nan, total=   0.0s\n",
      "[CV] C=0.1, max_iter=100, penalty=l1 .................................\n",
      "[CV] ....... C=0.1, max_iter=100, penalty=l1, score=nan, total=   0.0s\n",
      "[CV] C=0.1, max_iter=100, penalty=l2 .................................\n",
      "[CV] ..... C=0.1, max_iter=100, penalty=l2, score=0.694, total=   0.1s\n",
      "[CV] C=0.1, max_iter=100, penalty=l2 .................................\n",
      "[CV] ..... C=0.1, max_iter=100, penalty=l2, score=0.684, total=   0.1s\n",
      "[CV] C=0.1, max_iter=100, penalty=l2 .................................\n"
     ]
    },
    {
     "name": "stderr",
     "output_type": "stream",
     "text": [
      "C:\\Users\\12108\\anaconda3\\envs\\BUAN_6341\\lib\\site-packages\\sklearn\\model_selection\\_validation.py:548: FitFailedWarning: Estimator fit failed. The score on this train-test partition for these parameters will be set to nan. Details: \n",
      "Traceback (most recent call last):\n",
      "  File \"C:\\Users\\12108\\anaconda3\\envs\\BUAN_6341\\lib\\site-packages\\sklearn\\model_selection\\_validation.py\", line 531, in _fit_and_score\n",
      "    estimator.fit(X_train, y_train, **fit_params)\n",
      "  File \"C:\\Users\\12108\\anaconda3\\envs\\BUAN_6341\\lib\\site-packages\\sklearn\\svm\\_classes.py\", line 233, in fit\n",
      "    self.coef_, self.intercept_, self.n_iter_ = _fit_liblinear(\n",
      "  File \"C:\\Users\\12108\\anaconda3\\envs\\BUAN_6341\\lib\\site-packages\\sklearn\\svm\\_base.py\", line 965, in _fit_liblinear\n",
      "    solver_type = _get_liblinear_solver_type(multi_class, penalty, loss, dual)\n",
      "  File \"C:\\Users\\12108\\anaconda3\\envs\\BUAN_6341\\lib\\site-packages\\sklearn\\svm\\_base.py\", line 821, in _get_liblinear_solver_type\n",
      "    raise ValueError('Unsupported set of arguments: %s, '\n",
      "ValueError: Unsupported set of arguments: The combination of penalty='l1' and loss='squared_hinge' are not supported when dual=True, Parameters: penalty='l1', loss='squared_hinge', dual=True\n",
      "\n",
      "  warnings.warn(\"Estimator fit failed. The score on this train-test\"\n",
      "C:\\Users\\12108\\anaconda3\\envs\\BUAN_6341\\lib\\site-packages\\sklearn\\model_selection\\_validation.py:548: FitFailedWarning: Estimator fit failed. The score on this train-test partition for these parameters will be set to nan. Details: \n",
      "Traceback (most recent call last):\n",
      "  File \"C:\\Users\\12108\\anaconda3\\envs\\BUAN_6341\\lib\\site-packages\\sklearn\\model_selection\\_validation.py\", line 531, in _fit_and_score\n",
      "    estimator.fit(X_train, y_train, **fit_params)\n",
      "  File \"C:\\Users\\12108\\anaconda3\\envs\\BUAN_6341\\lib\\site-packages\\sklearn\\svm\\_classes.py\", line 233, in fit\n",
      "    self.coef_, self.intercept_, self.n_iter_ = _fit_liblinear(\n",
      "  File \"C:\\Users\\12108\\anaconda3\\envs\\BUAN_6341\\lib\\site-packages\\sklearn\\svm\\_base.py\", line 965, in _fit_liblinear\n",
      "    solver_type = _get_liblinear_solver_type(multi_class, penalty, loss, dual)\n",
      "  File \"C:\\Users\\12108\\anaconda3\\envs\\BUAN_6341\\lib\\site-packages\\sklearn\\svm\\_base.py\", line 821, in _get_liblinear_solver_type\n",
      "    raise ValueError('Unsupported set of arguments: %s, '\n",
      "ValueError: Unsupported set of arguments: The combination of penalty='l1' and loss='squared_hinge' are not supported when dual=True, Parameters: penalty='l1', loss='squared_hinge', dual=True\n",
      "\n",
      "  warnings.warn(\"Estimator fit failed. The score on this train-test\"\n",
      "C:\\Users\\12108\\anaconda3\\envs\\BUAN_6341\\lib\\site-packages\\sklearn\\model_selection\\_validation.py:548: FitFailedWarning: Estimator fit failed. The score on this train-test partition for these parameters will be set to nan. Details: \n",
      "Traceback (most recent call last):\n",
      "  File \"C:\\Users\\12108\\anaconda3\\envs\\BUAN_6341\\lib\\site-packages\\sklearn\\model_selection\\_validation.py\", line 531, in _fit_and_score\n",
      "    estimator.fit(X_train, y_train, **fit_params)\n",
      "  File \"C:\\Users\\12108\\anaconda3\\envs\\BUAN_6341\\lib\\site-packages\\sklearn\\svm\\_classes.py\", line 233, in fit\n",
      "    self.coef_, self.intercept_, self.n_iter_ = _fit_liblinear(\n",
      "  File \"C:\\Users\\12108\\anaconda3\\envs\\BUAN_6341\\lib\\site-packages\\sklearn\\svm\\_base.py\", line 965, in _fit_liblinear\n",
      "    solver_type = _get_liblinear_solver_type(multi_class, penalty, loss, dual)\n",
      "  File \"C:\\Users\\12108\\anaconda3\\envs\\BUAN_6341\\lib\\site-packages\\sklearn\\svm\\_base.py\", line 821, in _get_liblinear_solver_type\n",
      "    raise ValueError('Unsupported set of arguments: %s, '\n",
      "ValueError: Unsupported set of arguments: The combination of penalty='l1' and loss='squared_hinge' are not supported when dual=True, Parameters: penalty='l1', loss='squared_hinge', dual=True\n",
      "\n",
      "  warnings.warn(\"Estimator fit failed. The score on this train-test\"\n",
      "C:\\Users\\12108\\anaconda3\\envs\\BUAN_6341\\lib\\site-packages\\sklearn\\model_selection\\_validation.py:548: FitFailedWarning: Estimator fit failed. The score on this train-test partition for these parameters will be set to nan. Details: \n",
      "Traceback (most recent call last):\n",
      "  File \"C:\\Users\\12108\\anaconda3\\envs\\BUAN_6341\\lib\\site-packages\\sklearn\\model_selection\\_validation.py\", line 531, in _fit_and_score\n",
      "    estimator.fit(X_train, y_train, **fit_params)\n",
      "  File \"C:\\Users\\12108\\anaconda3\\envs\\BUAN_6341\\lib\\site-packages\\sklearn\\svm\\_classes.py\", line 233, in fit\n",
      "    self.coef_, self.intercept_, self.n_iter_ = _fit_liblinear(\n",
      "  File \"C:\\Users\\12108\\anaconda3\\envs\\BUAN_6341\\lib\\site-packages\\sklearn\\svm\\_base.py\", line 965, in _fit_liblinear\n",
      "    solver_type = _get_liblinear_solver_type(multi_class, penalty, loss, dual)\n",
      "  File \"C:\\Users\\12108\\anaconda3\\envs\\BUAN_6341\\lib\\site-packages\\sklearn\\svm\\_base.py\", line 821, in _get_liblinear_solver_type\n",
      "    raise ValueError('Unsupported set of arguments: %s, '\n",
      "ValueError: Unsupported set of arguments: The combination of penalty='l1' and loss='squared_hinge' are not supported when dual=True, Parameters: penalty='l1', loss='squared_hinge', dual=True\n",
      "\n",
      "  warnings.warn(\"Estimator fit failed. The score on this train-test\"\n",
      "C:\\Users\\12108\\anaconda3\\envs\\BUAN_6341\\lib\\site-packages\\sklearn\\model_selection\\_validation.py:548: FitFailedWarning: Estimator fit failed. The score on this train-test partition for these parameters will be set to nan. Details: \n",
      "Traceback (most recent call last):\n",
      "  File \"C:\\Users\\12108\\anaconda3\\envs\\BUAN_6341\\lib\\site-packages\\sklearn\\model_selection\\_validation.py\", line 531, in _fit_and_score\n",
      "    estimator.fit(X_train, y_train, **fit_params)\n",
      "  File \"C:\\Users\\12108\\anaconda3\\envs\\BUAN_6341\\lib\\site-packages\\sklearn\\svm\\_classes.py\", line 233, in fit\n",
      "    self.coef_, self.intercept_, self.n_iter_ = _fit_liblinear(\n",
      "  File \"C:\\Users\\12108\\anaconda3\\envs\\BUAN_6341\\lib\\site-packages\\sklearn\\svm\\_base.py\", line 965, in _fit_liblinear\n",
      "    solver_type = _get_liblinear_solver_type(multi_class, penalty, loss, dual)\n",
      "  File \"C:\\Users\\12108\\anaconda3\\envs\\BUAN_6341\\lib\\site-packages\\sklearn\\svm\\_base.py\", line 821, in _get_liblinear_solver_type\n",
      "    raise ValueError('Unsupported set of arguments: %s, '\n",
      "ValueError: Unsupported set of arguments: The combination of penalty='l1' and loss='squared_hinge' are not supported when dual=True, Parameters: penalty='l1', loss='squared_hinge', dual=True\n",
      "\n",
      "  warnings.warn(\"Estimator fit failed. The score on this train-test\"\n"
     ]
    },
    {
     "name": "stdout",
     "output_type": "stream",
     "text": [
      "[CV] ..... C=0.1, max_iter=100, penalty=l2, score=0.680, total=   0.1s\n",
      "[CV] C=0.1, max_iter=100, penalty=l2 .................................\n",
      "[CV] ..... C=0.1, max_iter=100, penalty=l2, score=0.684, total=   0.1s\n",
      "[CV] C=0.1, max_iter=100, penalty=l2 .................................\n",
      "[CV] ..... C=0.1, max_iter=100, penalty=l2, score=0.685, total=   0.1s\n",
      "[CV] C=0.1, max_iter=10, penalty=l1 ..................................\n",
      "[CV] ........ C=0.1, max_iter=10, penalty=l1, score=nan, total=   0.0s\n",
      "[CV] C=0.1, max_iter=10, penalty=l1 ..................................\n",
      "[CV] ........ C=0.1, max_iter=10, penalty=l1, score=nan, total=   0.0s\n",
      "[CV] C=0.1, max_iter=10, penalty=l1 ..................................\n",
      "[CV] ........ C=0.1, max_iter=10, penalty=l1, score=nan, total=   0.0s\n",
      "[CV] C=0.1, max_iter=10, penalty=l1 ..................................\n",
      "[CV] ........ C=0.1, max_iter=10, penalty=l1, score=nan, total=   0.0s\n",
      "[CV] C=0.1, max_iter=10, penalty=l1 ..................................\n",
      "[CV] ........ C=0.1, max_iter=10, penalty=l1, score=nan, total=   0.0s\n",
      "[CV] C=0.1, max_iter=10, penalty=l2 ..................................\n",
      "[CV] ...... C=0.1, max_iter=10, penalty=l2, score=0.687, total=   0.0s\n",
      "[CV] C=0.1, max_iter=10, penalty=l2 ..................................\n",
      "[CV] ...... C=0.1, max_iter=10, penalty=l2, score=0.676, total=   0.0s\n",
      "[CV] C=0.1, max_iter=10, penalty=l2 ..................................\n",
      "[CV] ...... C=0.1, max_iter=10, penalty=l2, score=0.689, total=   0.0s\n",
      "[CV] C=0.1, max_iter=10, penalty=l2 ..................................\n",
      "[CV] ...... C=0.1, max_iter=10, penalty=l2, score=0.685, total=   0.0s\n",
      "[CV] C=0.1, max_iter=10, penalty=l2 ..................................\n",
      "[CV] ...... C=0.1, max_iter=10, penalty=l2, score=0.680, total=   0.0s\n",
      "[CV] C=1, max_iter=1000, penalty=l1 ..................................\n",
      "[CV] ........ C=1, max_iter=1000, penalty=l1, score=nan, total=   0.0s\n",
      "[CV] C=1, max_iter=1000, penalty=l1 .................................."
     ]
    },
    {
     "name": "stderr",
     "output_type": "stream",
     "text": [
      "C:\\Users\\12108\\anaconda3\\envs\\BUAN_6341\\lib\\site-packages\\sklearn\\model_selection\\_validation.py:548: FitFailedWarning: Estimator fit failed. The score on this train-test partition for these parameters will be set to nan. Details: \n",
      "Traceback (most recent call last):\n",
      "  File \"C:\\Users\\12108\\anaconda3\\envs\\BUAN_6341\\lib\\site-packages\\sklearn\\model_selection\\_validation.py\", line 531, in _fit_and_score\n",
      "    estimator.fit(X_train, y_train, **fit_params)\n",
      "  File \"C:\\Users\\12108\\anaconda3\\envs\\BUAN_6341\\lib\\site-packages\\sklearn\\svm\\_classes.py\", line 233, in fit\n",
      "    self.coef_, self.intercept_, self.n_iter_ = _fit_liblinear(\n",
      "  File \"C:\\Users\\12108\\anaconda3\\envs\\BUAN_6341\\lib\\site-packages\\sklearn\\svm\\_base.py\", line 965, in _fit_liblinear\n",
      "    solver_type = _get_liblinear_solver_type(multi_class, penalty, loss, dual)\n",
      "  File \"C:\\Users\\12108\\anaconda3\\envs\\BUAN_6341\\lib\\site-packages\\sklearn\\svm\\_base.py\", line 821, in _get_liblinear_solver_type\n",
      "    raise ValueError('Unsupported set of arguments: %s, '\n",
      "ValueError: Unsupported set of arguments: The combination of penalty='l1' and loss='squared_hinge' are not supported when dual=True, Parameters: penalty='l1', loss='squared_hinge', dual=True\n",
      "\n",
      "  warnings.warn(\"Estimator fit failed. The score on this train-test\"\n",
      "C:\\Users\\12108\\anaconda3\\envs\\BUAN_6341\\lib\\site-packages\\sklearn\\model_selection\\_validation.py:548: FitFailedWarning: Estimator fit failed. The score on this train-test partition for these parameters will be set to nan. Details: \n",
      "Traceback (most recent call last):\n",
      "  File \"C:\\Users\\12108\\anaconda3\\envs\\BUAN_6341\\lib\\site-packages\\sklearn\\model_selection\\_validation.py\", line 531, in _fit_and_score\n",
      "    estimator.fit(X_train, y_train, **fit_params)\n",
      "  File \"C:\\Users\\12108\\anaconda3\\envs\\BUAN_6341\\lib\\site-packages\\sklearn\\svm\\_classes.py\", line 233, in fit\n",
      "    self.coef_, self.intercept_, self.n_iter_ = _fit_liblinear(\n",
      "  File \"C:\\Users\\12108\\anaconda3\\envs\\BUAN_6341\\lib\\site-packages\\sklearn\\svm\\_base.py\", line 965, in _fit_liblinear\n",
      "    solver_type = _get_liblinear_solver_type(multi_class, penalty, loss, dual)\n",
      "  File \"C:\\Users\\12108\\anaconda3\\envs\\BUAN_6341\\lib\\site-packages\\sklearn\\svm\\_base.py\", line 821, in _get_liblinear_solver_type\n",
      "    raise ValueError('Unsupported set of arguments: %s, '\n",
      "ValueError: Unsupported set of arguments: The combination of penalty='l1' and loss='squared_hinge' are not supported when dual=True, Parameters: penalty='l1', loss='squared_hinge', dual=True\n",
      "\n",
      "  warnings.warn(\"Estimator fit failed. The score on this train-test\"\n",
      "C:\\Users\\12108\\anaconda3\\envs\\BUAN_6341\\lib\\site-packages\\sklearn\\model_selection\\_validation.py:548: FitFailedWarning: Estimator fit failed. The score on this train-test partition for these parameters will be set to nan. Details: \n",
      "Traceback (most recent call last):\n",
      "  File \"C:\\Users\\12108\\anaconda3\\envs\\BUAN_6341\\lib\\site-packages\\sklearn\\model_selection\\_validation.py\", line 531, in _fit_and_score\n",
      "    estimator.fit(X_train, y_train, **fit_params)\n",
      "  File \"C:\\Users\\12108\\anaconda3\\envs\\BUAN_6341\\lib\\site-packages\\sklearn\\svm\\_classes.py\", line 233, in fit\n",
      "    self.coef_, self.intercept_, self.n_iter_ = _fit_liblinear(\n",
      "  File \"C:\\Users\\12108\\anaconda3\\envs\\BUAN_6341\\lib\\site-packages\\sklearn\\svm\\_base.py\", line 965, in _fit_liblinear\n",
      "    solver_type = _get_liblinear_solver_type(multi_class, penalty, loss, dual)\n",
      "  File \"C:\\Users\\12108\\anaconda3\\envs\\BUAN_6341\\lib\\site-packages\\sklearn\\svm\\_base.py\", line 821, in _get_liblinear_solver_type\n",
      "    raise ValueError('Unsupported set of arguments: %s, '\n",
      "ValueError: Unsupported set of arguments: The combination of penalty='l1' and loss='squared_hinge' are not supported when dual=True, Parameters: penalty='l1', loss='squared_hinge', dual=True\n",
      "\n",
      "  warnings.warn(\"Estimator fit failed. The score on this train-test\"\n",
      "C:\\Users\\12108\\anaconda3\\envs\\BUAN_6341\\lib\\site-packages\\sklearn\\model_selection\\_validation.py:548: FitFailedWarning: Estimator fit failed. The score on this train-test partition for these parameters will be set to nan. Details: \n",
      "Traceback (most recent call last):\n",
      "  File \"C:\\Users\\12108\\anaconda3\\envs\\BUAN_6341\\lib\\site-packages\\sklearn\\model_selection\\_validation.py\", line 531, in _fit_and_score\n",
      "    estimator.fit(X_train, y_train, **fit_params)\n",
      "  File \"C:\\Users\\12108\\anaconda3\\envs\\BUAN_6341\\lib\\site-packages\\sklearn\\svm\\_classes.py\", line 233, in fit\n",
      "    self.coef_, self.intercept_, self.n_iter_ = _fit_liblinear(\n",
      "  File \"C:\\Users\\12108\\anaconda3\\envs\\BUAN_6341\\lib\\site-packages\\sklearn\\svm\\_base.py\", line 965, in _fit_liblinear\n",
      "    solver_type = _get_liblinear_solver_type(multi_class, penalty, loss, dual)\n",
      "  File \"C:\\Users\\12108\\anaconda3\\envs\\BUAN_6341\\lib\\site-packages\\sklearn\\svm\\_base.py\", line 821, in _get_liblinear_solver_type\n",
      "    raise ValueError('Unsupported set of arguments: %s, '\n",
      "ValueError: Unsupported set of arguments: The combination of penalty='l1' and loss='squared_hinge' are not supported when dual=True, Parameters: penalty='l1', loss='squared_hinge', dual=True\n",
      "\n",
      "  warnings.warn(\"Estimator fit failed. The score on this train-test\"\n",
      "C:\\Users\\12108\\anaconda3\\envs\\BUAN_6341\\lib\\site-packages\\sklearn\\model_selection\\_validation.py:548: FitFailedWarning: Estimator fit failed. The score on this train-test partition for these parameters will be set to nan. Details: \n",
      "Traceback (most recent call last):\n",
      "  File \"C:\\Users\\12108\\anaconda3\\envs\\BUAN_6341\\lib\\site-packages\\sklearn\\model_selection\\_validation.py\", line 531, in _fit_and_score\n",
      "    estimator.fit(X_train, y_train, **fit_params)\n",
      "  File \"C:\\Users\\12108\\anaconda3\\envs\\BUAN_6341\\lib\\site-packages\\sklearn\\svm\\_classes.py\", line 233, in fit\n",
      "    self.coef_, self.intercept_, self.n_iter_ = _fit_liblinear(\n",
      "  File \"C:\\Users\\12108\\anaconda3\\envs\\BUAN_6341\\lib\\site-packages\\sklearn\\svm\\_base.py\", line 965, in _fit_liblinear\n",
      "    solver_type = _get_liblinear_solver_type(multi_class, penalty, loss, dual)\n",
      "  File \"C:\\Users\\12108\\anaconda3\\envs\\BUAN_6341\\lib\\site-packages\\sklearn\\svm\\_base.py\", line 821, in _get_liblinear_solver_type\n",
      "    raise ValueError('Unsupported set of arguments: %s, '\n",
      "ValueError: Unsupported set of arguments: The combination of penalty='l1' and loss='squared_hinge' are not supported when dual=True, Parameters: penalty='l1', loss='squared_hinge', dual=True\n",
      "\n",
      "  warnings.warn(\"Estimator fit failed. The score on this train-test\"\n",
      "C:\\Users\\12108\\anaconda3\\envs\\BUAN_6341\\lib\\site-packages\\sklearn\\svm\\_base.py:976: ConvergenceWarning: Liblinear failed to converge, increase the number of iterations.\n",
      "  warnings.warn(\"Liblinear failed to converge, increase \"\n",
      "C:\\Users\\12108\\anaconda3\\envs\\BUAN_6341\\lib\\site-packages\\sklearn\\svm\\_base.py:976: ConvergenceWarning: Liblinear failed to converge, increase the number of iterations.\n",
      "  warnings.warn(\"Liblinear failed to converge, increase \"\n",
      "C:\\Users\\12108\\anaconda3\\envs\\BUAN_6341\\lib\\site-packages\\sklearn\\svm\\_base.py:976: ConvergenceWarning: Liblinear failed to converge, increase the number of iterations.\n",
      "  warnings.warn(\"Liblinear failed to converge, increase \"\n",
      "C:\\Users\\12108\\anaconda3\\envs\\BUAN_6341\\lib\\site-packages\\sklearn\\svm\\_base.py:976: ConvergenceWarning: Liblinear failed to converge, increase the number of iterations.\n",
      "  warnings.warn(\"Liblinear failed to converge, increase \"\n",
      "C:\\Users\\12108\\anaconda3\\envs\\BUAN_6341\\lib\\site-packages\\sklearn\\svm\\_base.py:976: ConvergenceWarning: Liblinear failed to converge, increase the number of iterations.\n",
      "  warnings.warn(\"Liblinear failed to converge, increase \"\n",
      "C:\\Users\\12108\\anaconda3\\envs\\BUAN_6341\\lib\\site-packages\\sklearn\\model_selection\\_validation.py:548: FitFailedWarning: Estimator fit failed. The score on this train-test partition for these parameters will be set to nan. Details: \n",
      "Traceback (most recent call last):\n",
      "  File \"C:\\Users\\12108\\anaconda3\\envs\\BUAN_6341\\lib\\site-packages\\sklearn\\model_selection\\_validation.py\", line 531, in _fit_and_score\n",
      "    estimator.fit(X_train, y_train, **fit_params)\n",
      "  File \"C:\\Users\\12108\\anaconda3\\envs\\BUAN_6341\\lib\\site-packages\\sklearn\\svm\\_classes.py\", line 233, in fit\n",
      "    self.coef_, self.intercept_, self.n_iter_ = _fit_liblinear(\n",
      "  File \"C:\\Users\\12108\\anaconda3\\envs\\BUAN_6341\\lib\\site-packages\\sklearn\\svm\\_base.py\", line 965, in _fit_liblinear\n",
      "    solver_type = _get_liblinear_solver_type(multi_class, penalty, loss, dual)\n",
      "  File \"C:\\Users\\12108\\anaconda3\\envs\\BUAN_6341\\lib\\site-packages\\sklearn\\svm\\_base.py\", line 821, in _get_liblinear_solver_type\n",
      "    raise ValueError('Unsupported set of arguments: %s, '\n",
      "ValueError: Unsupported set of arguments: The combination of penalty='l1' and loss='squared_hinge' are not supported when dual=True, Parameters: penalty='l1', loss='squared_hinge', dual=True\n",
      "\n",
      "  warnings.warn(\"Estimator fit failed. The score on this train-test\"\n",
      "C:\\Users\\12108\\anaconda3\\envs\\BUAN_6341\\lib\\site-packages\\sklearn\\model_selection\\_validation.py:548: FitFailedWarning: Estimator fit failed. The score on this train-test partition for these parameters will be set to nan. Details: \n",
      "Traceback (most recent call last):\n",
      "  File \"C:\\Users\\12108\\anaconda3\\envs\\BUAN_6341\\lib\\site-packages\\sklearn\\model_selection\\_validation.py\", line 531, in _fit_and_score\n",
      "    estimator.fit(X_train, y_train, **fit_params)\n",
      "  File \"C:\\Users\\12108\\anaconda3\\envs\\BUAN_6341\\lib\\site-packages\\sklearn\\svm\\_classes.py\", line 233, in fit\n",
      "    self.coef_, self.intercept_, self.n_iter_ = _fit_liblinear(\n",
      "  File \"C:\\Users\\12108\\anaconda3\\envs\\BUAN_6341\\lib\\site-packages\\sklearn\\svm\\_base.py\", line 965, in _fit_liblinear\n",
      "    solver_type = _get_liblinear_solver_type(multi_class, penalty, loss, dual)\n",
      "  File \"C:\\Users\\12108\\anaconda3\\envs\\BUAN_6341\\lib\\site-packages\\sklearn\\svm\\_base.py\", line 821, in _get_liblinear_solver_type\n",
      "    raise ValueError('Unsupported set of arguments: %s, '\n",
      "ValueError: Unsupported set of arguments: The combination of penalty='l1' and loss='squared_hinge' are not supported when dual=True, Parameters: penalty='l1', loss='squared_hinge', dual=True\n",
      "\n",
      "  warnings.warn(\"Estimator fit failed. The score on this train-test\"\n",
      "C:\\Users\\12108\\anaconda3\\envs\\BUAN_6341\\lib\\site-packages\\sklearn\\model_selection\\_validation.py:548: FitFailedWarning: Estimator fit failed. The score on this train-test partition for these parameters will be set to nan. Details: \n",
      "Traceback (most recent call last):\n",
      "  File \"C:\\Users\\12108\\anaconda3\\envs\\BUAN_6341\\lib\\site-packages\\sklearn\\model_selection\\_validation.py\", line 531, in _fit_and_score\n",
      "    estimator.fit(X_train, y_train, **fit_params)\n",
      "  File \"C:\\Users\\12108\\anaconda3\\envs\\BUAN_6341\\lib\\site-packages\\sklearn\\svm\\_classes.py\", line 233, in fit\n",
      "    self.coef_, self.intercept_, self.n_iter_ = _fit_liblinear(\n",
      "  File \"C:\\Users\\12108\\anaconda3\\envs\\BUAN_6341\\lib\\site-packages\\sklearn\\svm\\_base.py\", line 965, in _fit_liblinear\n",
      "    solver_type = _get_liblinear_solver_type(multi_class, penalty, loss, dual)\n",
      "  File \"C:\\Users\\12108\\anaconda3\\envs\\BUAN_6341\\lib\\site-packages\\sklearn\\svm\\_base.py\", line 821, in _get_liblinear_solver_type\n",
      "    raise ValueError('Unsupported set of arguments: %s, '\n",
      "ValueError: Unsupported set of arguments: The combination of penalty='l1' and loss='squared_hinge' are not supported when dual=True, Parameters: penalty='l1', loss='squared_hinge', dual=True\n",
      "\n",
      "  warnings.warn(\"Estimator fit failed. The score on this train-test\"\n"
     ]
    },
    {
     "name": "stdout",
     "output_type": "stream",
     "text": [
      "\n",
      "[CV] ........ C=1, max_iter=1000, penalty=l1, score=nan, total=   0.0s\n",
      "[CV] C=1, max_iter=1000, penalty=l1 ..................................\n",
      "[CV] ........ C=1, max_iter=1000, penalty=l1, score=nan, total=   0.0s\n",
      "[CV] C=1, max_iter=1000, penalty=l1 ..................................\n",
      "[CV] ........ C=1, max_iter=1000, penalty=l1, score=nan, total=   0.0s\n",
      "[CV] C=1, max_iter=1000, penalty=l1 ..................................\n",
      "[CV] ........ C=1, max_iter=1000, penalty=l1, score=nan, total=   0.0s\n",
      "[CV] C=1, max_iter=1000, penalty=l2 ..................................\n"
     ]
    },
    {
     "name": "stderr",
     "output_type": "stream",
     "text": [
      "C:\\Users\\12108\\anaconda3\\envs\\BUAN_6341\\lib\\site-packages\\sklearn\\model_selection\\_validation.py:548: FitFailedWarning: Estimator fit failed. The score on this train-test partition for these parameters will be set to nan. Details: \n",
      "Traceback (most recent call last):\n",
      "  File \"C:\\Users\\12108\\anaconda3\\envs\\BUAN_6341\\lib\\site-packages\\sklearn\\model_selection\\_validation.py\", line 531, in _fit_and_score\n",
      "    estimator.fit(X_train, y_train, **fit_params)\n",
      "  File \"C:\\Users\\12108\\anaconda3\\envs\\BUAN_6341\\lib\\site-packages\\sklearn\\svm\\_classes.py\", line 233, in fit\n",
      "    self.coef_, self.intercept_, self.n_iter_ = _fit_liblinear(\n",
      "  File \"C:\\Users\\12108\\anaconda3\\envs\\BUAN_6341\\lib\\site-packages\\sklearn\\svm\\_base.py\", line 965, in _fit_liblinear\n",
      "    solver_type = _get_liblinear_solver_type(multi_class, penalty, loss, dual)\n",
      "  File \"C:\\Users\\12108\\anaconda3\\envs\\BUAN_6341\\lib\\site-packages\\sklearn\\svm\\_base.py\", line 821, in _get_liblinear_solver_type\n",
      "    raise ValueError('Unsupported set of arguments: %s, '\n",
      "ValueError: Unsupported set of arguments: The combination of penalty='l1' and loss='squared_hinge' are not supported when dual=True, Parameters: penalty='l1', loss='squared_hinge', dual=True\n",
      "\n",
      "  warnings.warn(\"Estimator fit failed. The score on this train-test\"\n",
      "C:\\Users\\12108\\anaconda3\\envs\\BUAN_6341\\lib\\site-packages\\sklearn\\model_selection\\_validation.py:548: FitFailedWarning: Estimator fit failed. The score on this train-test partition for these parameters will be set to nan. Details: \n",
      "Traceback (most recent call last):\n",
      "  File \"C:\\Users\\12108\\anaconda3\\envs\\BUAN_6341\\lib\\site-packages\\sklearn\\model_selection\\_validation.py\", line 531, in _fit_and_score\n",
      "    estimator.fit(X_train, y_train, **fit_params)\n",
      "  File \"C:\\Users\\12108\\anaconda3\\envs\\BUAN_6341\\lib\\site-packages\\sklearn\\svm\\_classes.py\", line 233, in fit\n",
      "    self.coef_, self.intercept_, self.n_iter_ = _fit_liblinear(\n",
      "  File \"C:\\Users\\12108\\anaconda3\\envs\\BUAN_6341\\lib\\site-packages\\sklearn\\svm\\_base.py\", line 965, in _fit_liblinear\n",
      "    solver_type = _get_liblinear_solver_type(multi_class, penalty, loss, dual)\n",
      "  File \"C:\\Users\\12108\\anaconda3\\envs\\BUAN_6341\\lib\\site-packages\\sklearn\\svm\\_base.py\", line 821, in _get_liblinear_solver_type\n",
      "    raise ValueError('Unsupported set of arguments: %s, '\n",
      "ValueError: Unsupported set of arguments: The combination of penalty='l1' and loss='squared_hinge' are not supported when dual=True, Parameters: penalty='l1', loss='squared_hinge', dual=True\n",
      "\n",
      "  warnings.warn(\"Estimator fit failed. The score on this train-test\"\n"
     ]
    },
    {
     "name": "stdout",
     "output_type": "stream",
     "text": [
      "[CV] ...... C=1, max_iter=1000, penalty=l2, score=0.692, total=   0.3s\n",
      "[CV] C=1, max_iter=1000, penalty=l2 ..................................\n",
      "[CV] ...... C=1, max_iter=1000, penalty=l2, score=0.683, total=   0.3s\n",
      "[CV] C=1, max_iter=1000, penalty=l2 ..................................\n",
      "[CV] ...... C=1, max_iter=1000, penalty=l2, score=0.679, total=   0.5s\n",
      "[CV] C=1, max_iter=1000, penalty=l2 ..................................\n",
      "[CV] ...... C=1, max_iter=1000, penalty=l2, score=0.686, total=   0.4s\n",
      "[CV] C=1, max_iter=1000, penalty=l2 ..................................\n",
      "[CV] ...... C=1, max_iter=1000, penalty=l2, score=0.682, total=   0.4s\n",
      "[CV] C=1, max_iter=100, penalty=l1 ...................................\n",
      "[CV] ......... C=1, max_iter=100, penalty=l1, score=nan, total=   0.0s\n",
      "[CV] C=1, max_iter=100, penalty=l1 ...................................\n",
      "[CV] ......... C=1, max_iter=100, penalty=l1, score=nan, total=   0.0s\n",
      "[CV] C=1, max_iter=100, penalty=l1 ...................................\n",
      "[CV] ......... C=1, max_iter=100, penalty=l1, score=nan, total=   0.0s\n",
      "[CV] C=1, max_iter=100, penalty=l1 ...................................\n",
      "[CV] ......... C=1, max_iter=100, penalty=l1, score=nan, total=   0.0s\n",
      "[CV] C=1, max_iter=100, penalty=l1 ...................................\n",
      "[CV] ......... C=1, max_iter=100, penalty=l1, score=nan, total=   0.0s\n",
      "[CV] C=1, max_iter=100, penalty=l2 ...................................\n",
      "[CV] ....... C=1, max_iter=100, penalty=l2, score=0.690, total=   0.1s\n",
      "[CV] C=1, max_iter=100, penalty=l2 ...................................\n",
      "[CV] ....... C=1, max_iter=100, penalty=l2, score=0.682, total=   0.1s\n",
      "[CV] C=1, max_iter=100, penalty=l2 ...................................\n"
     ]
    },
    {
     "name": "stderr",
     "output_type": "stream",
     "text": [
      "C:\\Users\\12108\\anaconda3\\envs\\BUAN_6341\\lib\\site-packages\\sklearn\\model_selection\\_validation.py:548: FitFailedWarning: Estimator fit failed. The score on this train-test partition for these parameters will be set to nan. Details: \n",
      "Traceback (most recent call last):\n",
      "  File \"C:\\Users\\12108\\anaconda3\\envs\\BUAN_6341\\lib\\site-packages\\sklearn\\model_selection\\_validation.py\", line 531, in _fit_and_score\n",
      "    estimator.fit(X_train, y_train, **fit_params)\n",
      "  File \"C:\\Users\\12108\\anaconda3\\envs\\BUAN_6341\\lib\\site-packages\\sklearn\\svm\\_classes.py\", line 233, in fit\n",
      "    self.coef_, self.intercept_, self.n_iter_ = _fit_liblinear(\n",
      "  File \"C:\\Users\\12108\\anaconda3\\envs\\BUAN_6341\\lib\\site-packages\\sklearn\\svm\\_base.py\", line 965, in _fit_liblinear\n",
      "    solver_type = _get_liblinear_solver_type(multi_class, penalty, loss, dual)\n",
      "  File \"C:\\Users\\12108\\anaconda3\\envs\\BUAN_6341\\lib\\site-packages\\sklearn\\svm\\_base.py\", line 821, in _get_liblinear_solver_type\n",
      "    raise ValueError('Unsupported set of arguments: %s, '\n",
      "ValueError: Unsupported set of arguments: The combination of penalty='l1' and loss='squared_hinge' are not supported when dual=True, Parameters: penalty='l1', loss='squared_hinge', dual=True\n",
      "\n",
      "  warnings.warn(\"Estimator fit failed. The score on this train-test\"\n",
      "C:\\Users\\12108\\anaconda3\\envs\\BUAN_6341\\lib\\site-packages\\sklearn\\model_selection\\_validation.py:548: FitFailedWarning: Estimator fit failed. The score on this train-test partition for these parameters will be set to nan. Details: \n",
      "Traceback (most recent call last):\n",
      "  File \"C:\\Users\\12108\\anaconda3\\envs\\BUAN_6341\\lib\\site-packages\\sklearn\\model_selection\\_validation.py\", line 531, in _fit_and_score\n",
      "    estimator.fit(X_train, y_train, **fit_params)\n",
      "  File \"C:\\Users\\12108\\anaconda3\\envs\\BUAN_6341\\lib\\site-packages\\sklearn\\svm\\_classes.py\", line 233, in fit\n",
      "    self.coef_, self.intercept_, self.n_iter_ = _fit_liblinear(\n",
      "  File \"C:\\Users\\12108\\anaconda3\\envs\\BUAN_6341\\lib\\site-packages\\sklearn\\svm\\_base.py\", line 965, in _fit_liblinear\n",
      "    solver_type = _get_liblinear_solver_type(multi_class, penalty, loss, dual)\n",
      "  File \"C:\\Users\\12108\\anaconda3\\envs\\BUAN_6341\\lib\\site-packages\\sklearn\\svm\\_base.py\", line 821, in _get_liblinear_solver_type\n",
      "    raise ValueError('Unsupported set of arguments: %s, '\n",
      "ValueError: Unsupported set of arguments: The combination of penalty='l1' and loss='squared_hinge' are not supported when dual=True, Parameters: penalty='l1', loss='squared_hinge', dual=True\n",
      "\n",
      "  warnings.warn(\"Estimator fit failed. The score on this train-test\"\n",
      "C:\\Users\\12108\\anaconda3\\envs\\BUAN_6341\\lib\\site-packages\\sklearn\\model_selection\\_validation.py:548: FitFailedWarning: Estimator fit failed. The score on this train-test partition for these parameters will be set to nan. Details: \n",
      "Traceback (most recent call last):\n",
      "  File \"C:\\Users\\12108\\anaconda3\\envs\\BUAN_6341\\lib\\site-packages\\sklearn\\model_selection\\_validation.py\", line 531, in _fit_and_score\n",
      "    estimator.fit(X_train, y_train, **fit_params)\n",
      "  File \"C:\\Users\\12108\\anaconda3\\envs\\BUAN_6341\\lib\\site-packages\\sklearn\\svm\\_classes.py\", line 233, in fit\n",
      "    self.coef_, self.intercept_, self.n_iter_ = _fit_liblinear(\n",
      "  File \"C:\\Users\\12108\\anaconda3\\envs\\BUAN_6341\\lib\\site-packages\\sklearn\\svm\\_base.py\", line 965, in _fit_liblinear\n",
      "    solver_type = _get_liblinear_solver_type(multi_class, penalty, loss, dual)\n",
      "  File \"C:\\Users\\12108\\anaconda3\\envs\\BUAN_6341\\lib\\site-packages\\sklearn\\svm\\_base.py\", line 821, in _get_liblinear_solver_type\n",
      "    raise ValueError('Unsupported set of arguments: %s, '\n",
      "ValueError: Unsupported set of arguments: The combination of penalty='l1' and loss='squared_hinge' are not supported when dual=True, Parameters: penalty='l1', loss='squared_hinge', dual=True\n",
      "\n",
      "  warnings.warn(\"Estimator fit failed. The score on this train-test\"\n",
      "C:\\Users\\12108\\anaconda3\\envs\\BUAN_6341\\lib\\site-packages\\sklearn\\model_selection\\_validation.py:548: FitFailedWarning: Estimator fit failed. The score on this train-test partition for these parameters will be set to nan. Details: \n",
      "Traceback (most recent call last):\n",
      "  File \"C:\\Users\\12108\\anaconda3\\envs\\BUAN_6341\\lib\\site-packages\\sklearn\\model_selection\\_validation.py\", line 531, in _fit_and_score\n",
      "    estimator.fit(X_train, y_train, **fit_params)\n",
      "  File \"C:\\Users\\12108\\anaconda3\\envs\\BUAN_6341\\lib\\site-packages\\sklearn\\svm\\_classes.py\", line 233, in fit\n",
      "    self.coef_, self.intercept_, self.n_iter_ = _fit_liblinear(\n",
      "  File \"C:\\Users\\12108\\anaconda3\\envs\\BUAN_6341\\lib\\site-packages\\sklearn\\svm\\_base.py\", line 965, in _fit_liblinear\n",
      "    solver_type = _get_liblinear_solver_type(multi_class, penalty, loss, dual)\n",
      "  File \"C:\\Users\\12108\\anaconda3\\envs\\BUAN_6341\\lib\\site-packages\\sklearn\\svm\\_base.py\", line 821, in _get_liblinear_solver_type\n",
      "    raise ValueError('Unsupported set of arguments: %s, '\n",
      "ValueError: Unsupported set of arguments: The combination of penalty='l1' and loss='squared_hinge' are not supported when dual=True, Parameters: penalty='l1', loss='squared_hinge', dual=True\n",
      "\n",
      "  warnings.warn(\"Estimator fit failed. The score on this train-test\"\n",
      "C:\\Users\\12108\\anaconda3\\envs\\BUAN_6341\\lib\\site-packages\\sklearn\\model_selection\\_validation.py:548: FitFailedWarning: Estimator fit failed. The score on this train-test partition for these parameters will be set to nan. Details: \n",
      "Traceback (most recent call last):\n",
      "  File \"C:\\Users\\12108\\anaconda3\\envs\\BUAN_6341\\lib\\site-packages\\sklearn\\model_selection\\_validation.py\", line 531, in _fit_and_score\n",
      "    estimator.fit(X_train, y_train, **fit_params)\n",
      "  File \"C:\\Users\\12108\\anaconda3\\envs\\BUAN_6341\\lib\\site-packages\\sklearn\\svm\\_classes.py\", line 233, in fit\n",
      "    self.coef_, self.intercept_, self.n_iter_ = _fit_liblinear(\n",
      "  File \"C:\\Users\\12108\\anaconda3\\envs\\BUAN_6341\\lib\\site-packages\\sklearn\\svm\\_base.py\", line 965, in _fit_liblinear\n",
      "    solver_type = _get_liblinear_solver_type(multi_class, penalty, loss, dual)\n",
      "  File \"C:\\Users\\12108\\anaconda3\\envs\\BUAN_6341\\lib\\site-packages\\sklearn\\svm\\_base.py\", line 821, in _get_liblinear_solver_type\n",
      "    raise ValueError('Unsupported set of arguments: %s, '\n",
      "ValueError: Unsupported set of arguments: The combination of penalty='l1' and loss='squared_hinge' are not supported when dual=True, Parameters: penalty='l1', loss='squared_hinge', dual=True\n",
      "\n",
      "  warnings.warn(\"Estimator fit failed. The score on this train-test\"\n",
      "C:\\Users\\12108\\anaconda3\\envs\\BUAN_6341\\lib\\site-packages\\sklearn\\svm\\_base.py:976: ConvergenceWarning: Liblinear failed to converge, increase the number of iterations.\n",
      "  warnings.warn(\"Liblinear failed to converge, increase \"\n",
      "C:\\Users\\12108\\anaconda3\\envs\\BUAN_6341\\lib\\site-packages\\sklearn\\svm\\_base.py:976: ConvergenceWarning: Liblinear failed to converge, increase the number of iterations.\n",
      "  warnings.warn(\"Liblinear failed to converge, increase \"\n",
      "C:\\Users\\12108\\anaconda3\\envs\\BUAN_6341\\lib\\site-packages\\sklearn\\svm\\_base.py:976: ConvergenceWarning: Liblinear failed to converge, increase the number of iterations.\n",
      "  warnings.warn(\"Liblinear failed to converge, increase \"\n",
      "C:\\Users\\12108\\anaconda3\\envs\\BUAN_6341\\lib\\site-packages\\sklearn\\svm\\_base.py:976: ConvergenceWarning: Liblinear failed to converge, increase the number of iterations.\n",
      "  warnings.warn(\"Liblinear failed to converge, increase \"\n",
      "C:\\Users\\12108\\anaconda3\\envs\\BUAN_6341\\lib\\site-packages\\sklearn\\svm\\_base.py:976: ConvergenceWarning: Liblinear failed to converge, increase the number of iterations.\n",
      "  warnings.warn(\"Liblinear failed to converge, increase \"\n",
      "C:\\Users\\12108\\anaconda3\\envs\\BUAN_6341\\lib\\site-packages\\sklearn\\model_selection\\_validation.py:548: FitFailedWarning: Estimator fit failed. The score on this train-test partition for these parameters will be set to nan. Details: \n",
      "Traceback (most recent call last):\n",
      "  File \"C:\\Users\\12108\\anaconda3\\envs\\BUAN_6341\\lib\\site-packages\\sklearn\\model_selection\\_validation.py\", line 531, in _fit_and_score\n",
      "    estimator.fit(X_train, y_train, **fit_params)\n",
      "  File \"C:\\Users\\12108\\anaconda3\\envs\\BUAN_6341\\lib\\site-packages\\sklearn\\svm\\_classes.py\", line 233, in fit\n",
      "    self.coef_, self.intercept_, self.n_iter_ = _fit_liblinear(\n",
      "  File \"C:\\Users\\12108\\anaconda3\\envs\\BUAN_6341\\lib\\site-packages\\sklearn\\svm\\_base.py\", line 965, in _fit_liblinear\n",
      "    solver_type = _get_liblinear_solver_type(multi_class, penalty, loss, dual)\n",
      "  File \"C:\\Users\\12108\\anaconda3\\envs\\BUAN_6341\\lib\\site-packages\\sklearn\\svm\\_base.py\", line 821, in _get_liblinear_solver_type\n",
      "    raise ValueError('Unsupported set of arguments: %s, '\n",
      "ValueError: Unsupported set of arguments: The combination of penalty='l1' and loss='squared_hinge' are not supported when dual=True, Parameters: penalty='l1', loss='squared_hinge', dual=True\n",
      "\n",
      "  warnings.warn(\"Estimator fit failed. The score on this train-test\"\n",
      "C:\\Users\\12108\\anaconda3\\envs\\BUAN_6341\\lib\\site-packages\\sklearn\\model_selection\\_validation.py:548: FitFailedWarning: Estimator fit failed. The score on this train-test partition for these parameters will be set to nan. Details: \n",
      "Traceback (most recent call last):\n",
      "  File \"C:\\Users\\12108\\anaconda3\\envs\\BUAN_6341\\lib\\site-packages\\sklearn\\model_selection\\_validation.py\", line 531, in _fit_and_score\n",
      "    estimator.fit(X_train, y_train, **fit_params)\n",
      "  File \"C:\\Users\\12108\\anaconda3\\envs\\BUAN_6341\\lib\\site-packages\\sklearn\\svm\\_classes.py\", line 233, in fit\n",
      "    self.coef_, self.intercept_, self.n_iter_ = _fit_liblinear(\n",
      "  File \"C:\\Users\\12108\\anaconda3\\envs\\BUAN_6341\\lib\\site-packages\\sklearn\\svm\\_base.py\", line 965, in _fit_liblinear\n",
      "    solver_type = _get_liblinear_solver_type(multi_class, penalty, loss, dual)\n",
      "  File \"C:\\Users\\12108\\anaconda3\\envs\\BUAN_6341\\lib\\site-packages\\sklearn\\svm\\_base.py\", line 821, in _get_liblinear_solver_type\n",
      "    raise ValueError('Unsupported set of arguments: %s, '\n",
      "ValueError: Unsupported set of arguments: The combination of penalty='l1' and loss='squared_hinge' are not supported when dual=True, Parameters: penalty='l1', loss='squared_hinge', dual=True\n",
      "\n",
      "  warnings.warn(\"Estimator fit failed. The score on this train-test\"\n",
      "C:\\Users\\12108\\anaconda3\\envs\\BUAN_6341\\lib\\site-packages\\sklearn\\model_selection\\_validation.py:548: FitFailedWarning: Estimator fit failed. The score on this train-test partition for these parameters will be set to nan. Details: \n",
      "Traceback (most recent call last):\n",
      "  File \"C:\\Users\\12108\\anaconda3\\envs\\BUAN_6341\\lib\\site-packages\\sklearn\\model_selection\\_validation.py\", line 531, in _fit_and_score\n",
      "    estimator.fit(X_train, y_train, **fit_params)\n",
      "  File \"C:\\Users\\12108\\anaconda3\\envs\\BUAN_6341\\lib\\site-packages\\sklearn\\svm\\_classes.py\", line 233, in fit\n",
      "    self.coef_, self.intercept_, self.n_iter_ = _fit_liblinear(\n",
      "  File \"C:\\Users\\12108\\anaconda3\\envs\\BUAN_6341\\lib\\site-packages\\sklearn\\svm\\_base.py\", line 965, in _fit_liblinear\n",
      "    solver_type = _get_liblinear_solver_type(multi_class, penalty, loss, dual)\n",
      "  File \"C:\\Users\\12108\\anaconda3\\envs\\BUAN_6341\\lib\\site-packages\\sklearn\\svm\\_base.py\", line 821, in _get_liblinear_solver_type\n",
      "    raise ValueError('Unsupported set of arguments: %s, '\n",
      "ValueError: Unsupported set of arguments: The combination of penalty='l1' and loss='squared_hinge' are not supported when dual=True, Parameters: penalty='l1', loss='squared_hinge', dual=True\n",
      "\n",
      "  warnings.warn(\"Estimator fit failed. The score on this train-test\"\n",
      "C:\\Users\\12108\\anaconda3\\envs\\BUAN_6341\\lib\\site-packages\\sklearn\\model_selection\\_validation.py:548: FitFailedWarning: Estimator fit failed. The score on this train-test partition for these parameters will be set to nan. Details: \n",
      "Traceback (most recent call last):\n",
      "  File \"C:\\Users\\12108\\anaconda3\\envs\\BUAN_6341\\lib\\site-packages\\sklearn\\model_selection\\_validation.py\", line 531, in _fit_and_score\n",
      "    estimator.fit(X_train, y_train, **fit_params)\n",
      "  File \"C:\\Users\\12108\\anaconda3\\envs\\BUAN_6341\\lib\\site-packages\\sklearn\\svm\\_classes.py\", line 233, in fit\n",
      "    self.coef_, self.intercept_, self.n_iter_ = _fit_liblinear(\n",
      "  File \"C:\\Users\\12108\\anaconda3\\envs\\BUAN_6341\\lib\\site-packages\\sklearn\\svm\\_base.py\", line 965, in _fit_liblinear\n",
      "    solver_type = _get_liblinear_solver_type(multi_class, penalty, loss, dual)\n",
      "  File \"C:\\Users\\12108\\anaconda3\\envs\\BUAN_6341\\lib\\site-packages\\sklearn\\svm\\_base.py\", line 821, in _get_liblinear_solver_type\n",
      "    raise ValueError('Unsupported set of arguments: %s, '\n",
      "ValueError: Unsupported set of arguments: The combination of penalty='l1' and loss='squared_hinge' are not supported when dual=True, Parameters: penalty='l1', loss='squared_hinge', dual=True\n",
      "\n",
      "  warnings.warn(\"Estimator fit failed. The score on this train-test\"\n"
     ]
    },
    {
     "name": "stdout",
     "output_type": "stream",
     "text": [
      "[CV] ....... C=1, max_iter=100, penalty=l2, score=0.671, total=   0.1s\n",
      "[CV] C=1, max_iter=100, penalty=l2 ...................................\n",
      "[CV] ....... C=1, max_iter=100, penalty=l2, score=0.689, total=   0.1s\n",
      "[CV] C=1, max_iter=100, penalty=l2 ...................................\n",
      "[CV] ....... C=1, max_iter=100, penalty=l2, score=0.677, total=   0.1s\n",
      "[CV] C=1, max_iter=10, penalty=l1 ....................................\n",
      "[CV] .......... C=1, max_iter=10, penalty=l1, score=nan, total=   0.0s\n",
      "[CV] C=1, max_iter=10, penalty=l1 ....................................\n",
      "[CV] .......... C=1, max_iter=10, penalty=l1, score=nan, total=   0.0s\n",
      "[CV] C=1, max_iter=10, penalty=l1 ....................................\n",
      "[CV] .......... C=1, max_iter=10, penalty=l1, score=nan, total=   0.0s\n",
      "[CV] C=1, max_iter=10, penalty=l1 ....................................\n",
      "[CV] .......... C=1, max_iter=10, penalty=l1, score=nan, total=   0.0s\n",
      "[CV] C=1, max_iter=10, penalty=l1 ....................................\n"
     ]
    },
    {
     "name": "stderr",
     "output_type": "stream",
     "text": [
      "C:\\Users\\12108\\anaconda3\\envs\\BUAN_6341\\lib\\site-packages\\sklearn\\model_selection\\_validation.py:548: FitFailedWarning: Estimator fit failed. The score on this train-test partition for these parameters will be set to nan. Details: \n",
      "Traceback (most recent call last):\n",
      "  File \"C:\\Users\\12108\\anaconda3\\envs\\BUAN_6341\\lib\\site-packages\\sklearn\\model_selection\\_validation.py\", line 531, in _fit_and_score\n",
      "    estimator.fit(X_train, y_train, **fit_params)\n",
      "  File \"C:\\Users\\12108\\anaconda3\\envs\\BUAN_6341\\lib\\site-packages\\sklearn\\svm\\_classes.py\", line 233, in fit\n",
      "    self.coef_, self.intercept_, self.n_iter_ = _fit_liblinear(\n",
      "  File \"C:\\Users\\12108\\anaconda3\\envs\\BUAN_6341\\lib\\site-packages\\sklearn\\svm\\_base.py\", line 965, in _fit_liblinear\n",
      "    solver_type = _get_liblinear_solver_type(multi_class, penalty, loss, dual)\n",
      "  File \"C:\\Users\\12108\\anaconda3\\envs\\BUAN_6341\\lib\\site-packages\\sklearn\\svm\\_base.py\", line 821, in _get_liblinear_solver_type\n",
      "    raise ValueError('Unsupported set of arguments: %s, '\n",
      "ValueError: Unsupported set of arguments: The combination of penalty='l1' and loss='squared_hinge' are not supported when dual=True, Parameters: penalty='l1', loss='squared_hinge', dual=True\n",
      "\n",
      "  warnings.warn(\"Estimator fit failed. The score on this train-test\"\n",
      "C:\\Users\\12108\\anaconda3\\envs\\BUAN_6341\\lib\\site-packages\\sklearn\\svm\\_base.py:976: ConvergenceWarning: Liblinear failed to converge, increase the number of iterations.\n",
      "  warnings.warn(\"Liblinear failed to converge, increase \"\n",
      "C:\\Users\\12108\\anaconda3\\envs\\BUAN_6341\\lib\\site-packages\\sklearn\\svm\\_base.py:976: ConvergenceWarning: Liblinear failed to converge, increase the number of iterations.\n",
      "  warnings.warn(\"Liblinear failed to converge, increase \"\n",
      "C:\\Users\\12108\\anaconda3\\envs\\BUAN_6341\\lib\\site-packages\\sklearn\\svm\\_base.py:976: ConvergenceWarning: Liblinear failed to converge, increase the number of iterations.\n",
      "  warnings.warn(\"Liblinear failed to converge, increase \"\n",
      "C:\\Users\\12108\\anaconda3\\envs\\BUAN_6341\\lib\\site-packages\\sklearn\\svm\\_base.py:976: ConvergenceWarning: Liblinear failed to converge, increase the number of iterations.\n",
      "  warnings.warn(\"Liblinear failed to converge, increase \"\n",
      "C:\\Users\\12108\\anaconda3\\envs\\BUAN_6341\\lib\\site-packages\\sklearn\\svm\\_base.py:976: ConvergenceWarning: Liblinear failed to converge, increase the number of iterations.\n",
      "  warnings.warn(\"Liblinear failed to converge, increase \"\n",
      "C:\\Users\\12108\\anaconda3\\envs\\BUAN_6341\\lib\\site-packages\\sklearn\\model_selection\\_validation.py:548: FitFailedWarning: Estimator fit failed. The score on this train-test partition for these parameters will be set to nan. Details: \n",
      "Traceback (most recent call last):\n",
      "  File \"C:\\Users\\12108\\anaconda3\\envs\\BUAN_6341\\lib\\site-packages\\sklearn\\model_selection\\_validation.py\", line 531, in _fit_and_score\n",
      "    estimator.fit(X_train, y_train, **fit_params)\n",
      "  File \"C:\\Users\\12108\\anaconda3\\envs\\BUAN_6341\\lib\\site-packages\\sklearn\\svm\\_classes.py\", line 233, in fit\n",
      "    self.coef_, self.intercept_, self.n_iter_ = _fit_liblinear(\n",
      "  File \"C:\\Users\\12108\\anaconda3\\envs\\BUAN_6341\\lib\\site-packages\\sklearn\\svm\\_base.py\", line 965, in _fit_liblinear\n",
      "    solver_type = _get_liblinear_solver_type(multi_class, penalty, loss, dual)\n",
      "  File \"C:\\Users\\12108\\anaconda3\\envs\\BUAN_6341\\lib\\site-packages\\sklearn\\svm\\_base.py\", line 821, in _get_liblinear_solver_type\n",
      "    raise ValueError('Unsupported set of arguments: %s, '\n",
      "ValueError: Unsupported set of arguments: The combination of penalty='l1' and loss='squared_hinge' are not supported when dual=True, Parameters: penalty='l1', loss='squared_hinge', dual=True\n",
      "\n",
      "  warnings.warn(\"Estimator fit failed. The score on this train-test\"\n",
      "C:\\Users\\12108\\anaconda3\\envs\\BUAN_6341\\lib\\site-packages\\sklearn\\model_selection\\_validation.py:548: FitFailedWarning: Estimator fit failed. The score on this train-test partition for these parameters will be set to nan. Details: \n",
      "Traceback (most recent call last):\n",
      "  File \"C:\\Users\\12108\\anaconda3\\envs\\BUAN_6341\\lib\\site-packages\\sklearn\\model_selection\\_validation.py\", line 531, in _fit_and_score\n",
      "    estimator.fit(X_train, y_train, **fit_params)\n",
      "  File \"C:\\Users\\12108\\anaconda3\\envs\\BUAN_6341\\lib\\site-packages\\sklearn\\svm\\_classes.py\", line 233, in fit\n",
      "    self.coef_, self.intercept_, self.n_iter_ = _fit_liblinear(\n",
      "  File \"C:\\Users\\12108\\anaconda3\\envs\\BUAN_6341\\lib\\site-packages\\sklearn\\svm\\_base.py\", line 965, in _fit_liblinear\n",
      "    solver_type = _get_liblinear_solver_type(multi_class, penalty, loss, dual)\n",
      "  File \"C:\\Users\\12108\\anaconda3\\envs\\BUAN_6341\\lib\\site-packages\\sklearn\\svm\\_base.py\", line 821, in _get_liblinear_solver_type\n",
      "    raise ValueError('Unsupported set of arguments: %s, '\n",
      "ValueError: Unsupported set of arguments: The combination of penalty='l1' and loss='squared_hinge' are not supported when dual=True, Parameters: penalty='l1', loss='squared_hinge', dual=True\n",
      "\n",
      "  warnings.warn(\"Estimator fit failed. The score on this train-test\"\n",
      "C:\\Users\\12108\\anaconda3\\envs\\BUAN_6341\\lib\\site-packages\\sklearn\\model_selection\\_validation.py:548: FitFailedWarning: Estimator fit failed. The score on this train-test partition for these parameters will be set to nan. Details: \n",
      "Traceback (most recent call last):\n",
      "  File \"C:\\Users\\12108\\anaconda3\\envs\\BUAN_6341\\lib\\site-packages\\sklearn\\model_selection\\_validation.py\", line 531, in _fit_and_score\n",
      "    estimator.fit(X_train, y_train, **fit_params)\n",
      "  File \"C:\\Users\\12108\\anaconda3\\envs\\BUAN_6341\\lib\\site-packages\\sklearn\\svm\\_classes.py\", line 233, in fit\n",
      "    self.coef_, self.intercept_, self.n_iter_ = _fit_liblinear(\n",
      "  File \"C:\\Users\\12108\\anaconda3\\envs\\BUAN_6341\\lib\\site-packages\\sklearn\\svm\\_base.py\", line 965, in _fit_liblinear\n",
      "    solver_type = _get_liblinear_solver_type(multi_class, penalty, loss, dual)\n",
      "  File \"C:\\Users\\12108\\anaconda3\\envs\\BUAN_6341\\lib\\site-packages\\sklearn\\svm\\_base.py\", line 821, in _get_liblinear_solver_type\n",
      "    raise ValueError('Unsupported set of arguments: %s, '\n",
      "ValueError: Unsupported set of arguments: The combination of penalty='l1' and loss='squared_hinge' are not supported when dual=True, Parameters: penalty='l1', loss='squared_hinge', dual=True\n",
      "\n",
      "  warnings.warn(\"Estimator fit failed. The score on this train-test\"\n",
      "C:\\Users\\12108\\anaconda3\\envs\\BUAN_6341\\lib\\site-packages\\sklearn\\model_selection\\_validation.py:548: FitFailedWarning: Estimator fit failed. The score on this train-test partition for these parameters will be set to nan. Details: \n",
      "Traceback (most recent call last):\n",
      "  File \"C:\\Users\\12108\\anaconda3\\envs\\BUAN_6341\\lib\\site-packages\\sklearn\\model_selection\\_validation.py\", line 531, in _fit_and_score\n",
      "    estimator.fit(X_train, y_train, **fit_params)\n",
      "  File \"C:\\Users\\12108\\anaconda3\\envs\\BUAN_6341\\lib\\site-packages\\sklearn\\svm\\_classes.py\", line 233, in fit\n",
      "    self.coef_, self.intercept_, self.n_iter_ = _fit_liblinear(\n",
      "  File \"C:\\Users\\12108\\anaconda3\\envs\\BUAN_6341\\lib\\site-packages\\sklearn\\svm\\_base.py\", line 965, in _fit_liblinear\n",
      "    solver_type = _get_liblinear_solver_type(multi_class, penalty, loss, dual)\n",
      "  File \"C:\\Users\\12108\\anaconda3\\envs\\BUAN_6341\\lib\\site-packages\\sklearn\\svm\\_base.py\", line 821, in _get_liblinear_solver_type\n",
      "    raise ValueError('Unsupported set of arguments: %s, '\n",
      "ValueError: Unsupported set of arguments: The combination of penalty='l1' and loss='squared_hinge' are not supported when dual=True, Parameters: penalty='l1', loss='squared_hinge', dual=True\n",
      "\n",
      "  warnings.warn(\"Estimator fit failed. The score on this train-test\"\n",
      "C:\\Users\\12108\\anaconda3\\envs\\BUAN_6341\\lib\\site-packages\\sklearn\\model_selection\\_validation.py:548: FitFailedWarning: Estimator fit failed. The score on this train-test partition for these parameters will be set to nan. Details: \n",
      "Traceback (most recent call last):\n",
      "  File \"C:\\Users\\12108\\anaconda3\\envs\\BUAN_6341\\lib\\site-packages\\sklearn\\model_selection\\_validation.py\", line 531, in _fit_and_score\n",
      "    estimator.fit(X_train, y_train, **fit_params)\n",
      "  File \"C:\\Users\\12108\\anaconda3\\envs\\BUAN_6341\\lib\\site-packages\\sklearn\\svm\\_classes.py\", line 233, in fit\n",
      "    self.coef_, self.intercept_, self.n_iter_ = _fit_liblinear(\n",
      "  File \"C:\\Users\\12108\\anaconda3\\envs\\BUAN_6341\\lib\\site-packages\\sklearn\\svm\\_base.py\", line 965, in _fit_liblinear\n",
      "    solver_type = _get_liblinear_solver_type(multi_class, penalty, loss, dual)\n",
      "  File \"C:\\Users\\12108\\anaconda3\\envs\\BUAN_6341\\lib\\site-packages\\sklearn\\svm\\_base.py\", line 821, in _get_liblinear_solver_type\n",
      "    raise ValueError('Unsupported set of arguments: %s, '\n",
      "ValueError: Unsupported set of arguments: The combination of penalty='l1' and loss='squared_hinge' are not supported when dual=True, Parameters: penalty='l1', loss='squared_hinge', dual=True\n",
      "\n",
      "  warnings.warn(\"Estimator fit failed. The score on this train-test\"\n"
     ]
    },
    {
     "name": "stdout",
     "output_type": "stream",
     "text": [
      "[CV] .......... C=1, max_iter=10, penalty=l1, score=nan, total=   0.0s\n",
      "[CV] C=1, max_iter=10, penalty=l2 ....................................\n",
      "[CV] ........ C=1, max_iter=10, penalty=l2, score=0.595, total=   0.0s\n",
      "[CV] C=1, max_iter=10, penalty=l2 ....................................\n",
      "[CV] ........ C=1, max_iter=10, penalty=l2, score=0.599, total=   0.0s\n",
      "[CV] C=1, max_iter=10, penalty=l2 ....................................\n",
      "[CV] ........ C=1, max_iter=10, penalty=l2, score=0.627, total=   0.0s\n",
      "[CV] C=1, max_iter=10, penalty=l2 ....................................\n",
      "[CV] ........ C=1, max_iter=10, penalty=l2, score=0.613, total=   0.0s\n",
      "[CV] C=1, max_iter=10, penalty=l2 ....................................\n",
      "[CV] ........ C=1, max_iter=10, penalty=l2, score=0.636, total=   0.0s\n",
      "[CV] C=10, max_iter=1000, penalty=l1 .................................\n",
      "[CV] ....... C=10, max_iter=1000, penalty=l1, score=nan, total=   0.0s\n",
      "[CV] C=10, max_iter=1000, penalty=l1 .................................\n",
      "[CV] ....... C=10, max_iter=1000, penalty=l1, score=nan, total=   0.0s\n",
      "[CV] C=10, max_iter=1000, penalty=l1 .................................\n",
      "[CV] ....... C=10, max_iter=1000, penalty=l1, score=nan, total=   0.0s\n",
      "[CV] C=10, max_iter=1000, penalty=l1 .................................\n",
      "[CV] ....... C=10, max_iter=1000, penalty=l1, score=nan, total=   0.0s\n",
      "[CV] C=10, max_iter=1000, penalty=l1 .................................\n",
      "[CV] ....... C=10, max_iter=1000, penalty=l1, score=nan, total=   0.0s\n",
      "[CV] C=10, max_iter=1000, penalty=l2 .................................\n"
     ]
    },
    {
     "name": "stderr",
     "output_type": "stream",
     "text": [
      "C:\\Users\\12108\\anaconda3\\envs\\BUAN_6341\\lib\\site-packages\\sklearn\\svm\\_base.py:976: ConvergenceWarning: Liblinear failed to converge, increase the number of iterations.\n",
      "  warnings.warn(\"Liblinear failed to converge, increase \"\n"
     ]
    },
    {
     "name": "stdout",
     "output_type": "stream",
     "text": [
      "[CV] ..... C=10, max_iter=1000, penalty=l2, score=0.695, total=   0.6s\n",
      "[CV] C=10, max_iter=1000, penalty=l2 .................................\n"
     ]
    },
    {
     "name": "stderr",
     "output_type": "stream",
     "text": [
      "C:\\Users\\12108\\anaconda3\\envs\\BUAN_6341\\lib\\site-packages\\sklearn\\svm\\_base.py:976: ConvergenceWarning: Liblinear failed to converge, increase the number of iterations.\n",
      "  warnings.warn(\"Liblinear failed to converge, increase \"\n"
     ]
    },
    {
     "name": "stdout",
     "output_type": "stream",
     "text": [
      "[CV] ..... C=10, max_iter=1000, penalty=l2, score=0.679, total=   0.5s\n",
      "[CV] C=10, max_iter=1000, penalty=l2 .................................\n"
     ]
    },
    {
     "name": "stderr",
     "output_type": "stream",
     "text": [
      "C:\\Users\\12108\\anaconda3\\envs\\BUAN_6341\\lib\\site-packages\\sklearn\\svm\\_base.py:976: ConvergenceWarning: Liblinear failed to converge, increase the number of iterations.\n",
      "  warnings.warn(\"Liblinear failed to converge, increase \"\n"
     ]
    },
    {
     "name": "stdout",
     "output_type": "stream",
     "text": [
      "[CV] ..... C=10, max_iter=1000, penalty=l2, score=0.675, total=   0.5s\n",
      "[CV] C=10, max_iter=1000, penalty=l2 .................................\n"
     ]
    },
    {
     "name": "stderr",
     "output_type": "stream",
     "text": [
      "C:\\Users\\12108\\anaconda3\\envs\\BUAN_6341\\lib\\site-packages\\sklearn\\svm\\_base.py:976: ConvergenceWarning: Liblinear failed to converge, increase the number of iterations.\n",
      "  warnings.warn(\"Liblinear failed to converge, increase \"\n"
     ]
    },
    {
     "name": "stdout",
     "output_type": "stream",
     "text": [
      "[CV] ..... C=10, max_iter=1000, penalty=l2, score=0.688, total=   0.6s\n",
      "[CV] C=10, max_iter=1000, penalty=l2 .................................\n"
     ]
    },
    {
     "name": "stderr",
     "output_type": "stream",
     "text": [
      "C:\\Users\\12108\\anaconda3\\envs\\BUAN_6341\\lib\\site-packages\\sklearn\\svm\\_base.py:976: ConvergenceWarning: Liblinear failed to converge, increase the number of iterations.\n",
      "  warnings.warn(\"Liblinear failed to converge, increase \"\n",
      "C:\\Users\\12108\\anaconda3\\envs\\BUAN_6341\\lib\\site-packages\\sklearn\\model_selection\\_validation.py:548: FitFailedWarning: Estimator fit failed. The score on this train-test partition for these parameters will be set to nan. Details: \n",
      "Traceback (most recent call last):\n",
      "  File \"C:\\Users\\12108\\anaconda3\\envs\\BUAN_6341\\lib\\site-packages\\sklearn\\model_selection\\_validation.py\", line 531, in _fit_and_score\n",
      "    estimator.fit(X_train, y_train, **fit_params)\n",
      "  File \"C:\\Users\\12108\\anaconda3\\envs\\BUAN_6341\\lib\\site-packages\\sklearn\\svm\\_classes.py\", line 233, in fit\n",
      "    self.coef_, self.intercept_, self.n_iter_ = _fit_liblinear(\n",
      "  File \"C:\\Users\\12108\\anaconda3\\envs\\BUAN_6341\\lib\\site-packages\\sklearn\\svm\\_base.py\", line 965, in _fit_liblinear\n",
      "    solver_type = _get_liblinear_solver_type(multi_class, penalty, loss, dual)\n",
      "  File \"C:\\Users\\12108\\anaconda3\\envs\\BUAN_6341\\lib\\site-packages\\sklearn\\svm\\_base.py\", line 821, in _get_liblinear_solver_type\n",
      "    raise ValueError('Unsupported set of arguments: %s, '\n",
      "ValueError: Unsupported set of arguments: The combination of penalty='l1' and loss='squared_hinge' are not supported when dual=True, Parameters: penalty='l1', loss='squared_hinge', dual=True\n",
      "\n",
      "  warnings.warn(\"Estimator fit failed. The score on this train-test\"\n",
      "C:\\Users\\12108\\anaconda3\\envs\\BUAN_6341\\lib\\site-packages\\sklearn\\model_selection\\_validation.py:548: FitFailedWarning: Estimator fit failed. The score on this train-test partition for these parameters will be set to nan. Details: \n",
      "Traceback (most recent call last):\n",
      "  File \"C:\\Users\\12108\\anaconda3\\envs\\BUAN_6341\\lib\\site-packages\\sklearn\\model_selection\\_validation.py\", line 531, in _fit_and_score\n",
      "    estimator.fit(X_train, y_train, **fit_params)\n",
      "  File \"C:\\Users\\12108\\anaconda3\\envs\\BUAN_6341\\lib\\site-packages\\sklearn\\svm\\_classes.py\", line 233, in fit\n",
      "    self.coef_, self.intercept_, self.n_iter_ = _fit_liblinear(\n",
      "  File \"C:\\Users\\12108\\anaconda3\\envs\\BUAN_6341\\lib\\site-packages\\sklearn\\svm\\_base.py\", line 965, in _fit_liblinear\n",
      "    solver_type = _get_liblinear_solver_type(multi_class, penalty, loss, dual)\n",
      "  File \"C:\\Users\\12108\\anaconda3\\envs\\BUAN_6341\\lib\\site-packages\\sklearn\\svm\\_base.py\", line 821, in _get_liblinear_solver_type\n",
      "    raise ValueError('Unsupported set of arguments: %s, '\n",
      "ValueError: Unsupported set of arguments: The combination of penalty='l1' and loss='squared_hinge' are not supported when dual=True, Parameters: penalty='l1', loss='squared_hinge', dual=True\n",
      "\n",
      "  warnings.warn(\"Estimator fit failed. The score on this train-test\"\n",
      "C:\\Users\\12108\\anaconda3\\envs\\BUAN_6341\\lib\\site-packages\\sklearn\\model_selection\\_validation.py:548: FitFailedWarning: Estimator fit failed. The score on this train-test partition for these parameters will be set to nan. Details: \n",
      "Traceback (most recent call last):\n",
      "  File \"C:\\Users\\12108\\anaconda3\\envs\\BUAN_6341\\lib\\site-packages\\sklearn\\model_selection\\_validation.py\", line 531, in _fit_and_score\n",
      "    estimator.fit(X_train, y_train, **fit_params)\n",
      "  File \"C:\\Users\\12108\\anaconda3\\envs\\BUAN_6341\\lib\\site-packages\\sklearn\\svm\\_classes.py\", line 233, in fit\n",
      "    self.coef_, self.intercept_, self.n_iter_ = _fit_liblinear(\n",
      "  File \"C:\\Users\\12108\\anaconda3\\envs\\BUAN_6341\\lib\\site-packages\\sklearn\\svm\\_base.py\", line 965, in _fit_liblinear\n",
      "    solver_type = _get_liblinear_solver_type(multi_class, penalty, loss, dual)\n",
      "  File \"C:\\Users\\12108\\anaconda3\\envs\\BUAN_6341\\lib\\site-packages\\sklearn\\svm\\_base.py\", line 821, in _get_liblinear_solver_type\n",
      "    raise ValueError('Unsupported set of arguments: %s, '\n",
      "ValueError: Unsupported set of arguments: The combination of penalty='l1' and loss='squared_hinge' are not supported when dual=True, Parameters: penalty='l1', loss='squared_hinge', dual=True\n",
      "\n",
      "  warnings.warn(\"Estimator fit failed. The score on this train-test\"\n",
      "C:\\Users\\12108\\anaconda3\\envs\\BUAN_6341\\lib\\site-packages\\sklearn\\model_selection\\_validation.py:548: FitFailedWarning: Estimator fit failed. The score on this train-test partition for these parameters will be set to nan. Details: \n",
      "Traceback (most recent call last):\n",
      "  File \"C:\\Users\\12108\\anaconda3\\envs\\BUAN_6341\\lib\\site-packages\\sklearn\\model_selection\\_validation.py\", line 531, in _fit_and_score\n",
      "    estimator.fit(X_train, y_train, **fit_params)\n",
      "  File \"C:\\Users\\12108\\anaconda3\\envs\\BUAN_6341\\lib\\site-packages\\sklearn\\svm\\_classes.py\", line 233, in fit\n",
      "    self.coef_, self.intercept_, self.n_iter_ = _fit_liblinear(\n",
      "  File \"C:\\Users\\12108\\anaconda3\\envs\\BUAN_6341\\lib\\site-packages\\sklearn\\svm\\_base.py\", line 965, in _fit_liblinear\n",
      "    solver_type = _get_liblinear_solver_type(multi_class, penalty, loss, dual)\n",
      "  File \"C:\\Users\\12108\\anaconda3\\envs\\BUAN_6341\\lib\\site-packages\\sklearn\\svm\\_base.py\", line 821, in _get_liblinear_solver_type\n",
      "    raise ValueError('Unsupported set of arguments: %s, '\n",
      "ValueError: Unsupported set of arguments: The combination of penalty='l1' and loss='squared_hinge' are not supported when dual=True, Parameters: penalty='l1', loss='squared_hinge', dual=True\n",
      "\n",
      "  warnings.warn(\"Estimator fit failed. The score on this train-test\"\n",
      "C:\\Users\\12108\\anaconda3\\envs\\BUAN_6341\\lib\\site-packages\\sklearn\\model_selection\\_validation.py:548: FitFailedWarning: Estimator fit failed. The score on this train-test partition for these parameters will be set to nan. Details: \n",
      "Traceback (most recent call last):\n",
      "  File \"C:\\Users\\12108\\anaconda3\\envs\\BUAN_6341\\lib\\site-packages\\sklearn\\model_selection\\_validation.py\", line 531, in _fit_and_score\n",
      "    estimator.fit(X_train, y_train, **fit_params)\n",
      "  File \"C:\\Users\\12108\\anaconda3\\envs\\BUAN_6341\\lib\\site-packages\\sklearn\\svm\\_classes.py\", line 233, in fit\n",
      "    self.coef_, self.intercept_, self.n_iter_ = _fit_liblinear(\n",
      "  File \"C:\\Users\\12108\\anaconda3\\envs\\BUAN_6341\\lib\\site-packages\\sklearn\\svm\\_base.py\", line 965, in _fit_liblinear\n",
      "    solver_type = _get_liblinear_solver_type(multi_class, penalty, loss, dual)\n",
      "  File \"C:\\Users\\12108\\anaconda3\\envs\\BUAN_6341\\lib\\site-packages\\sklearn\\svm\\_base.py\", line 821, in _get_liblinear_solver_type\n",
      "    raise ValueError('Unsupported set of arguments: %s, '\n",
      "ValueError: Unsupported set of arguments: The combination of penalty='l1' and loss='squared_hinge' are not supported when dual=True, Parameters: penalty='l1', loss='squared_hinge', dual=True\n",
      "\n",
      "  warnings.warn(\"Estimator fit failed. The score on this train-test\"\n",
      "C:\\Users\\12108\\anaconda3\\envs\\BUAN_6341\\lib\\site-packages\\sklearn\\svm\\_base.py:976: ConvergenceWarning: Liblinear failed to converge, increase the number of iterations.\n",
      "  warnings.warn(\"Liblinear failed to converge, increase \"\n",
      "C:\\Users\\12108\\anaconda3\\envs\\BUAN_6341\\lib\\site-packages\\sklearn\\svm\\_base.py:976: ConvergenceWarning: Liblinear failed to converge, increase the number of iterations.\n",
      "  warnings.warn(\"Liblinear failed to converge, increase \"\n"
     ]
    },
    {
     "name": "stdout",
     "output_type": "stream",
     "text": [
      "[CV] ..... C=10, max_iter=1000, penalty=l2, score=0.691, total=   0.5s\n",
      "[CV] C=10, max_iter=100, penalty=l1 ..................................\n",
      "[CV] ........ C=10, max_iter=100, penalty=l1, score=nan, total=   0.0s\n",
      "[CV] C=10, max_iter=100, penalty=l1 ..................................\n",
      "[CV] ........ C=10, max_iter=100, penalty=l1, score=nan, total=   0.0s\n",
      "[CV] C=10, max_iter=100, penalty=l1 ..................................\n",
      "[CV] ........ C=10, max_iter=100, penalty=l1, score=nan, total=   0.0s\n",
      "[CV] C=10, max_iter=100, penalty=l1 ..................................\n",
      "[CV] ........ C=10, max_iter=100, penalty=l1, score=nan, total=   0.0s\n",
      "[CV] C=10, max_iter=100, penalty=l1 ..................................\n",
      "[CV] ........ C=10, max_iter=100, penalty=l1, score=nan, total=   0.0s\n",
      "[CV] C=10, max_iter=100, penalty=l2 ..................................\n",
      "[CV] ...... C=10, max_iter=100, penalty=l2, score=0.600, total=   0.1s\n",
      "[CV] C=10, max_iter=100, penalty=l2 ..................................\n",
      "[CV] ...... C=10, max_iter=100, penalty=l2, score=0.627, total=   0.1s\n",
      "[CV] C=10, max_iter=100, penalty=l2 ..................................\n",
      "[CV] ...... C=10, max_iter=100, penalty=l2, score=0.622, total=   0.1s\n",
      "[CV] C=10, max_iter=100, penalty=l2 ..................................\n"
     ]
    },
    {
     "name": "stderr",
     "output_type": "stream",
     "text": [
      "C:\\Users\\12108\\anaconda3\\envs\\BUAN_6341\\lib\\site-packages\\sklearn\\svm\\_base.py:976: ConvergenceWarning: Liblinear failed to converge, increase the number of iterations.\n",
      "  warnings.warn(\"Liblinear failed to converge, increase \"\n",
      "C:\\Users\\12108\\anaconda3\\envs\\BUAN_6341\\lib\\site-packages\\sklearn\\svm\\_base.py:976: ConvergenceWarning: Liblinear failed to converge, increase the number of iterations.\n",
      "  warnings.warn(\"Liblinear failed to converge, increase \"\n",
      "C:\\Users\\12108\\anaconda3\\envs\\BUAN_6341\\lib\\site-packages\\sklearn\\svm\\_base.py:976: ConvergenceWarning: Liblinear failed to converge, increase the number of iterations.\n",
      "  warnings.warn(\"Liblinear failed to converge, increase \"\n"
     ]
    },
    {
     "name": "stdout",
     "output_type": "stream",
     "text": [
      "[CV] ...... C=10, max_iter=100, penalty=l2, score=0.556, total=   0.1s\n",
      "[CV] C=10, max_iter=100, penalty=l2 ..................................\n",
      "[CV] ...... C=10, max_iter=100, penalty=l2, score=0.587, total=   0.1s\n",
      "[CV] C=10, max_iter=10, penalty=l1 ...................................\n",
      "[CV] ......... C=10, max_iter=10, penalty=l1, score=nan, total=   0.0s\n",
      "[CV] C=10, max_iter=10, penalty=l1 ...................................\n",
      "[CV] ......... C=10, max_iter=10, penalty=l1, score=nan, total=   0.0s\n",
      "[CV] C=10, max_iter=10, penalty=l1 ...................................\n",
      "[CV] ......... C=10, max_iter=10, penalty=l1, score=nan, total=   0.0s\n",
      "[CV] C=10, max_iter=10, penalty=l1 ...................................\n",
      "[CV] ......... C=10, max_iter=10, penalty=l1, score=nan, total=   0.0s\n",
      "[CV] C=10, max_iter=10, penalty=l1 ...................................\n",
      "[CV] ......... C=10, max_iter=10, penalty=l1, score=nan, total=   0.0s\n",
      "[CV] C=10, max_iter=10, penalty=l2 ...................................\n",
      "[CV] ....... C=10, max_iter=10, penalty=l2, score=0.572, total=   0.0s\n",
      "[CV] C=10, max_iter=10, penalty=l2 ...................................\n",
      "[CV] ....... C=10, max_iter=10, penalty=l2, score=0.580, total=   0.0s\n",
      "[CV] C=10, max_iter=10, penalty=l2 ...................................\n"
     ]
    },
    {
     "name": "stderr",
     "output_type": "stream",
     "text": [
      "C:\\Users\\12108\\anaconda3\\envs\\BUAN_6341\\lib\\site-packages\\sklearn\\model_selection\\_validation.py:548: FitFailedWarning: Estimator fit failed. The score on this train-test partition for these parameters will be set to nan. Details: \n",
      "Traceback (most recent call last):\n",
      "  File \"C:\\Users\\12108\\anaconda3\\envs\\BUAN_6341\\lib\\site-packages\\sklearn\\model_selection\\_validation.py\", line 531, in _fit_and_score\n",
      "    estimator.fit(X_train, y_train, **fit_params)\n",
      "  File \"C:\\Users\\12108\\anaconda3\\envs\\BUAN_6341\\lib\\site-packages\\sklearn\\svm\\_classes.py\", line 233, in fit\n",
      "    self.coef_, self.intercept_, self.n_iter_ = _fit_liblinear(\n",
      "  File \"C:\\Users\\12108\\anaconda3\\envs\\BUAN_6341\\lib\\site-packages\\sklearn\\svm\\_base.py\", line 965, in _fit_liblinear\n",
      "    solver_type = _get_liblinear_solver_type(multi_class, penalty, loss, dual)\n",
      "  File \"C:\\Users\\12108\\anaconda3\\envs\\BUAN_6341\\lib\\site-packages\\sklearn\\svm\\_base.py\", line 821, in _get_liblinear_solver_type\n",
      "    raise ValueError('Unsupported set of arguments: %s, '\n",
      "ValueError: Unsupported set of arguments: The combination of penalty='l1' and loss='squared_hinge' are not supported when dual=True, Parameters: penalty='l1', loss='squared_hinge', dual=True\n",
      "\n",
      "  warnings.warn(\"Estimator fit failed. The score on this train-test\"\n",
      "C:\\Users\\12108\\anaconda3\\envs\\BUAN_6341\\lib\\site-packages\\sklearn\\model_selection\\_validation.py:548: FitFailedWarning: Estimator fit failed. The score on this train-test partition for these parameters will be set to nan. Details: \n",
      "Traceback (most recent call last):\n",
      "  File \"C:\\Users\\12108\\anaconda3\\envs\\BUAN_6341\\lib\\site-packages\\sklearn\\model_selection\\_validation.py\", line 531, in _fit_and_score\n",
      "    estimator.fit(X_train, y_train, **fit_params)\n",
      "  File \"C:\\Users\\12108\\anaconda3\\envs\\BUAN_6341\\lib\\site-packages\\sklearn\\svm\\_classes.py\", line 233, in fit\n",
      "    self.coef_, self.intercept_, self.n_iter_ = _fit_liblinear(\n",
      "  File \"C:\\Users\\12108\\anaconda3\\envs\\BUAN_6341\\lib\\site-packages\\sklearn\\svm\\_base.py\", line 965, in _fit_liblinear\n",
      "    solver_type = _get_liblinear_solver_type(multi_class, penalty, loss, dual)\n",
      "  File \"C:\\Users\\12108\\anaconda3\\envs\\BUAN_6341\\lib\\site-packages\\sklearn\\svm\\_base.py\", line 821, in _get_liblinear_solver_type\n",
      "    raise ValueError('Unsupported set of arguments: %s, '\n",
      "ValueError: Unsupported set of arguments: The combination of penalty='l1' and loss='squared_hinge' are not supported when dual=True, Parameters: penalty='l1', loss='squared_hinge', dual=True\n",
      "\n",
      "  warnings.warn(\"Estimator fit failed. The score on this train-test\"\n",
      "C:\\Users\\12108\\anaconda3\\envs\\BUAN_6341\\lib\\site-packages\\sklearn\\model_selection\\_validation.py:548: FitFailedWarning: Estimator fit failed. The score on this train-test partition for these parameters will be set to nan. Details: \n",
      "Traceback (most recent call last):\n",
      "  File \"C:\\Users\\12108\\anaconda3\\envs\\BUAN_6341\\lib\\site-packages\\sklearn\\model_selection\\_validation.py\", line 531, in _fit_and_score\n",
      "    estimator.fit(X_train, y_train, **fit_params)\n",
      "  File \"C:\\Users\\12108\\anaconda3\\envs\\BUAN_6341\\lib\\site-packages\\sklearn\\svm\\_classes.py\", line 233, in fit\n",
      "    self.coef_, self.intercept_, self.n_iter_ = _fit_liblinear(\n",
      "  File \"C:\\Users\\12108\\anaconda3\\envs\\BUAN_6341\\lib\\site-packages\\sklearn\\svm\\_base.py\", line 965, in _fit_liblinear\n",
      "    solver_type = _get_liblinear_solver_type(multi_class, penalty, loss, dual)\n",
      "  File \"C:\\Users\\12108\\anaconda3\\envs\\BUAN_6341\\lib\\site-packages\\sklearn\\svm\\_base.py\", line 821, in _get_liblinear_solver_type\n",
      "    raise ValueError('Unsupported set of arguments: %s, '\n",
      "ValueError: Unsupported set of arguments: The combination of penalty='l1' and loss='squared_hinge' are not supported when dual=True, Parameters: penalty='l1', loss='squared_hinge', dual=True\n",
      "\n",
      "  warnings.warn(\"Estimator fit failed. The score on this train-test\"\n",
      "C:\\Users\\12108\\anaconda3\\envs\\BUAN_6341\\lib\\site-packages\\sklearn\\model_selection\\_validation.py:548: FitFailedWarning: Estimator fit failed. The score on this train-test partition for these parameters will be set to nan. Details: \n",
      "Traceback (most recent call last):\n",
      "  File \"C:\\Users\\12108\\anaconda3\\envs\\BUAN_6341\\lib\\site-packages\\sklearn\\model_selection\\_validation.py\", line 531, in _fit_and_score\n",
      "    estimator.fit(X_train, y_train, **fit_params)\n",
      "  File \"C:\\Users\\12108\\anaconda3\\envs\\BUAN_6341\\lib\\site-packages\\sklearn\\svm\\_classes.py\", line 233, in fit\n",
      "    self.coef_, self.intercept_, self.n_iter_ = _fit_liblinear(\n",
      "  File \"C:\\Users\\12108\\anaconda3\\envs\\BUAN_6341\\lib\\site-packages\\sklearn\\svm\\_base.py\", line 965, in _fit_liblinear\n",
      "    solver_type = _get_liblinear_solver_type(multi_class, penalty, loss, dual)\n",
      "  File \"C:\\Users\\12108\\anaconda3\\envs\\BUAN_6341\\lib\\site-packages\\sklearn\\svm\\_base.py\", line 821, in _get_liblinear_solver_type\n",
      "    raise ValueError('Unsupported set of arguments: %s, '\n",
      "ValueError: Unsupported set of arguments: The combination of penalty='l1' and loss='squared_hinge' are not supported when dual=True, Parameters: penalty='l1', loss='squared_hinge', dual=True\n",
      "\n",
      "  warnings.warn(\"Estimator fit failed. The score on this train-test\"\n",
      "C:\\Users\\12108\\anaconda3\\envs\\BUAN_6341\\lib\\site-packages\\sklearn\\model_selection\\_validation.py:548: FitFailedWarning: Estimator fit failed. The score on this train-test partition for these parameters will be set to nan. Details: \n",
      "Traceback (most recent call last):\n",
      "  File \"C:\\Users\\12108\\anaconda3\\envs\\BUAN_6341\\lib\\site-packages\\sklearn\\model_selection\\_validation.py\", line 531, in _fit_and_score\n",
      "    estimator.fit(X_train, y_train, **fit_params)\n",
      "  File \"C:\\Users\\12108\\anaconda3\\envs\\BUAN_6341\\lib\\site-packages\\sklearn\\svm\\_classes.py\", line 233, in fit\n",
      "    self.coef_, self.intercept_, self.n_iter_ = _fit_liblinear(\n",
      "  File \"C:\\Users\\12108\\anaconda3\\envs\\BUAN_6341\\lib\\site-packages\\sklearn\\svm\\_base.py\", line 965, in _fit_liblinear\n",
      "    solver_type = _get_liblinear_solver_type(multi_class, penalty, loss, dual)\n",
      "  File \"C:\\Users\\12108\\anaconda3\\envs\\BUAN_6341\\lib\\site-packages\\sklearn\\svm\\_base.py\", line 821, in _get_liblinear_solver_type\n",
      "    raise ValueError('Unsupported set of arguments: %s, '\n",
      "ValueError: Unsupported set of arguments: The combination of penalty='l1' and loss='squared_hinge' are not supported when dual=True, Parameters: penalty='l1', loss='squared_hinge', dual=True\n",
      "\n",
      "  warnings.warn(\"Estimator fit failed. The score on this train-test\"\n",
      "C:\\Users\\12108\\anaconda3\\envs\\BUAN_6341\\lib\\site-packages\\sklearn\\svm\\_base.py:976: ConvergenceWarning: Liblinear failed to converge, increase the number of iterations.\n",
      "  warnings.warn(\"Liblinear failed to converge, increase \"\n",
      "C:\\Users\\12108\\anaconda3\\envs\\BUAN_6341\\lib\\site-packages\\sklearn\\svm\\_base.py:976: ConvergenceWarning: Liblinear failed to converge, increase the number of iterations.\n",
      "  warnings.warn(\"Liblinear failed to converge, increase \"\n",
      "C:\\Users\\12108\\anaconda3\\envs\\BUAN_6341\\lib\\site-packages\\sklearn\\svm\\_base.py:976: ConvergenceWarning: Liblinear failed to converge, increase the number of iterations.\n",
      "  warnings.warn(\"Liblinear failed to converge, increase \"\n",
      "C:\\Users\\12108\\anaconda3\\envs\\BUAN_6341\\lib\\site-packages\\sklearn\\svm\\_base.py:976: ConvergenceWarning: Liblinear failed to converge, increase the number of iterations.\n",
      "  warnings.warn(\"Liblinear failed to converge, increase \"\n",
      "C:\\Users\\12108\\anaconda3\\envs\\BUAN_6341\\lib\\site-packages\\sklearn\\svm\\_base.py:976: ConvergenceWarning: Liblinear failed to converge, increase the number of iterations.\n",
      "  warnings.warn(\"Liblinear failed to converge, increase \"\n",
      "C:\\Users\\12108\\anaconda3\\envs\\BUAN_6341\\lib\\site-packages\\sklearn\\model_selection\\_validation.py:548: FitFailedWarning: Estimator fit failed. The score on this train-test partition for these parameters will be set to nan. Details: \n",
      "Traceback (most recent call last):\n",
      "  File \"C:\\Users\\12108\\anaconda3\\envs\\BUAN_6341\\lib\\site-packages\\sklearn\\model_selection\\_validation.py\", line 531, in _fit_and_score\n",
      "    estimator.fit(X_train, y_train, **fit_params)\n",
      "  File \"C:\\Users\\12108\\anaconda3\\envs\\BUAN_6341\\lib\\site-packages\\sklearn\\svm\\_classes.py\", line 233, in fit\n",
      "    self.coef_, self.intercept_, self.n_iter_ = _fit_liblinear(\n",
      "  File \"C:\\Users\\12108\\anaconda3\\envs\\BUAN_6341\\lib\\site-packages\\sklearn\\svm\\_base.py\", line 965, in _fit_liblinear\n",
      "    solver_type = _get_liblinear_solver_type(multi_class, penalty, loss, dual)\n",
      "  File \"C:\\Users\\12108\\anaconda3\\envs\\BUAN_6341\\lib\\site-packages\\sklearn\\svm\\_base.py\", line 821, in _get_liblinear_solver_type\n",
      "    raise ValueError('Unsupported set of arguments: %s, '\n",
      "ValueError: Unsupported set of arguments: The combination of penalty='l1' and loss='squared_hinge' are not supported when dual=True, Parameters: penalty='l1', loss='squared_hinge', dual=True\n",
      "\n",
      "  warnings.warn(\"Estimator fit failed. The score on this train-test\"\n",
      "C:\\Users\\12108\\anaconda3\\envs\\BUAN_6341\\lib\\site-packages\\sklearn\\model_selection\\_validation.py:548: FitFailedWarning: Estimator fit failed. The score on this train-test partition for these parameters will be set to nan. Details: \n",
      "Traceback (most recent call last):\n",
      "  File \"C:\\Users\\12108\\anaconda3\\envs\\BUAN_6341\\lib\\site-packages\\sklearn\\model_selection\\_validation.py\", line 531, in _fit_and_score\n",
      "    estimator.fit(X_train, y_train, **fit_params)\n",
      "  File \"C:\\Users\\12108\\anaconda3\\envs\\BUAN_6341\\lib\\site-packages\\sklearn\\svm\\_classes.py\", line 233, in fit\n",
      "    self.coef_, self.intercept_, self.n_iter_ = _fit_liblinear(\n",
      "  File \"C:\\Users\\12108\\anaconda3\\envs\\BUAN_6341\\lib\\site-packages\\sklearn\\svm\\_base.py\", line 965, in _fit_liblinear\n",
      "    solver_type = _get_liblinear_solver_type(multi_class, penalty, loss, dual)\n",
      "  File \"C:\\Users\\12108\\anaconda3\\envs\\BUAN_6341\\lib\\site-packages\\sklearn\\svm\\_base.py\", line 821, in _get_liblinear_solver_type\n",
      "    raise ValueError('Unsupported set of arguments: %s, '\n",
      "ValueError: Unsupported set of arguments: The combination of penalty='l1' and loss='squared_hinge' are not supported when dual=True, Parameters: penalty='l1', loss='squared_hinge', dual=True\n",
      "\n",
      "  warnings.warn(\"Estimator fit failed. The score on this train-test\"\n",
      "C:\\Users\\12108\\anaconda3\\envs\\BUAN_6341\\lib\\site-packages\\sklearn\\model_selection\\_validation.py:548: FitFailedWarning: Estimator fit failed. The score on this train-test partition for these parameters will be set to nan. Details: \n",
      "Traceback (most recent call last):\n",
      "  File \"C:\\Users\\12108\\anaconda3\\envs\\BUAN_6341\\lib\\site-packages\\sklearn\\model_selection\\_validation.py\", line 531, in _fit_and_score\n",
      "    estimator.fit(X_train, y_train, **fit_params)\n",
      "  File \"C:\\Users\\12108\\anaconda3\\envs\\BUAN_6341\\lib\\site-packages\\sklearn\\svm\\_classes.py\", line 233, in fit\n",
      "    self.coef_, self.intercept_, self.n_iter_ = _fit_liblinear(\n",
      "  File \"C:\\Users\\12108\\anaconda3\\envs\\BUAN_6341\\lib\\site-packages\\sklearn\\svm\\_base.py\", line 965, in _fit_liblinear\n",
      "    solver_type = _get_liblinear_solver_type(multi_class, penalty, loss, dual)\n",
      "  File \"C:\\Users\\12108\\anaconda3\\envs\\BUAN_6341\\lib\\site-packages\\sklearn\\svm\\_base.py\", line 821, in _get_liblinear_solver_type\n",
      "    raise ValueError('Unsupported set of arguments: %s, '\n",
      "ValueError: Unsupported set of arguments: The combination of penalty='l1' and loss='squared_hinge' are not supported when dual=True, Parameters: penalty='l1', loss='squared_hinge', dual=True\n",
      "\n",
      "  warnings.warn(\"Estimator fit failed. The score on this train-test\"\n"
     ]
    },
    {
     "name": "stdout",
     "output_type": "stream",
     "text": [
      "[CV] ....... C=10, max_iter=10, penalty=l2, score=0.613, total=   0.0s\n",
      "[CV] C=10, max_iter=10, penalty=l2 ...................................\n",
      "[CV] ....... C=10, max_iter=10, penalty=l2, score=0.604, total=   0.0s\n",
      "[CV] C=10, max_iter=10, penalty=l2 ...................................\n",
      "[CV] ....... C=10, max_iter=10, penalty=l2, score=0.622, total=   0.0s\n",
      "[CV] C=1000, max_iter=1000, penalty=l1 ...............................\n",
      "[CV] ..... C=1000, max_iter=1000, penalty=l1, score=nan, total=   0.0s\n",
      "[CV] C=1000, max_iter=1000, penalty=l1 ...............................\n",
      "[CV] ..... C=1000, max_iter=1000, penalty=l1, score=nan, total=   0.0s\n",
      "[CV] C=1000, max_iter=1000, penalty=l1 ...............................\n",
      "[CV] ..... C=1000, max_iter=1000, penalty=l1, score=nan, total=   0.0s\n",
      "[CV] C=1000, max_iter=1000, penalty=l1 ...............................\n",
      "[CV] ..... C=1000, max_iter=1000, penalty=l1, score=nan, total=   0.0s\n",
      "[CV] C=1000, max_iter=1000, penalty=l1 ...............................\n",
      "[CV] ..... C=1000, max_iter=1000, penalty=l1, score=nan, total=   0.0s\n",
      "[CV] C=1000, max_iter=1000, penalty=l2 ...............................\n"
     ]
    },
    {
     "name": "stderr",
     "output_type": "stream",
     "text": [
      "C:\\Users\\12108\\anaconda3\\envs\\BUAN_6341\\lib\\site-packages\\sklearn\\model_selection\\_validation.py:548: FitFailedWarning: Estimator fit failed. The score on this train-test partition for these parameters will be set to nan. Details: \n",
      "Traceback (most recent call last):\n",
      "  File \"C:\\Users\\12108\\anaconda3\\envs\\BUAN_6341\\lib\\site-packages\\sklearn\\model_selection\\_validation.py\", line 531, in _fit_and_score\n",
      "    estimator.fit(X_train, y_train, **fit_params)\n",
      "  File \"C:\\Users\\12108\\anaconda3\\envs\\BUAN_6341\\lib\\site-packages\\sklearn\\svm\\_classes.py\", line 233, in fit\n",
      "    self.coef_, self.intercept_, self.n_iter_ = _fit_liblinear(\n",
      "  File \"C:\\Users\\12108\\anaconda3\\envs\\BUAN_6341\\lib\\site-packages\\sklearn\\svm\\_base.py\", line 965, in _fit_liblinear\n",
      "    solver_type = _get_liblinear_solver_type(multi_class, penalty, loss, dual)\n",
      "  File \"C:\\Users\\12108\\anaconda3\\envs\\BUAN_6341\\lib\\site-packages\\sklearn\\svm\\_base.py\", line 821, in _get_liblinear_solver_type\n",
      "    raise ValueError('Unsupported set of arguments: %s, '\n",
      "ValueError: Unsupported set of arguments: The combination of penalty='l1' and loss='squared_hinge' are not supported when dual=True, Parameters: penalty='l1', loss='squared_hinge', dual=True\n",
      "\n",
      "  warnings.warn(\"Estimator fit failed. The score on this train-test\"\n",
      "C:\\Users\\12108\\anaconda3\\envs\\BUAN_6341\\lib\\site-packages\\sklearn\\model_selection\\_validation.py:548: FitFailedWarning: Estimator fit failed. The score on this train-test partition for these parameters will be set to nan. Details: \n",
      "Traceback (most recent call last):\n",
      "  File \"C:\\Users\\12108\\anaconda3\\envs\\BUAN_6341\\lib\\site-packages\\sklearn\\model_selection\\_validation.py\", line 531, in _fit_and_score\n",
      "    estimator.fit(X_train, y_train, **fit_params)\n",
      "  File \"C:\\Users\\12108\\anaconda3\\envs\\BUAN_6341\\lib\\site-packages\\sklearn\\svm\\_classes.py\", line 233, in fit\n",
      "    self.coef_, self.intercept_, self.n_iter_ = _fit_liblinear(\n",
      "  File \"C:\\Users\\12108\\anaconda3\\envs\\BUAN_6341\\lib\\site-packages\\sklearn\\svm\\_base.py\", line 965, in _fit_liblinear\n",
      "    solver_type = _get_liblinear_solver_type(multi_class, penalty, loss, dual)\n",
      "  File \"C:\\Users\\12108\\anaconda3\\envs\\BUAN_6341\\lib\\site-packages\\sklearn\\svm\\_base.py\", line 821, in _get_liblinear_solver_type\n",
      "    raise ValueError('Unsupported set of arguments: %s, '\n",
      "ValueError: Unsupported set of arguments: The combination of penalty='l1' and loss='squared_hinge' are not supported when dual=True, Parameters: penalty='l1', loss='squared_hinge', dual=True\n",
      "\n",
      "  warnings.warn(\"Estimator fit failed. The score on this train-test\"\n",
      "C:\\Users\\12108\\anaconda3\\envs\\BUAN_6341\\lib\\site-packages\\sklearn\\svm\\_base.py:976: ConvergenceWarning: Liblinear failed to converge, increase the number of iterations.\n",
      "  warnings.warn(\"Liblinear failed to converge, increase \"\n"
     ]
    },
    {
     "name": "stdout",
     "output_type": "stream",
     "text": [
      "[CV] ... C=1000, max_iter=1000, penalty=l2, score=0.538, total=   0.5s\n",
      "[CV] C=1000, max_iter=1000, penalty=l2 ...............................\n"
     ]
    },
    {
     "name": "stderr",
     "output_type": "stream",
     "text": [
      "C:\\Users\\12108\\anaconda3\\envs\\BUAN_6341\\lib\\site-packages\\sklearn\\svm\\_base.py:976: ConvergenceWarning: Liblinear failed to converge, increase the number of iterations.\n",
      "  warnings.warn(\"Liblinear failed to converge, increase \"\n"
     ]
    },
    {
     "name": "stdout",
     "output_type": "stream",
     "text": [
      "[CV] ... C=1000, max_iter=1000, penalty=l2, score=0.640, total=   0.5s\n",
      "[CV] C=1000, max_iter=1000, penalty=l2 ...............................\n"
     ]
    },
    {
     "name": "stderr",
     "output_type": "stream",
     "text": [
      "C:\\Users\\12108\\anaconda3\\envs\\BUAN_6341\\lib\\site-packages\\sklearn\\svm\\_base.py:976: ConvergenceWarning: Liblinear failed to converge, increase the number of iterations.\n",
      "  warnings.warn(\"Liblinear failed to converge, increase \"\n"
     ]
    },
    {
     "name": "stdout",
     "output_type": "stream",
     "text": [
      "[CV] ... C=1000, max_iter=1000, penalty=l2, score=0.556, total=   0.5s\n",
      "[CV] C=1000, max_iter=1000, penalty=l2 ...............................\n"
     ]
    },
    {
     "name": "stderr",
     "output_type": "stream",
     "text": [
      "C:\\Users\\12108\\anaconda3\\envs\\BUAN_6341\\lib\\site-packages\\sklearn\\svm\\_base.py:976: ConvergenceWarning: Liblinear failed to converge, increase the number of iterations.\n",
      "  warnings.warn(\"Liblinear failed to converge, increase \"\n"
     ]
    },
    {
     "name": "stdout",
     "output_type": "stream",
     "text": [
      "[CV] ... C=1000, max_iter=1000, penalty=l2, score=0.633, total=   0.5s\n",
      "[CV] C=1000, max_iter=1000, penalty=l2 ...............................\n"
     ]
    },
    {
     "name": "stderr",
     "output_type": "stream",
     "text": [
      "C:\\Users\\12108\\anaconda3\\envs\\BUAN_6341\\lib\\site-packages\\sklearn\\svm\\_base.py:976: ConvergenceWarning: Liblinear failed to converge, increase the number of iterations.\n",
      "  warnings.warn(\"Liblinear failed to converge, increase \"\n",
      "C:\\Users\\12108\\anaconda3\\envs\\BUAN_6341\\lib\\site-packages\\sklearn\\model_selection\\_validation.py:548: FitFailedWarning: Estimator fit failed. The score on this train-test partition for these parameters will be set to nan. Details: \n",
      "Traceback (most recent call last):\n",
      "  File \"C:\\Users\\12108\\anaconda3\\envs\\BUAN_6341\\lib\\site-packages\\sklearn\\model_selection\\_validation.py\", line 531, in _fit_and_score\n",
      "    estimator.fit(X_train, y_train, **fit_params)\n",
      "  File \"C:\\Users\\12108\\anaconda3\\envs\\BUAN_6341\\lib\\site-packages\\sklearn\\svm\\_classes.py\", line 233, in fit\n",
      "    self.coef_, self.intercept_, self.n_iter_ = _fit_liblinear(\n",
      "  File \"C:\\Users\\12108\\anaconda3\\envs\\BUAN_6341\\lib\\site-packages\\sklearn\\svm\\_base.py\", line 965, in _fit_liblinear\n",
      "    solver_type = _get_liblinear_solver_type(multi_class, penalty, loss, dual)\n",
      "  File \"C:\\Users\\12108\\anaconda3\\envs\\BUAN_6341\\lib\\site-packages\\sklearn\\svm\\_base.py\", line 821, in _get_liblinear_solver_type\n",
      "    raise ValueError('Unsupported set of arguments: %s, '\n",
      "ValueError: Unsupported set of arguments: The combination of penalty='l1' and loss='squared_hinge' are not supported when dual=True, Parameters: penalty='l1', loss='squared_hinge', dual=True\n",
      "\n",
      "  warnings.warn(\"Estimator fit failed. The score on this train-test\"\n",
      "C:\\Users\\12108\\anaconda3\\envs\\BUAN_6341\\lib\\site-packages\\sklearn\\model_selection\\_validation.py:548: FitFailedWarning: Estimator fit failed. The score on this train-test partition for these parameters will be set to nan. Details: \n",
      "Traceback (most recent call last):\n",
      "  File \"C:\\Users\\12108\\anaconda3\\envs\\BUAN_6341\\lib\\site-packages\\sklearn\\model_selection\\_validation.py\", line 531, in _fit_and_score\n",
      "    estimator.fit(X_train, y_train, **fit_params)\n",
      "  File \"C:\\Users\\12108\\anaconda3\\envs\\BUAN_6341\\lib\\site-packages\\sklearn\\svm\\_classes.py\", line 233, in fit\n",
      "    self.coef_, self.intercept_, self.n_iter_ = _fit_liblinear(\n",
      "  File \"C:\\Users\\12108\\anaconda3\\envs\\BUAN_6341\\lib\\site-packages\\sklearn\\svm\\_base.py\", line 965, in _fit_liblinear\n",
      "    solver_type = _get_liblinear_solver_type(multi_class, penalty, loss, dual)\n",
      "  File \"C:\\Users\\12108\\anaconda3\\envs\\BUAN_6341\\lib\\site-packages\\sklearn\\svm\\_base.py\", line 821, in _get_liblinear_solver_type\n",
      "    raise ValueError('Unsupported set of arguments: %s, '\n",
      "ValueError: Unsupported set of arguments: The combination of penalty='l1' and loss='squared_hinge' are not supported when dual=True, Parameters: penalty='l1', loss='squared_hinge', dual=True\n",
      "\n",
      "  warnings.warn(\"Estimator fit failed. The score on this train-test\"\n",
      "C:\\Users\\12108\\anaconda3\\envs\\BUAN_6341\\lib\\site-packages\\sklearn\\model_selection\\_validation.py:548: FitFailedWarning: Estimator fit failed. The score on this train-test partition for these parameters will be set to nan. Details: \n",
      "Traceback (most recent call last):\n",
      "  File \"C:\\Users\\12108\\anaconda3\\envs\\BUAN_6341\\lib\\site-packages\\sklearn\\model_selection\\_validation.py\", line 531, in _fit_and_score\n",
      "    estimator.fit(X_train, y_train, **fit_params)\n",
      "  File \"C:\\Users\\12108\\anaconda3\\envs\\BUAN_6341\\lib\\site-packages\\sklearn\\svm\\_classes.py\", line 233, in fit\n",
      "    self.coef_, self.intercept_, self.n_iter_ = _fit_liblinear(\n",
      "  File \"C:\\Users\\12108\\anaconda3\\envs\\BUAN_6341\\lib\\site-packages\\sklearn\\svm\\_base.py\", line 965, in _fit_liblinear\n",
      "    solver_type = _get_liblinear_solver_type(multi_class, penalty, loss, dual)\n",
      "  File \"C:\\Users\\12108\\anaconda3\\envs\\BUAN_6341\\lib\\site-packages\\sklearn\\svm\\_base.py\", line 821, in _get_liblinear_solver_type\n",
      "    raise ValueError('Unsupported set of arguments: %s, '\n",
      "ValueError: Unsupported set of arguments: The combination of penalty='l1' and loss='squared_hinge' are not supported when dual=True, Parameters: penalty='l1', loss='squared_hinge', dual=True\n",
      "\n",
      "  warnings.warn(\"Estimator fit failed. The score on this train-test\"\n",
      "C:\\Users\\12108\\anaconda3\\envs\\BUAN_6341\\lib\\site-packages\\sklearn\\model_selection\\_validation.py:548: FitFailedWarning: Estimator fit failed. The score on this train-test partition for these parameters will be set to nan. Details: \n",
      "Traceback (most recent call last):\n",
      "  File \"C:\\Users\\12108\\anaconda3\\envs\\BUAN_6341\\lib\\site-packages\\sklearn\\model_selection\\_validation.py\", line 531, in _fit_and_score\n",
      "    estimator.fit(X_train, y_train, **fit_params)\n",
      "  File \"C:\\Users\\12108\\anaconda3\\envs\\BUAN_6341\\lib\\site-packages\\sklearn\\svm\\_classes.py\", line 233, in fit\n",
      "    self.coef_, self.intercept_, self.n_iter_ = _fit_liblinear(\n",
      "  File \"C:\\Users\\12108\\anaconda3\\envs\\BUAN_6341\\lib\\site-packages\\sklearn\\svm\\_base.py\", line 965, in _fit_liblinear\n",
      "    solver_type = _get_liblinear_solver_type(multi_class, penalty, loss, dual)\n",
      "  File \"C:\\Users\\12108\\anaconda3\\envs\\BUAN_6341\\lib\\site-packages\\sklearn\\svm\\_base.py\", line 821, in _get_liblinear_solver_type\n",
      "    raise ValueError('Unsupported set of arguments: %s, '\n",
      "ValueError: Unsupported set of arguments: The combination of penalty='l1' and loss='squared_hinge' are not supported when dual=True, Parameters: penalty='l1', loss='squared_hinge', dual=True\n",
      "\n",
      "  warnings.warn(\"Estimator fit failed. The score on this train-test\"\n",
      "C:\\Users\\12108\\anaconda3\\envs\\BUAN_6341\\lib\\site-packages\\sklearn\\model_selection\\_validation.py:548: FitFailedWarning: Estimator fit failed. The score on this train-test partition for these parameters will be set to nan. Details: \n",
      "Traceback (most recent call last):\n",
      "  File \"C:\\Users\\12108\\anaconda3\\envs\\BUAN_6341\\lib\\site-packages\\sklearn\\model_selection\\_validation.py\", line 531, in _fit_and_score\n",
      "    estimator.fit(X_train, y_train, **fit_params)\n",
      "  File \"C:\\Users\\12108\\anaconda3\\envs\\BUAN_6341\\lib\\site-packages\\sklearn\\svm\\_classes.py\", line 233, in fit\n",
      "    self.coef_, self.intercept_, self.n_iter_ = _fit_liblinear(\n",
      "  File \"C:\\Users\\12108\\anaconda3\\envs\\BUAN_6341\\lib\\site-packages\\sklearn\\svm\\_base.py\", line 965, in _fit_liblinear\n",
      "    solver_type = _get_liblinear_solver_type(multi_class, penalty, loss, dual)\n",
      "  File \"C:\\Users\\12108\\anaconda3\\envs\\BUAN_6341\\lib\\site-packages\\sklearn\\svm\\_base.py\", line 821, in _get_liblinear_solver_type\n",
      "    raise ValueError('Unsupported set of arguments: %s, '\n",
      "ValueError: Unsupported set of arguments: The combination of penalty='l1' and loss='squared_hinge' are not supported when dual=True, Parameters: penalty='l1', loss='squared_hinge', dual=True\n",
      "\n",
      "  warnings.warn(\"Estimator fit failed. The score on this train-test\"\n",
      "C:\\Users\\12108\\anaconda3\\envs\\BUAN_6341\\lib\\site-packages\\sklearn\\svm\\_base.py:976: ConvergenceWarning: Liblinear failed to converge, increase the number of iterations.\n",
      "  warnings.warn(\"Liblinear failed to converge, increase \"\n",
      "C:\\Users\\12108\\anaconda3\\envs\\BUAN_6341\\lib\\site-packages\\sklearn\\svm\\_base.py:976: ConvergenceWarning: Liblinear failed to converge, increase the number of iterations.\n",
      "  warnings.warn(\"Liblinear failed to converge, increase \"\n"
     ]
    },
    {
     "name": "stdout",
     "output_type": "stream",
     "text": [
      "[CV] ... C=1000, max_iter=1000, penalty=l2, score=0.596, total=   0.5s\n",
      "[CV] C=1000, max_iter=100, penalty=l1 ................................\n",
      "[CV] ...... C=1000, max_iter=100, penalty=l1, score=nan, total=   0.0s\n",
      "[CV] C=1000, max_iter=100, penalty=l1 ................................\n",
      "[CV] ...... C=1000, max_iter=100, penalty=l1, score=nan, total=   0.0s\n",
      "[CV] C=1000, max_iter=100, penalty=l1 ................................\n",
      "[CV] ...... C=1000, max_iter=100, penalty=l1, score=nan, total=   0.0s\n",
      "[CV] C=1000, max_iter=100, penalty=l1 ................................\n",
      "[CV] ...... C=1000, max_iter=100, penalty=l1, score=nan, total=   0.0s\n",
      "[CV] C=1000, max_iter=100, penalty=l1 ................................\n",
      "[CV] ...... C=1000, max_iter=100, penalty=l1, score=nan, total=   0.0s\n",
      "[CV] C=1000, max_iter=100, penalty=l2 ................................\n",
      "[CV] .... C=1000, max_iter=100, penalty=l2, score=0.549, total=   0.1s\n",
      "[CV] C=1000, max_iter=100, penalty=l2 ................................\n",
      "[CV] .... C=1000, max_iter=100, penalty=l2, score=0.611, total=   0.1s\n",
      "[CV] C=1000, max_iter=100, penalty=l2 ................................\n"
     ]
    },
    {
     "name": "stderr",
     "output_type": "stream",
     "text": [
      "C:\\Users\\12108\\anaconda3\\envs\\BUAN_6341\\lib\\site-packages\\sklearn\\svm\\_base.py:976: ConvergenceWarning: Liblinear failed to converge, increase the number of iterations.\n",
      "  warnings.warn(\"Liblinear failed to converge, increase \"\n",
      "C:\\Users\\12108\\anaconda3\\envs\\BUAN_6341\\lib\\site-packages\\sklearn\\svm\\_base.py:976: ConvergenceWarning: Liblinear failed to converge, increase the number of iterations.\n",
      "  warnings.warn(\"Liblinear failed to converge, increase \"\n",
      "C:\\Users\\12108\\anaconda3\\envs\\BUAN_6341\\lib\\site-packages\\sklearn\\svm\\_base.py:976: ConvergenceWarning: Liblinear failed to converge, increase the number of iterations.\n",
      "  warnings.warn(\"Liblinear failed to converge, increase \"\n",
      "C:\\Users\\12108\\anaconda3\\envs\\BUAN_6341\\lib\\site-packages\\sklearn\\model_selection\\_validation.py:548: FitFailedWarning: Estimator fit failed. The score on this train-test partition for these parameters will be set to nan. Details: \n",
      "Traceback (most recent call last):\n",
      "  File \"C:\\Users\\12108\\anaconda3\\envs\\BUAN_6341\\lib\\site-packages\\sklearn\\model_selection\\_validation.py\", line 531, in _fit_and_score\n",
      "    estimator.fit(X_train, y_train, **fit_params)\n",
      "  File \"C:\\Users\\12108\\anaconda3\\envs\\BUAN_6341\\lib\\site-packages\\sklearn\\svm\\_classes.py\", line 233, in fit\n",
      "    self.coef_, self.intercept_, self.n_iter_ = _fit_liblinear(\n",
      "  File \"C:\\Users\\12108\\anaconda3\\envs\\BUAN_6341\\lib\\site-packages\\sklearn\\svm\\_base.py\", line 965, in _fit_liblinear\n",
      "    solver_type = _get_liblinear_solver_type(multi_class, penalty, loss, dual)\n",
      "  File \"C:\\Users\\12108\\anaconda3\\envs\\BUAN_6341\\lib\\site-packages\\sklearn\\svm\\_base.py\", line 821, in _get_liblinear_solver_type\n",
      "    raise ValueError('Unsupported set of arguments: %s, '\n",
      "ValueError: Unsupported set of arguments: The combination of penalty='l1' and loss='squared_hinge' are not supported when dual=True, Parameters: penalty='l1', loss='squared_hinge', dual=True\n",
      "\n",
      "  warnings.warn(\"Estimator fit failed. The score on this train-test\"\n",
      "C:\\Users\\12108\\anaconda3\\envs\\BUAN_6341\\lib\\site-packages\\sklearn\\model_selection\\_validation.py:548: FitFailedWarning: Estimator fit failed. The score on this train-test partition for these parameters will be set to nan. Details: \n",
      "Traceback (most recent call last):\n",
      "  File \"C:\\Users\\12108\\anaconda3\\envs\\BUAN_6341\\lib\\site-packages\\sklearn\\model_selection\\_validation.py\", line 531, in _fit_and_score\n",
      "    estimator.fit(X_train, y_train, **fit_params)\n",
      "  File \"C:\\Users\\12108\\anaconda3\\envs\\BUAN_6341\\lib\\site-packages\\sklearn\\svm\\_classes.py\", line 233, in fit\n",
      "    self.coef_, self.intercept_, self.n_iter_ = _fit_liblinear(\n",
      "  File \"C:\\Users\\12108\\anaconda3\\envs\\BUAN_6341\\lib\\site-packages\\sklearn\\svm\\_base.py\", line 965, in _fit_liblinear\n",
      "    solver_type = _get_liblinear_solver_type(multi_class, penalty, loss, dual)\n",
      "  File \"C:\\Users\\12108\\anaconda3\\envs\\BUAN_6341\\lib\\site-packages\\sklearn\\svm\\_base.py\", line 821, in _get_liblinear_solver_type\n",
      "    raise ValueError('Unsupported set of arguments: %s, '\n",
      "ValueError: Unsupported set of arguments: The combination of penalty='l1' and loss='squared_hinge' are not supported when dual=True, Parameters: penalty='l1', loss='squared_hinge', dual=True\n",
      "\n",
      "  warnings.warn(\"Estimator fit failed. The score on this train-test\"\n",
      "C:\\Users\\12108\\anaconda3\\envs\\BUAN_6341\\lib\\site-packages\\sklearn\\model_selection\\_validation.py:548: FitFailedWarning: Estimator fit failed. The score on this train-test partition for these parameters will be set to nan. Details: \n",
      "Traceback (most recent call last):\n",
      "  File \"C:\\Users\\12108\\anaconda3\\envs\\BUAN_6341\\lib\\site-packages\\sklearn\\model_selection\\_validation.py\", line 531, in _fit_and_score\n",
      "    estimator.fit(X_train, y_train, **fit_params)\n",
      "  File \"C:\\Users\\12108\\anaconda3\\envs\\BUAN_6341\\lib\\site-packages\\sklearn\\svm\\_classes.py\", line 233, in fit\n",
      "    self.coef_, self.intercept_, self.n_iter_ = _fit_liblinear(\n",
      "  File \"C:\\Users\\12108\\anaconda3\\envs\\BUAN_6341\\lib\\site-packages\\sklearn\\svm\\_base.py\", line 965, in _fit_liblinear\n",
      "    solver_type = _get_liblinear_solver_type(multi_class, penalty, loss, dual)\n",
      "  File \"C:\\Users\\12108\\anaconda3\\envs\\BUAN_6341\\lib\\site-packages\\sklearn\\svm\\_base.py\", line 821, in _get_liblinear_solver_type\n",
      "    raise ValueError('Unsupported set of arguments: %s, '\n",
      "ValueError: Unsupported set of arguments: The combination of penalty='l1' and loss='squared_hinge' are not supported when dual=True, Parameters: penalty='l1', loss='squared_hinge', dual=True\n",
      "\n",
      "  warnings.warn(\"Estimator fit failed. The score on this train-test\"\n"
     ]
    },
    {
     "name": "stdout",
     "output_type": "stream",
     "text": [
      "[CV] .... C=1000, max_iter=100, penalty=l2, score=0.565, total=   0.1s\n",
      "[CV] C=1000, max_iter=100, penalty=l2 ................................\n",
      "[CV] .... C=1000, max_iter=100, penalty=l2, score=0.599, total=   0.1s\n",
      "[CV] C=1000, max_iter=100, penalty=l2 ................................\n",
      "[CV] .... C=1000, max_iter=100, penalty=l2, score=0.567, total=   0.1s\n",
      "[CV] C=1000, max_iter=10, penalty=l1 .................................\n",
      "[CV] ....... C=1000, max_iter=10, penalty=l1, score=nan, total=   0.0s\n",
      "[CV] C=1000, max_iter=10, penalty=l1 .................................\n",
      "[CV] ....... C=1000, max_iter=10, penalty=l1, score=nan, total=   0.0s\n",
      "[CV] C=1000, max_iter=10, penalty=l1 .................................\n",
      "[CV] ....... C=1000, max_iter=10, penalty=l1, score=nan, total=   0.0s\n",
      "[CV] C=1000, max_iter=10, penalty=l1 .................................\n",
      "[CV] ....... C=1000, max_iter=10, penalty=l1, score=nan, total=   0.0s\n",
      "[CV] C=1000, max_iter=10, penalty=l1 .................................\n",
      "[CV] ....... C=1000, max_iter=10, penalty=l1, score=nan, total=   0.0s\n",
      "[CV] C=1000, max_iter=10, penalty=l2 .................................\n",
      "[CV] ..... C=1000, max_iter=10, penalty=l2, score=0.570, total=   0.0s\n",
      "[CV] C=1000, max_iter=10, penalty=l2 .................................\n",
      "[CV] ..... C=1000, max_iter=10, penalty=l2, score=0.611, total=   0.0s\n",
      "[CV] C=1000, max_iter=10, penalty=l2 .................................\n",
      "[CV] ..... C=1000, max_iter=10, penalty=l2, score=0.611, total=   0.0s\n",
      "[CV] C=1000, max_iter=10, penalty=l2 .................................\n",
      "[CV] ..... C=1000, max_iter=10, penalty=l2, score=0.603, total=   0.0s\n",
      "[CV] C=1000, max_iter=10, penalty=l2 .................................\n",
      "[CV] ..... C=1000, max_iter=10, penalty=l2, score=0.621, total=   0.0s\n",
      "Best Parameters: {'C': 0.01, 'max_iter': 10, 'penalty': 'l2'}\n",
      "Best:estimator: LinearSVC(C=0.01, max_iter=10, random_state=0)\n",
      "Best Score: 0.6865339634745735\n",
      "Confusion Matrix: [[ 783  622]\n",
      " [ 395 1371]]\n",
      "              precision    recall  f1-score   support\n",
      "\n",
      "           0       0.66      0.56      0.61      1405\n",
      "           1       0.69      0.78      0.73      1766\n",
      "\n",
      "    accuracy                           0.68      3171\n",
      "   macro avg       0.68      0.67      0.67      3171\n",
      "weighted avg       0.68      0.68      0.67      3171\n",
      "\n"
     ]
    },
    {
     "name": "stderr",
     "output_type": "stream",
     "text": [
      "C:\\Users\\12108\\anaconda3\\envs\\BUAN_6341\\lib\\site-packages\\sklearn\\model_selection\\_validation.py:548: FitFailedWarning: Estimator fit failed. The score on this train-test partition for these parameters will be set to nan. Details: \n",
      "Traceback (most recent call last):\n",
      "  File \"C:\\Users\\12108\\anaconda3\\envs\\BUAN_6341\\lib\\site-packages\\sklearn\\model_selection\\_validation.py\", line 531, in _fit_and_score\n",
      "    estimator.fit(X_train, y_train, **fit_params)\n",
      "  File \"C:\\Users\\12108\\anaconda3\\envs\\BUAN_6341\\lib\\site-packages\\sklearn\\svm\\_classes.py\", line 233, in fit\n",
      "    self.coef_, self.intercept_, self.n_iter_ = _fit_liblinear(\n",
      "  File \"C:\\Users\\12108\\anaconda3\\envs\\BUAN_6341\\lib\\site-packages\\sklearn\\svm\\_base.py\", line 965, in _fit_liblinear\n",
      "    solver_type = _get_liblinear_solver_type(multi_class, penalty, loss, dual)\n",
      "  File \"C:\\Users\\12108\\anaconda3\\envs\\BUAN_6341\\lib\\site-packages\\sklearn\\svm\\_base.py\", line 821, in _get_liblinear_solver_type\n",
      "    raise ValueError('Unsupported set of arguments: %s, '\n",
      "ValueError: Unsupported set of arguments: The combination of penalty='l1' and loss='squared_hinge' are not supported when dual=True, Parameters: penalty='l1', loss='squared_hinge', dual=True\n",
      "\n",
      "  warnings.warn(\"Estimator fit failed. The score on this train-test\"\n",
      "C:\\Users\\12108\\anaconda3\\envs\\BUAN_6341\\lib\\site-packages\\sklearn\\model_selection\\_validation.py:548: FitFailedWarning: Estimator fit failed. The score on this train-test partition for these parameters will be set to nan. Details: \n",
      "Traceback (most recent call last):\n",
      "  File \"C:\\Users\\12108\\anaconda3\\envs\\BUAN_6341\\lib\\site-packages\\sklearn\\model_selection\\_validation.py\", line 531, in _fit_and_score\n",
      "    estimator.fit(X_train, y_train, **fit_params)\n",
      "  File \"C:\\Users\\12108\\anaconda3\\envs\\BUAN_6341\\lib\\site-packages\\sklearn\\svm\\_classes.py\", line 233, in fit\n",
      "    self.coef_, self.intercept_, self.n_iter_ = _fit_liblinear(\n",
      "  File \"C:\\Users\\12108\\anaconda3\\envs\\BUAN_6341\\lib\\site-packages\\sklearn\\svm\\_base.py\", line 965, in _fit_liblinear\n",
      "    solver_type = _get_liblinear_solver_type(multi_class, penalty, loss, dual)\n",
      "  File \"C:\\Users\\12108\\anaconda3\\envs\\BUAN_6341\\lib\\site-packages\\sklearn\\svm\\_base.py\", line 821, in _get_liblinear_solver_type\n",
      "    raise ValueError('Unsupported set of arguments: %s, '\n",
      "ValueError: Unsupported set of arguments: The combination of penalty='l1' and loss='squared_hinge' are not supported when dual=True, Parameters: penalty='l1', loss='squared_hinge', dual=True\n",
      "\n",
      "  warnings.warn(\"Estimator fit failed. The score on this train-test\"\n",
      "C:\\Users\\12108\\anaconda3\\envs\\BUAN_6341\\lib\\site-packages\\sklearn\\svm\\_base.py:976: ConvergenceWarning: Liblinear failed to converge, increase the number of iterations.\n",
      "  warnings.warn(\"Liblinear failed to converge, increase \"\n",
      "C:\\Users\\12108\\anaconda3\\envs\\BUAN_6341\\lib\\site-packages\\sklearn\\svm\\_base.py:976: ConvergenceWarning: Liblinear failed to converge, increase the number of iterations.\n",
      "  warnings.warn(\"Liblinear failed to converge, increase \"\n",
      "C:\\Users\\12108\\anaconda3\\envs\\BUAN_6341\\lib\\site-packages\\sklearn\\svm\\_base.py:976: ConvergenceWarning: Liblinear failed to converge, increase the number of iterations.\n",
      "  warnings.warn(\"Liblinear failed to converge, increase \"\n",
      "C:\\Users\\12108\\anaconda3\\envs\\BUAN_6341\\lib\\site-packages\\sklearn\\svm\\_base.py:976: ConvergenceWarning: Liblinear failed to converge, increase the number of iterations.\n",
      "  warnings.warn(\"Liblinear failed to converge, increase \"\n",
      "C:\\Users\\12108\\anaconda3\\envs\\BUAN_6341\\lib\\site-packages\\sklearn\\svm\\_base.py:976: ConvergenceWarning: Liblinear failed to converge, increase the number of iterations.\n",
      "  warnings.warn(\"Liblinear failed to converge, increase \"\n",
      "[Parallel(n_jobs=1)]: Done 150 out of 150 | elapsed:   10.3s finished\n",
      "C:\\Users\\12108\\anaconda3\\envs\\BUAN_6341\\lib\\site-packages\\sklearn\\svm\\_base.py:976: ConvergenceWarning: Liblinear failed to converge, increase the number of iterations.\n",
      "  warnings.warn(\"Liblinear failed to converge, increase \"\n"
     ]
    }
   ],
   "source": [
    "# Runs Linear SVC\n",
    "from sklearn.svm import LinearSVC\n",
    "\n",
    "\n",
    "grid_param = {'penalty':['l1','l2'],'C': [0.01,0.1, 1, 10], \n",
    "              'max_iter': [1000,100,10]}\n",
    "\n",
    "\n",
    "\n",
    "lsvc= GridSearchCV(LinearSVC(random_state=0), param_grid=grid_param, refit = True, verbose = 3)\n",
    "\n",
    "lsvc.fit(X_train, y_train)\n",
    "   \n",
    "print('Best Parameters:',lsvc.best_params_)    \n",
    "print('Best:estimator:',lsvc.best_estimator_)\n",
    "print('Best Score:', lsvc.best_score_)\n",
    "    \n",
    "lsvc_predictions = lsvc.predict(X_test)\n",
    "\n",
    "\n",
    "print(\"Confusion Matrix:\",confusion_matrix(y_test,lsvc_predictions))\n",
    "\n",
    "print(classification_report(y_test, lsvc_predictions))\n",
    "\n",
    "\n"
   ]
  },
  {
   "cell_type": "code",
   "execution_count": 148,
   "id": "final-netherlands",
   "metadata": {
    "scrolled": true
   },
   "outputs": [
    {
     "name": "stdout",
     "output_type": "stream",
     "text": [
      "Train set score: 0.6894\n",
      "Test set score: 0.6673\n",
      "              precision    recall  f1-score   support\n",
      "\n",
      "           0       0.57      0.64      0.60      1264\n",
      "           1       0.74      0.69      0.71      1907\n",
      "\n",
      "    accuracy                           0.67      3171\n",
      "   macro avg       0.66      0.66      0.66      3171\n",
      "weighted avg       0.67      0.67      0.67      3171\n",
      "\n"
     ]
    },
    {
     "name": "stderr",
     "output_type": "stream",
     "text": [
      "C:\\Users\\12108\\anaconda3\\envs\\BUAN_6341\\lib\\site-packages\\sklearn\\svm\\_base.py:976: ConvergenceWarning: Liblinear failed to converge, increase the number of iterations.\n",
      "  warnings.warn(\"Liblinear failed to converge, increase \"\n"
     ]
    }
   ],
   "source": [
    "# Fits Best Parameters found for Kernelized Support Vector Machine\n",
    "\n",
    "\n",
    "lsvc_best = LinearSVC(C=0.1, max_iter=10, penalty='l2')\n",
    "\n",
    "lsvc_best.fit(X_train, y_train)\n",
    "\n",
    "\n",
    "# predict probabilities\n",
    "\n",
    "pred_problsvc_best = lsvc_best.predict(X_test)\n",
    "\n",
    "print(\"Train set score: {:.4f}\".format(lsvc_best.score(X_train, y_train)))\n",
    "print(\"Test set score: {:.4f}\".format(lsvc_best.score(X_test, y_test)))\n",
    "\n",
    "\n",
    "lsvc_bestclasses = lsvc_best.predict(X_test)\n",
    "print(metrics.classification_report(lsvc_bestclasses, y_test))\n",
    "\n"
   ]
  },
  {
   "cell_type": "code",
   "execution_count": 146,
   "id": "charged-update",
   "metadata": {},
   "outputs": [
    {
     "name": "stdout",
     "output_type": "stream",
     "text": [
      " \n",
      " The Linear SVC has an accuracy of : 0.6660359508041628 ,\n",
      " The Linear SVC has a balanced accuracy of : 0.6622624585143326 ,\n",
      " The Linear SVC has precision : 0.766704416761042 ,\n",
      " The Linear SVC has an average precision of : 0.7228360719220496 ,\n",
      " The Linear SVC has an f1 score of : 0.7188744358906292 ,\n",
      " The Linear SVC has a recall of : 0.6766616691654173 ,\n",
      " The Linear SVC has an ROC-AUC of : 0.7316341088895428\n"
     ]
    }
   ],
   "source": [
    "# Printing Various Scores of Linear SVC Model Effectiveness\n",
    "\n",
    "classes = lsvc_best.predict(X_test)\n",
    "\n",
    "accuracy = metrics.accuracy_score(classes, y_test)\n",
    "    \n",
    "balanced_accuracy = metrics.balanced_accuracy_score(classes, y_test)\n",
    "\n",
    "precision = metrics.precision_score(classes, y_test)\n",
    "    \n",
    "average_precision = metrics.average_precision_score(classes, y_test)\n",
    "    \n",
    "f1_score = metrics.f1_score(classes, y_test)\n",
    "    \n",
    "recall = metrics.recall_score(classes, y_test)\n",
    "\n",
    "print (\" \\n The Linear SVC has an accuracy of :\", accuracy,\",\\n The Linear SVC has a balanced accuracy of :\"\n",
    "       \n",
    "       , balanced_accuracy,\",\\n The Linear SVC has precision :\", precision, \",\\n The Linear SVC has an average precision of :\", average_precision,\",\\n The Linear SVC has an f1 score of :\" ,f1_score,\",\\n The Linear SVC has a recall of :\", recall, \",\\n The Linear SVC has an ROC-AUC of :\", roc_auc)\n"
   ]
  },
  {
   "cell_type": "markdown",
   "id": "forty-criterion",
   "metadata": {},
   "source": [
    "# 6. Conclusion"
   ]
  },
  {
   "cell_type": "markdown",
   "id": "excellent-documentation",
   "metadata": {},
   "source": [
    "In conclusion, the best fitting classification model that was tested was also the longest model to run, which was the Kernelized Support Vector Machine, using the rbf kernel, with gamma=0.1, and C=1. The orginal use of GridSearchCV() for the kernel svc model ran for over an hour and the result was worth the wait, as the best scoring model had a 0.819 area under the ROC curve, which was the highest ranking of all the models. The second best model was KNN, with an area under the curve of 0.774 and this was followed by one of the decision tree classifier, with an area under the curve of 0.741. Overall, I was pleased with the relative effectiveness of the SVM model in this starter project, and the evaluation method that was used to compare each model. \n"
   ]
  }
 ],
 "metadata": {
  "kernelspec": {
   "display_name": "Python 3 (ipykernel)",
   "language": "python",
   "name": "python3"
  },
  "language_info": {
   "codemirror_mode": {
    "name": "ipython",
    "version": 3
   },
   "file_extension": ".py",
   "mimetype": "text/x-python",
   "name": "python",
   "nbconvert_exporter": "python",
   "pygments_lexer": "ipython3",
   "version": "3.8.13"
  }
 },
 "nbformat": 4,
 "nbformat_minor": 5
}
